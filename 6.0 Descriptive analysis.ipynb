{
 "cells": [
  {
   "cell_type": "markdown",
   "id": "947ba207",
   "metadata": {},
   "source": [
    "# Descriptive Analysis"
   ]
  },
  {
   "cell_type": "markdown",
   "id": "c981f015",
   "metadata": {},
   "source": [
    "## Importing libraries"
   ]
  },
  {
   "cell_type": "code",
   "execution_count": 1,
   "id": "bd2ef484",
   "metadata": {},
   "outputs": [],
   "source": [
    "import pandas as pd\n",
    "import numpy as np\n",
    "import matplotlib.pyplot as plt\n",
    "import seaborn as sns\n",
    "import time\n",
    "from datetime import date\n",
    "import re"
   ]
  },
  {
   "cell_type": "code",
   "execution_count": 2,
   "id": "f2a8895e",
   "metadata": {},
   "outputs": [],
   "source": [
    "pd.set_option('display.max_columns', None)"
   ]
  },
  {
   "cell_type": "markdown",
   "id": "b36bed93",
   "metadata": {},
   "source": [
    "## Loading data"
   ]
  },
  {
   "cell_type": "code",
   "execution_count": 3,
   "id": "5abdfe9a",
   "metadata": {},
   "outputs": [],
   "source": [
    "ratings_df = pd.read_csv('Prepared Frames/rating_data.csv')\n",
    "main_df = pd.read_csv('Prepared Frames/rated.csv')"
   ]
  },
  {
   "cell_type": "code",
   "execution_count": 4,
   "id": "82b45895",
   "metadata": {},
   "outputs": [
    {
     "data": {
      "text/plain": [
       "Index(['Ticker', 'Company Name', 'IndustryId', 'Fiscal Year', 'Fiscal Period',\n",
       "       'Report Date', 'Shares (Diluted)',\n",
       "       'Cash, Cash Equivalents & Short Term Investments',\n",
       "       'Accounts & Notes Receivable', 'Total Current Assets',\n",
       "       'Property, Plant & Equipment, Net', 'Other Long Term Assets',\n",
       "       'Total Noncurrent Assets', 'Total Assets', 'Payables & Accruals',\n",
       "       'Total Current Liabilities', 'Total Noncurrent Liabilities',\n",
       "       'Total Liabilities', 'Share Capital & Additional Paid-In Capital',\n",
       "       'Retained Earnings', 'Total Equity', 'Revenue', 'Cost of Revenue',\n",
       "       'Gross Profit', 'Operating Expenses',\n",
       "       'Selling, General & Administrative', 'Operating Income (Loss)',\n",
       "       'Non-Operating Income (Loss)', 'Interest Expense, Net',\n",
       "       'Pretax Income (Loss), Adj.', 'Abnormal Gains (Losses)',\n",
       "       'Pretax Income (Loss)', 'Income Tax (Expense) Benefit, Net',\n",
       "       'Income (Loss) from Continuing Operations',\n",
       "       'Net Extraordinary Gains (Losses)', 'Net Income', 'Net Income (Common)',\n",
       "       'Sector', 'Industry', 'difflib', 'Rating'],\n",
       "      dtype='object')"
      ]
     },
     "execution_count": 4,
     "metadata": {},
     "output_type": "execute_result"
    }
   ],
   "source": [
    "main_df.columns"
   ]
  },
  {
   "cell_type": "markdown",
   "id": "4c0a7496",
   "metadata": {},
   "source": [
    "## Removing bad data\n",
    "During the analysis I repeatedly came across implausible data or mismatched companies.\n",
    "I will drop the problematic entries here at the beginning of the notebook, so that all consecutive analysis are also corrected."
   ]
  },
  {
   "cell_type": "code",
   "execution_count": null,
   "id": "44c95671",
   "metadata": {},
   "outputs": [],
   "source": []
  },
  {
   "cell_type": "code",
   "execution_count": 5,
   "id": "7ddc86cd",
   "metadata": {},
   "outputs": [],
   "source": [
    "# This company was mismatched\n",
    "main_df = main_df[main_df['Ticker']!='RBBN']\n",
    "# This row has implausible data, the interest expenses are 10 times higher than their whole assets\n",
    "main_df.drop(index =[1856],inplace = True, axis = 0)"
   ]
  },
  {
   "cell_type": "code",
   "execution_count": 6,
   "id": "e8d7dacb",
   "metadata": {},
   "outputs": [
    {
     "data": {
      "text/plain": [
       "1863"
      ]
     },
     "execution_count": 6,
     "metadata": {},
     "output_type": "execute_result"
    }
   ],
   "source": [
    "main_df.index[1857]"
   ]
  },
  {
   "cell_type": "markdown",
   "id": "bde2b1d0",
   "metadata": {},
   "source": [
    "## About the ratings"
   ]
  },
  {
   "cell_type": "markdown",
   "id": "2df89114",
   "metadata": {},
   "source": [
    "https://www.moodys.com/sites/products/productattachments/ap075378_1_1408_ki.pdf"
   ]
  },
  {
   "cell_type": "markdown",
   "id": "6e06b036",
   "metadata": {},
   "source": [
    "We are looking at moodys long term credit ratings. They are structured in the following order from best to worst.\n",
    "\n",
    "Investment grade:\n",
    "Aaa\n",
    "Aa\n",
    "A\n",
    "Baa\n",
    "\n",
    "Non Investment Grade:\n",
    "Ba\n",
    "B\n",
    "Caa\n",
    "Ca\n",
    "C\n",
    "\n",
    "Default:\n",
    "D\n",
    "\n",
    "The appended number is an indicator weather a company ranges on the upper or lower end of their credit\n",
    "rating.\n",
    "Sice these create a lot of sub-categories we will remove the appended numbers and just look at the actual ratings."
   ]
  },
  {
   "cell_type": "code",
   "execution_count": 7,
   "id": "23b88476",
   "metadata": {},
   "outputs": [],
   "source": [
    "# Removing numbers:\n",
    "def rem_digits(rating):\n",
    "    return re.sub('[0-9]','',rating)\n",
    "\n",
    "main_df['Rating'] = main_df['Rating'].apply(rem_digits)"
   ]
  },
  {
   "cell_type": "code",
   "execution_count": 8,
   "id": "c61aa152",
   "metadata": {},
   "outputs": [],
   "source": [
    "# Extra column for sorting\n",
    "# Since sorting the rating alphabetically does not give us the right order. \n",
    "# I will create an extra column with a numerized version, that will help us visualize better.\n",
    "\n",
    "rating_numbered = {'Aaa':11,'Aa':12,'A':13,'Baa':21,'Ba':22,'B':23,'Caa':31,'Ca':32,'C':33,'D':40}\n",
    "main_df['Rating_numbered'] = main_df['Rating'].map(rating_numbered)"
   ]
  },
  {
   "cell_type": "markdown",
   "id": "0f5d3a1b",
   "metadata": {},
   "source": [
    "## Distribution of ratings"
   ]
  },
  {
   "cell_type": "code",
   "execution_count": 9,
   "id": "38b72c11",
   "metadata": {},
   "outputs": [
    {
     "data": {
      "text/plain": [
       "<AxesSubplot:xlabel='Rating', ylabel='count'>"
      ]
     },
     "execution_count": 9,
     "metadata": {},
     "output_type": "execute_result"
    },
    {
     "data": {
      "image/png": "[encoded data removed]",
      "text/plain": [
       "<Figure size 640x480 with 1 Axes>"
      ]
     },
     "metadata": {},
     "output_type": "display_data"
    }
   ],
   "source": [
    "# We can see a big number of companies with B ratings and very few with A or C\n",
    "sns.countplot(x='Rating', data=main_df.sort_values(by = ['Rating_numbered'], ascending = False))"
   ]
  },
  {
   "cell_type": "markdown",
   "id": "e820cb6b",
   "metadata": {},
   "source": [
    "We can see a lot of concentration on the middle field, with a low amount of companies in the A-grade range.\n",
    "It looks, like the majority of companies are non investment grade. We will look at the numbers."
   ]
  },
  {
   "cell_type": "code",
   "execution_count": 10,
   "id": "5fb3066b",
   "metadata": {},
   "outputs": [
    {
     "data": {
      "text/plain": [
       "16.567828020756114"
      ]
     },
     "execution_count": 10,
     "metadata": {},
     "output_type": "execute_result"
    }
   ],
   "source": [
    "# Investment grade:\n",
    "id_count = len(main_df[main_df['Rating_numbered']<22])\n",
    "id_count\n",
    "entries = len(main_df)\n",
    "\n",
    "id_count/len(main_df) *100"
   ]
  },
  {
   "cell_type": "markdown",
   "id": "dca49aa6",
   "metadata": {},
   "source": [
    "## Insight :\n",
    "Only 19 percent of our dataframe are investment grade."
   ]
  },
  {
   "cell_type": "markdown",
   "id": "b1d30fcb",
   "metadata": {},
   "source": [
    "## Interest expenses\n",
    "We calculate a columnm, that gives us an estimate of the average interst expense of a company in relation to their total debt load."
   ]
  },
  {
   "cell_type": "code",
   "execution_count": 11,
   "id": "b1344031",
   "metadata": {},
   "outputs": [
    {
     "data": {
      "text/plain": [
       "Index(['Ticker', 'Company Name', 'IndustryId', 'Fiscal Year', 'Fiscal Period',\n",
       "       'Report Date', 'Shares (Diluted)',\n",
       "       'Cash, Cash Equivalents & Short Term Investments',\n",
       "       'Accounts & Notes Receivable', 'Total Current Assets',\n",
       "       'Property, Plant & Equipment, Net', 'Other Long Term Assets',\n",
       "       'Total Noncurrent Assets', 'Total Assets', 'Payables & Accruals',\n",
       "       'Total Current Liabilities', 'Total Noncurrent Liabilities',\n",
       "       'Total Liabilities', 'Share Capital & Additional Paid-In Capital',\n",
       "       'Retained Earnings', 'Total Equity', 'Revenue', 'Cost of Revenue',\n",
       "       'Gross Profit', 'Operating Expenses',\n",
       "       'Selling, General & Administrative', 'Operating Income (Loss)',\n",
       "       'Non-Operating Income (Loss)', 'Interest Expense, Net',\n",
       "       'Pretax Income (Loss), Adj.', 'Abnormal Gains (Losses)',\n",
       "       'Pretax Income (Loss)', 'Income Tax (Expense) Benefit, Net',\n",
       "       'Income (Loss) from Continuing Operations',\n",
       "       'Net Extraordinary Gains (Losses)', 'Net Income', 'Net Income (Common)',\n",
       "       'Sector', 'Industry', 'difflib', 'Rating', 'Rating_numbered'],\n",
       "      dtype='object')"
      ]
     },
     "execution_count": 11,
     "metadata": {},
     "output_type": "execute_result"
    }
   ],
   "source": [
    "main_df.columns"
   ]
  },
  {
   "cell_type": "markdown",
   "id": "5039580d",
   "metadata": {},
   "source": []
  },
  {
   "cell_type": "markdown",
   "id": "6dd34742",
   "metadata": {},
   "source": [
    "I multiply in the end with 100 to have the number as a percentage.\n",
    "Since I divide by the interest expenses, which have a negative sign, I negate that, to get a positive percentage.\n",
    "Some companies have actual income through this, since they have big cash or investment postitions, I will not include them,\n",
    "because we are interested in if copmpanies have to pay more because of their rating. These companies now end up with a - in front of their interest rate."
   ]
  },
  {
   "cell_type": "markdown",
   "id": "b6205aad",
   "metadata": {},
   "source": []
  },
  {
   "cell_type": "code",
   "execution_count": 12,
   "id": "3f84ba89",
   "metadata": {},
   "outputs": [],
   "source": [
    "main_df['interest_rate'] = main_df['Interest Expense, Net']/main_df['Total Liabilities']*-100"
   ]
  },
  {
   "cell_type": "code",
   "execution_count": 13,
   "id": "e9ffc065",
   "metadata": {},
   "outputs": [
    {
     "data": {
      "text/plain": [
       "-11.18036080994546"
      ]
     },
     "execution_count": 13,
     "metadata": {},
     "output_type": "execute_result"
    }
   ],
   "source": [
    "main_df['interest_rate'].min()"
   ]
  },
  {
   "cell_type": "code",
   "execution_count": 14,
   "id": "ea7ba702",
   "metadata": {},
   "outputs": [
    {
     "data": {
      "text/plain": [
       "5.077309502490027"
      ]
     },
     "execution_count": 14,
     "metadata": {},
     "output_type": "execute_result"
    }
   ],
   "source": [
    "main_df['interest_rate'].max()"
   ]
  },
  {
   "cell_type": "code",
   "execution_count": 15,
   "id": "284e1377",
   "metadata": {},
   "outputs": [
    {
     "data": {
      "text/html": [
       "<div>\n",
       "<style scoped>\n",
       "    .dataframe tbody tr th:only-of-type {\n",
       "        vertical-align: middle;\n",
       "    }\n",
       "\n",
       "    .dataframe tbody tr th {\n",
       "        vertical-align: top;\n",
       "    }\n",
       "\n",
       "    .dataframe thead th {\n",
       "        text-align: right;\n",
       "    }\n",
       "</style>\n",
       "<table border=\"1\" class=\"dataframe\">\n",
       "  <thead>\n",
       "    <tr style=\"text-align: right;\">\n",
       "      <th></th>\n",
       "      <th>Ticker</th>\n",
       "      <th>Company Name</th>\n",
       "      <th>IndustryId</th>\n",
       "      <th>Fiscal Year</th>\n",
       "      <th>Fiscal Period</th>\n",
       "      <th>Report Date</th>\n",
       "      <th>Shares (Diluted)</th>\n",
       "      <th>Cash, Cash Equivalents &amp; Short Term Investments</th>\n",
       "      <th>Accounts &amp; Notes Receivable</th>\n",
       "      <th>Total Current Assets</th>\n",
       "      <th>Property, Plant &amp; Equipment, Net</th>\n",
       "      <th>Other Long Term Assets</th>\n",
       "      <th>Total Noncurrent Assets</th>\n",
       "      <th>Total Assets</th>\n",
       "      <th>Payables &amp; Accruals</th>\n",
       "      <th>Total Current Liabilities</th>\n",
       "      <th>Total Noncurrent Liabilities</th>\n",
       "      <th>Total Liabilities</th>\n",
       "      <th>Share Capital &amp; Additional Paid-In Capital</th>\n",
       "      <th>Retained Earnings</th>\n",
       "      <th>Total Equity</th>\n",
       "      <th>Revenue</th>\n",
       "      <th>Cost of Revenue</th>\n",
       "      <th>Gross Profit</th>\n",
       "      <th>Operating Expenses</th>\n",
       "      <th>Selling, General &amp; Administrative</th>\n",
       "      <th>Operating Income (Loss)</th>\n",
       "      <th>Non-Operating Income (Loss)</th>\n",
       "      <th>Interest Expense, Net</th>\n",
       "      <th>Pretax Income (Loss), Adj.</th>\n",
       "      <th>Abnormal Gains (Losses)</th>\n",
       "      <th>Pretax Income (Loss)</th>\n",
       "      <th>Income Tax (Expense) Benefit, Net</th>\n",
       "      <th>Income (Loss) from Continuing Operations</th>\n",
       "      <th>Net Extraordinary Gains (Losses)</th>\n",
       "      <th>Net Income</th>\n",
       "      <th>Net Income (Common)</th>\n",
       "      <th>Sector</th>\n",
       "      <th>Industry</th>\n",
       "      <th>difflib</th>\n",
       "      <th>Rating</th>\n",
       "      <th>Rating_numbered</th>\n",
       "      <th>interest_rate</th>\n",
       "    </tr>\n",
       "  </thead>\n",
       "  <tbody>\n",
       "    <tr>\n",
       "      <th>2708</th>\n",
       "      <td>EXEL</td>\n",
       "      <td>EXELIXIS, INC.</td>\n",
       "      <td>106002.0</td>\n",
       "      <td>2019</td>\n",
       "      <td>Q3</td>\n",
       "      <td>2019-09-30</td>\n",
       "      <td>315566000.0</td>\n",
       "      <td>760667000.0</td>\n",
       "      <td>1.835890e+08</td>\n",
       "      <td>9.721120e+08</td>\n",
       "      <td>4.946700e+07</td>\n",
       "      <td>2.765230e+08</td>\n",
       "      <td>8.127530e+08</td>\n",
       "      <td>1.784865e+09</td>\n",
       "      <td>7.836800e+07</td>\n",
       "      <td>1.410690e+08</td>\n",
       "      <td>4.007900e+07</td>\n",
       "      <td>1.811480e+08</td>\n",
       "      <td>2.229143e+09</td>\n",
       "      <td>-6.280940e+08</td>\n",
       "      <td>1.603717e+09</td>\n",
       "      <td>2.717030e+08</td>\n",
       "      <td>-7.537000e+06</td>\n",
       "      <td>264166000.0</td>\n",
       "      <td>-148560000.0</td>\n",
       "      <td>-51265000.0</td>\n",
       "      <td>115606000.0</td>\n",
       "      <td>7051000.0</td>\n",
       "      <td>20253000.0</td>\n",
       "      <td>122657000.0</td>\n",
       "      <td>0.0</td>\n",
       "      <td>122657000.0</td>\n",
       "      <td>-25205000.0</td>\n",
       "      <td>97452000.0</td>\n",
       "      <td>0.0</td>\n",
       "      <td>97452000.0</td>\n",
       "      <td>97452000.0</td>\n",
       "      <td>Healthcare</td>\n",
       "      <td>Biotechnology</td>\n",
       "      <td>exelis, inc.</td>\n",
       "      <td>Ba</td>\n",
       "      <td>22</td>\n",
       "      <td>-11.180361</td>\n",
       "    </tr>\n",
       "    <tr>\n",
       "      <th>1956</th>\n",
       "      <td>EXEL</td>\n",
       "      <td>EXELIXIS, INC.</td>\n",
       "      <td>106002.0</td>\n",
       "      <td>2018</td>\n",
       "      <td>Q4</td>\n",
       "      <td>2018-12-31</td>\n",
       "      <td>312818000.0</td>\n",
       "      <td>693334000.0</td>\n",
       "      <td>1.627710e+08</td>\n",
       "      <td>8.970160e+08</td>\n",
       "      <td>5.089700e+07</td>\n",
       "      <td>3.171860e+08</td>\n",
       "      <td>5.252700e+08</td>\n",
       "      <td>1.422286e+09</td>\n",
       "      <td>9.051800e+07</td>\n",
       "      <td>1.054720e+08</td>\n",
       "      <td>2.936100e+07</td>\n",
       "      <td>1.348330e+08</td>\n",
       "      <td>2.168517e+09</td>\n",
       "      <td>-8.803630e+08</td>\n",
       "      <td>1.287453e+09</td>\n",
       "      <td>2.286020e+08</td>\n",
       "      <td>-7.352000e+06</td>\n",
       "      <td>221250000.0</td>\n",
       "      <td>-109648000.0</td>\n",
       "      <td>-52377000.0</td>\n",
       "      <td>111602000.0</td>\n",
       "      <td>4770000.0</td>\n",
       "      <td>12841000.0</td>\n",
       "      <td>116372000.0</td>\n",
       "      <td>0.0</td>\n",
       "      <td>116372000.0</td>\n",
       "      <td>243717000.0</td>\n",
       "      <td>360089000.0</td>\n",
       "      <td>0.0</td>\n",
       "      <td>360089000.0</td>\n",
       "      <td>360089000.0</td>\n",
       "      <td>Healthcare</td>\n",
       "      <td>Biotechnology</td>\n",
       "      <td>exelis, inc.</td>\n",
       "      <td>Ba</td>\n",
       "      <td>22</td>\n",
       "      <td>-9.523633</td>\n",
       "    </tr>\n",
       "    <tr>\n",
       "      <th>1981</th>\n",
       "      <td>AAC_delist</td>\n",
       "      <td>AAC Holdings, Inc.</td>\n",
       "      <td>106011.0</td>\n",
       "      <td>2018</td>\n",
       "      <td>Q4</td>\n",
       "      <td>2018-12-31</td>\n",
       "      <td>24243906.0</td>\n",
       "      <td>5409000.0</td>\n",
       "      <td>4.786000e+07</td>\n",
       "      <td>6.396400e+07</td>\n",
       "      <td>1.669210e+08</td>\n",
       "      <td>2.213920e+08</td>\n",
       "      <td>3.883130e+08</td>\n",
       "      <td>4.522770e+08</td>\n",
       "      <td>5.193000e+07</td>\n",
       "      <td>3.614450e+08</td>\n",
       "      <td>4.855900e+07</td>\n",
       "      <td>4.100040e+08</td>\n",
       "      <td>1.619870e+08</td>\n",
       "      <td>-9.757400e+07</td>\n",
       "      <td>4.227300e+07</td>\n",
       "      <td>5.744800e+07</td>\n",
       "      <td>-6.800700e+07</td>\n",
       "      <td>-10559000.0</td>\n",
       "      <td>-14203000.0</td>\n",
       "      <td>-5524000.0</td>\n",
       "      <td>-24762000.0</td>\n",
       "      <td>23518000.0</td>\n",
       "      <td>23340000.0</td>\n",
       "      <td>-1244000.0</td>\n",
       "      <td>0.0</td>\n",
       "      <td>-40174000.0</td>\n",
       "      <td>1729000.0</td>\n",
       "      <td>-38445000.0</td>\n",
       "      <td>0.0</td>\n",
       "      <td>-36677000.0</td>\n",
       "      <td>-36677000.0</td>\n",
       "      <td>Healthcare</td>\n",
       "      <td>Health Care Providers</td>\n",
       "      <td>aac holdings, inc.</td>\n",
       "      <td>Caa</td>\n",
       "      <td>31</td>\n",
       "      <td>-5.692627</td>\n",
       "    </tr>\n",
       "    <tr>\n",
       "      <th>4049</th>\n",
       "      <td>UNIT</td>\n",
       "      <td>Uniti Group Inc.</td>\n",
       "      <td>109001.0</td>\n",
       "      <td>2020</td>\n",
       "      <td>Q4</td>\n",
       "      <td>2020-12-31</td>\n",
       "      <td>231566000.0</td>\n",
       "      <td>141900000.0</td>\n",
       "      <td>4.413000e+08</td>\n",
       "      <td>7.956000e+08</td>\n",
       "      <td>3.577900e+09</td>\n",
       "      <td>5.047600e+09</td>\n",
       "      <td>8.625500e+09</td>\n",
       "      <td>9.421100e+09</td>\n",
       "      <td>2.312000e+08</td>\n",
       "      <td>1.035200e+09</td>\n",
       "      <td>6.874400e+09</td>\n",
       "      <td>7.909600e+09</td>\n",
       "      <td>1.800000e+06</td>\n",
       "      <td>4.720000e+07</td>\n",
       "      <td>1.511500e+09</td>\n",
       "      <td>4.696530e+08</td>\n",
       "      <td>-1.234845e+08</td>\n",
       "      <td>146898500.0</td>\n",
       "      <td>735064000.0</td>\n",
       "      <td>-101114000.0</td>\n",
       "      <td>389717000.0</td>\n",
       "      <td>388755000.0</td>\n",
       "      <td>331327000.0</td>\n",
       "      <td>778472000.0</td>\n",
       "      <td>0.0</td>\n",
       "      <td>744390000.0</td>\n",
       "      <td>-26050000.0</td>\n",
       "      <td>718340000.0</td>\n",
       "      <td>0.0</td>\n",
       "      <td>706532000.0</td>\n",
       "      <td>707391000.0</td>\n",
       "      <td>Real Estate</td>\n",
       "      <td>REITs</td>\n",
       "      <td>uniti group inc.</td>\n",
       "      <td>B</td>\n",
       "      <td>23</td>\n",
       "      <td>-4.188922</td>\n",
       "    </tr>\n",
       "    <tr>\n",
       "      <th>3015</th>\n",
       "      <td>EXEL</td>\n",
       "      <td>EXELIXIS, INC.</td>\n",
       "      <td>106002.0</td>\n",
       "      <td>2019</td>\n",
       "      <td>Q4</td>\n",
       "      <td>2019-12-31</td>\n",
       "      <td>314898000.0</td>\n",
       "      <td>852243000.0</td>\n",
       "      <td>1.190730e+08</td>\n",
       "      <td>1.011190e+09</td>\n",
       "      <td>4.889200e+07</td>\n",
       "      <td>2.892030e+08</td>\n",
       "      <td>8.744800e+08</td>\n",
       "      <td>1.885670e+09</td>\n",
       "      <td>9.957800e+07</td>\n",
       "      <td>1.427460e+08</td>\n",
       "      <td>5.695400e+07</td>\n",
       "      <td>1.997000e+08</td>\n",
       "      <td>2.242252e+09</td>\n",
       "      <td>-5.593510e+08</td>\n",
       "      <td>1.685970e+09</td>\n",
       "      <td>2.403100e+08</td>\n",
       "      <td>-1.052000e+07</td>\n",
       "      <td>229790000.0</td>\n",
       "      <td>-152474000.0</td>\n",
       "      <td>-58026000.0</td>\n",
       "      <td>77316000.0</td>\n",
       "      <td>7698000.0</td>\n",
       "      <td>7706000.0</td>\n",
       "      <td>85014000.0</td>\n",
       "      <td>0.0</td>\n",
       "      <td>85014000.0</td>\n",
       "      <td>-16271000.0</td>\n",
       "      <td>68743000.0</td>\n",
       "      <td>0.0</td>\n",
       "      <td>68743000.0</td>\n",
       "      <td>68743000.0</td>\n",
       "      <td>Healthcare</td>\n",
       "      <td>Biotechnology</td>\n",
       "      <td>exelis, inc.</td>\n",
       "      <td>Ba</td>\n",
       "      <td>22</td>\n",
       "      <td>-3.858788</td>\n",
       "    </tr>\n",
       "    <tr>\n",
       "      <th>...</th>\n",
       "      <td>...</td>\n",
       "      <td>...</td>\n",
       "      <td>...</td>\n",
       "      <td>...</td>\n",
       "      <td>...</td>\n",
       "      <td>...</td>\n",
       "      <td>...</td>\n",
       "      <td>...</td>\n",
       "      <td>...</td>\n",
       "      <td>...</td>\n",
       "      <td>...</td>\n",
       "      <td>...</td>\n",
       "      <td>...</td>\n",
       "      <td>...</td>\n",
       "      <td>...</td>\n",
       "      <td>...</td>\n",
       "      <td>...</td>\n",
       "      <td>...</td>\n",
       "      <td>...</td>\n",
       "      <td>...</td>\n",
       "      <td>...</td>\n",
       "      <td>...</td>\n",
       "      <td>...</td>\n",
       "      <td>...</td>\n",
       "      <td>...</td>\n",
       "      <td>...</td>\n",
       "      <td>...</td>\n",
       "      <td>...</td>\n",
       "      <td>...</td>\n",
       "      <td>...</td>\n",
       "      <td>...</td>\n",
       "      <td>...</td>\n",
       "      <td>...</td>\n",
       "      <td>...</td>\n",
       "      <td>...</td>\n",
       "      <td>...</td>\n",
       "      <td>...</td>\n",
       "      <td>...</td>\n",
       "      <td>...</td>\n",
       "      <td>...</td>\n",
       "      <td>...</td>\n",
       "      <td>...</td>\n",
       "      <td>...</td>\n",
       "    </tr>\n",
       "    <tr>\n",
       "      <th>1059</th>\n",
       "      <td>XOG_delist</td>\n",
       "      <td>Extraction Oil &amp; Gas, Inc.</td>\n",
       "      <td>107002.0</td>\n",
       "      <td>2018</td>\n",
       "      <td>Q1</td>\n",
       "      <td>2018-03-31</td>\n",
       "      <td>171910000.0</td>\n",
       "      <td>15363000.0</td>\n",
       "      <td>6.155200e+07</td>\n",
       "      <td>2.025110e+08</td>\n",
       "      <td>3.292315e+09</td>\n",
       "      <td>7.037300e+07</td>\n",
       "      <td>3.362688e+09</td>\n",
       "      <td>3.565199e+09</td>\n",
       "      <td>3.120020e+08</td>\n",
       "      <td>4.109720e+08</td>\n",
       "      <td>1.422678e+09</td>\n",
       "      <td>1.833650e+09</td>\n",
       "      <td>2.125770e+09</td>\n",
       "      <td>-5.496380e+08</td>\n",
       "      <td>1.731549e+09</td>\n",
       "      <td>2.302150e+08</td>\n",
       "      <td>-2.824200e+07</td>\n",
       "      <td>201973000.0</td>\n",
       "      <td>-154766000.0</td>\n",
       "      <td>-30969000.0</td>\n",
       "      <td>47207000.0</td>\n",
       "      <td>-62974000.0</td>\n",
       "      <td>-63302000.0</td>\n",
       "      <td>-15767000.0</td>\n",
       "      <td>0.0</td>\n",
       "      <td>-66095000.0</td>\n",
       "      <td>14100000.0</td>\n",
       "      <td>-51995000.0</td>\n",
       "      <td>0.0</td>\n",
       "      <td>-51995000.0</td>\n",
       "      <td>-56154000.0</td>\n",
       "      <td>Energy</td>\n",
       "      <td>Oil &amp; Gas - E&amp;P</td>\n",
       "      <td>extraction oil and gas, inc.</td>\n",
       "      <td>B</td>\n",
       "      <td>23</td>\n",
       "      <td>3.452240</td>\n",
       "    </tr>\n",
       "    <tr>\n",
       "      <th>980</th>\n",
       "      <td>DRI</td>\n",
       "      <td>DARDEN RESTAURANTS INC</td>\n",
       "      <td>103003.0</td>\n",
       "      <td>2018</td>\n",
       "      <td>Q3</td>\n",
       "      <td>2018-02-28</td>\n",
       "      <td>125700000.0</td>\n",
       "      <td>146800000.0</td>\n",
       "      <td>5.060000e+07</td>\n",
       "      <td>5.696000e+08</td>\n",
       "      <td>2.404800e+09</td>\n",
       "      <td>2.480300e+09</td>\n",
       "      <td>4.885100e+09</td>\n",
       "      <td>5.454700e+09</td>\n",
       "      <td>5.019000e+08</td>\n",
       "      <td>1.467500e+09</td>\n",
       "      <td>1.862300e+09</td>\n",
       "      <td>3.329800e+09</td>\n",
       "      <td>1.628400e+09</td>\n",
       "      <td>5.864000e+08</td>\n",
       "      <td>2.124900e+09</td>\n",
       "      <td>2.128400e+09</td>\n",
       "      <td>-1.647100e+09</td>\n",
       "      <td>481300000.0</td>\n",
       "      <td>-248200000.0</td>\n",
       "      <td>-169000000.0</td>\n",
       "      <td>233100000.0</td>\n",
       "      <td>-117400000.0</td>\n",
       "      <td>-117400000.0</td>\n",
       "      <td>115700000.0</td>\n",
       "      <td>0.0</td>\n",
       "      <td>116000000.0</td>\n",
       "      <td>102500000.0</td>\n",
       "      <td>218500000.0</td>\n",
       "      <td>0.0</td>\n",
       "      <td>217800000.0</td>\n",
       "      <td>217800000.0</td>\n",
       "      <td>Consumer Cyclical</td>\n",
       "      <td>Restaurants</td>\n",
       "      <td>darden restaurants, inc.</td>\n",
       "      <td>Ba</td>\n",
       "      <td>22</td>\n",
       "      <td>3.525737</td>\n",
       "    </tr>\n",
       "    <tr>\n",
       "      <th>4990</th>\n",
       "      <td>LZ</td>\n",
       "      <td>LEGALZOOM.COM, INC.</td>\n",
       "      <td>108004.0</td>\n",
       "      <td>2021</td>\n",
       "      <td>Q3</td>\n",
       "      <td>2021-09-30</td>\n",
       "      <td>197131000.0</td>\n",
       "      <td>310704000.0</td>\n",
       "      <td>1.159500e+07</td>\n",
       "      <td>3.386370e+08</td>\n",
       "      <td>4.711200e+07</td>\n",
       "      <td>4.760000e+07</td>\n",
       "      <td>9.583500e+07</td>\n",
       "      <td>4.344720e+08</td>\n",
       "      <td>8.615400e+07</td>\n",
       "      <td>2.384680e+08</td>\n",
       "      <td>4.960000e+06</td>\n",
       "      <td>2.434280e+08</td>\n",
       "      <td>9.199090e+08</td>\n",
       "      <td>-7.272410e+08</td>\n",
       "      <td>1.910440e+08</td>\n",
       "      <td>1.478790e+08</td>\n",
       "      <td>-4.726700e+07</td>\n",
       "      <td>100612000.0</td>\n",
       "      <td>-127629000.0</td>\n",
       "      <td>-100764000.0</td>\n",
       "      <td>-27017000.0</td>\n",
       "      <td>-10325000.0</td>\n",
       "      <td>-9957000.0</td>\n",
       "      <td>-37342000.0</td>\n",
       "      <td>0.0</td>\n",
       "      <td>-45583000.0</td>\n",
       "      <td>5908000.0</td>\n",
       "      <td>-39675000.0</td>\n",
       "      <td>0.0</td>\n",
       "      <td>-39675000.0</td>\n",
       "      <td>-39675000.0</td>\n",
       "      <td>Business Services</td>\n",
       "      <td>Other</td>\n",
       "      <td>legalzoom.com, inc.</td>\n",
       "      <td>B</td>\n",
       "      <td>23</td>\n",
       "      <td>4.090327</td>\n",
       "    </tr>\n",
       "    <tr>\n",
       "      <th>2885</th>\n",
       "      <td>MDR</td>\n",
       "      <td>MCDERMOTT INTERNATIONAL INC</td>\n",
       "      <td>107004.0</td>\n",
       "      <td>2019</td>\n",
       "      <td>Q4</td>\n",
       "      <td>2019-12-31</td>\n",
       "      <td>185000000.0</td>\n",
       "      <td>800000000.0</td>\n",
       "      <td>1.087000e+09</td>\n",
       "      <td>3.507000e+09</td>\n",
       "      <td>2.129000e+09</td>\n",
       "      <td>2.646000e+09</td>\n",
       "      <td>5.230000e+09</td>\n",
       "      <td>8.737000e+09</td>\n",
       "      <td>2.763000e+09</td>\n",
       "      <td>4.993000e+09</td>\n",
       "      <td>5.597000e+09</td>\n",
       "      <td>1.059000e+10</td>\n",
       "      <td>3.749000e+09</td>\n",
       "      <td>-5.693000e+09</td>\n",
       "      <td>-1.853000e+09</td>\n",
       "      <td>1.962000e+09</td>\n",
       "      <td>-2.077000e+09</td>\n",
       "      <td>-115000000.0</td>\n",
       "      <td>-156000000.0</td>\n",
       "      <td>-95000000.0</td>\n",
       "      <td>-271000000.0</td>\n",
       "      <td>-428000000.0</td>\n",
       "      <td>-435000000.0</td>\n",
       "      <td>-699000000.0</td>\n",
       "      <td>0.0</td>\n",
       "      <td>-793000000.0</td>\n",
       "      <td>-56000000.0</td>\n",
       "      <td>-849000000.0</td>\n",
       "      <td>0.0</td>\n",
       "      <td>-848000000.0</td>\n",
       "      <td>-866000000.0</td>\n",
       "      <td>Energy</td>\n",
       "      <td>Oil &amp; Gas - Services</td>\n",
       "      <td>mcdermott international, inc.</td>\n",
       "      <td>B</td>\n",
       "      <td>23</td>\n",
       "      <td>4.107649</td>\n",
       "    </tr>\n",
       "    <tr>\n",
       "      <th>5392</th>\n",
       "      <td>UNIT</td>\n",
       "      <td>Uniti Group Inc.</td>\n",
       "      <td>109001.0</td>\n",
       "      <td>2021</td>\n",
       "      <td>Q4</td>\n",
       "      <td>2021-12-31</td>\n",
       "      <td>264421000.0</td>\n",
       "      <td>58903000.0</td>\n",
       "      <td>3.845500e+07</td>\n",
       "      <td>9.735800e+07</td>\n",
       "      <td>3.508939e+09</td>\n",
       "      <td>1.202946e+09</td>\n",
       "      <td>4.711885e+09</td>\n",
       "      <td>4.809243e+09</td>\n",
       "      <td>1.979580e+08</td>\n",
       "      <td>1.817132e+09</td>\n",
       "      <td>5.105885e+09</td>\n",
       "      <td>6.923017e+09</td>\n",
       "      <td>1.214853e+09</td>\n",
       "      <td>4.720000e+07</td>\n",
       "      <td>-2.113774e+09</td>\n",
       "      <td>2.930090e+08</td>\n",
       "      <td>-1.234845e+08</td>\n",
       "      <td>146898500.0</td>\n",
       "      <td>-146586000.0</td>\n",
       "      <td>-25376000.0</td>\n",
       "      <td>393392000.0</td>\n",
       "      <td>-360745000.0</td>\n",
       "      <td>-351503000.0</td>\n",
       "      <td>32647000.0</td>\n",
       "      <td>0.0</td>\n",
       "      <td>30727000.0</td>\n",
       "      <td>5199000.0</td>\n",
       "      <td>35926000.0</td>\n",
       "      <td>0.0</td>\n",
       "      <td>35825000.0</td>\n",
       "      <td>35610000.0</td>\n",
       "      <td>Real Estate</td>\n",
       "      <td>REITs</td>\n",
       "      <td>uniti group inc.</td>\n",
       "      <td>B</td>\n",
       "      <td>23</td>\n",
       "      <td>5.077310</td>\n",
       "    </tr>\n",
       "  </tbody>\n",
       "</table>\n",
       "<p>5396 rows × 43 columns</p>\n",
       "</div>"
      ],
      "text/plain": [
       "          Ticker                 Company Name  IndustryId  Fiscal Year  \\\n",
       "2708        EXEL               EXELIXIS, INC.    106002.0         2019   \n",
       "1956        EXEL               EXELIXIS, INC.    106002.0         2018   \n",
       "1981  AAC_delist           AAC Holdings, Inc.    106011.0         2018   \n",
       "4049        UNIT             Uniti Group Inc.    109001.0         2020   \n",
       "3015        EXEL               EXELIXIS, INC.    106002.0         2019   \n",
       "...          ...                          ...         ...          ...   \n",
       "1059  XOG_delist   Extraction Oil & Gas, Inc.    107002.0         2018   \n",
       "980          DRI       DARDEN RESTAURANTS INC    103003.0         2018   \n",
       "4990          LZ          LEGALZOOM.COM, INC.    108004.0         2021   \n",
       "2885         MDR  MCDERMOTT INTERNATIONAL INC    107004.0         2019   \n",
       "5392        UNIT             Uniti Group Inc.    109001.0         2021   \n",
       "\n",
       "     Fiscal Period Report Date  Shares (Diluted)  \\\n",
       "2708            Q3  2019-09-30       315566000.0   \n",
       "1956            Q4  2018-12-31       312818000.0   \n",
       "1981            Q4  2018-12-31        24243906.0   \n",
       "4049            Q4  2020-12-31       231566000.0   \n",
       "3015            Q4  2019-12-31       314898000.0   \n",
       "...            ...         ...               ...   \n",
       "1059            Q1  2018-03-31       171910000.0   \n",
       "980             Q3  2018-02-28       125700000.0   \n",
       "4990            Q3  2021-09-30       197131000.0   \n",
       "2885            Q4  2019-12-31       185000000.0   \n",
       "5392            Q4  2021-12-31       264421000.0   \n",
       "\n",
       "      Cash, Cash Equivalents & Short Term Investments  \\\n",
       "2708                                      760667000.0   \n",
       "1956                                      693334000.0   \n",
       "1981                                        5409000.0   \n",
       "4049                                      141900000.0   \n",
       "3015                                      852243000.0   \n",
       "...                                               ...   \n",
       "1059                                       15363000.0   \n",
       "980                                       146800000.0   \n",
       "4990                                      310704000.0   \n",
       "2885                                      800000000.0   \n",
       "5392                                       58903000.0   \n",
       "\n",
       "      Accounts & Notes Receivable  Total Current Assets  \\\n",
       "2708                 1.835890e+08          9.721120e+08   \n",
       "1956                 1.627710e+08          8.970160e+08   \n",
       "1981                 4.786000e+07          6.396400e+07   \n",
       "4049                 4.413000e+08          7.956000e+08   \n",
       "3015                 1.190730e+08          1.011190e+09   \n",
       "...                           ...                   ...   \n",
       "1059                 6.155200e+07          2.025110e+08   \n",
       "980                  5.060000e+07          5.696000e+08   \n",
       "4990                 1.159500e+07          3.386370e+08   \n",
       "2885                 1.087000e+09          3.507000e+09   \n",
       "5392                 3.845500e+07          9.735800e+07   \n",
       "\n",
       "      Property, Plant & Equipment, Net  Other Long Term Assets  \\\n",
       "2708                      4.946700e+07            2.765230e+08   \n",
       "1956                      5.089700e+07            3.171860e+08   \n",
       "1981                      1.669210e+08            2.213920e+08   \n",
       "4049                      3.577900e+09            5.047600e+09   \n",
       "3015                      4.889200e+07            2.892030e+08   \n",
       "...                                ...                     ...   \n",
       "1059                      3.292315e+09            7.037300e+07   \n",
       "980                       2.404800e+09            2.480300e+09   \n",
       "4990                      4.711200e+07            4.760000e+07   \n",
       "2885                      2.129000e+09            2.646000e+09   \n",
       "5392                      3.508939e+09            1.202946e+09   \n",
       "\n",
       "      Total Noncurrent Assets  Total Assets  Payables & Accruals  \\\n",
       "2708             8.127530e+08  1.784865e+09         7.836800e+07   \n",
       "1956             5.252700e+08  1.422286e+09         9.051800e+07   \n",
       "1981             3.883130e+08  4.522770e+08         5.193000e+07   \n",
       "4049             8.625500e+09  9.421100e+09         2.312000e+08   \n",
       "3015             8.744800e+08  1.885670e+09         9.957800e+07   \n",
       "...                       ...           ...                  ...   \n",
       "1059             3.362688e+09  3.565199e+09         3.120020e+08   \n",
       "980              4.885100e+09  5.454700e+09         5.019000e+08   \n",
       "4990             9.583500e+07  4.344720e+08         8.615400e+07   \n",
       "2885             5.230000e+09  8.737000e+09         2.763000e+09   \n",
       "5392             4.711885e+09  4.809243e+09         1.979580e+08   \n",
       "\n",
       "      Total Current Liabilities  Total Noncurrent Liabilities  \\\n",
       "2708               1.410690e+08                  4.007900e+07   \n",
       "1956               1.054720e+08                  2.936100e+07   \n",
       "1981               3.614450e+08                  4.855900e+07   \n",
       "4049               1.035200e+09                  6.874400e+09   \n",
       "3015               1.427460e+08                  5.695400e+07   \n",
       "...                         ...                           ...   \n",
       "1059               4.109720e+08                  1.422678e+09   \n",
       "980                1.467500e+09                  1.862300e+09   \n",
       "4990               2.384680e+08                  4.960000e+06   \n",
       "2885               4.993000e+09                  5.597000e+09   \n",
       "5392               1.817132e+09                  5.105885e+09   \n",
       "\n",
       "      Total Liabilities  Share Capital & Additional Paid-In Capital  \\\n",
       "2708       1.811480e+08                                2.229143e+09   \n",
       "1956       1.348330e+08                                2.168517e+09   \n",
       "1981       4.100040e+08                                1.619870e+08   \n",
       "4049       7.909600e+09                                1.800000e+06   \n",
       "3015       1.997000e+08                                2.242252e+09   \n",
       "...                 ...                                         ...   \n",
       "1059       1.833650e+09                                2.125770e+09   \n",
       "980        3.329800e+09                                1.628400e+09   \n",
       "4990       2.434280e+08                                9.199090e+08   \n",
       "2885       1.059000e+10                                3.749000e+09   \n",
       "5392       6.923017e+09                                1.214853e+09   \n",
       "\n",
       "      Retained Earnings  Total Equity       Revenue  Cost of Revenue  \\\n",
       "2708      -6.280940e+08  1.603717e+09  2.717030e+08    -7.537000e+06   \n",
       "1956      -8.803630e+08  1.287453e+09  2.286020e+08    -7.352000e+06   \n",
       "1981      -9.757400e+07  4.227300e+07  5.744800e+07    -6.800700e+07   \n",
       "4049       4.720000e+07  1.511500e+09  4.696530e+08    -1.234845e+08   \n",
       "3015      -5.593510e+08  1.685970e+09  2.403100e+08    -1.052000e+07   \n",
       "...                 ...           ...           ...              ...   \n",
       "1059      -5.496380e+08  1.731549e+09  2.302150e+08    -2.824200e+07   \n",
       "980        5.864000e+08  2.124900e+09  2.128400e+09    -1.647100e+09   \n",
       "4990      -7.272410e+08  1.910440e+08  1.478790e+08    -4.726700e+07   \n",
       "2885      -5.693000e+09 -1.853000e+09  1.962000e+09    -2.077000e+09   \n",
       "5392       4.720000e+07 -2.113774e+09  2.930090e+08    -1.234845e+08   \n",
       "\n",
       "      Gross Profit  Operating Expenses  Selling, General & Administrative  \\\n",
       "2708   264166000.0        -148560000.0                        -51265000.0   \n",
       "1956   221250000.0        -109648000.0                        -52377000.0   \n",
       "1981   -10559000.0         -14203000.0                         -5524000.0   \n",
       "4049   146898500.0         735064000.0                       -101114000.0   \n",
       "3015   229790000.0        -152474000.0                        -58026000.0   \n",
       "...            ...                 ...                                ...   \n",
       "1059   201973000.0        -154766000.0                        -30969000.0   \n",
       "980    481300000.0        -248200000.0                       -169000000.0   \n",
       "4990   100612000.0        -127629000.0                       -100764000.0   \n",
       "2885  -115000000.0        -156000000.0                        -95000000.0   \n",
       "5392   146898500.0        -146586000.0                        -25376000.0   \n",
       "\n",
       "      Operating Income (Loss)  Non-Operating Income (Loss)  \\\n",
       "2708              115606000.0                    7051000.0   \n",
       "1956              111602000.0                    4770000.0   \n",
       "1981              -24762000.0                   23518000.0   \n",
       "4049              389717000.0                  388755000.0   \n",
       "3015               77316000.0                    7698000.0   \n",
       "...                       ...                          ...   \n",
       "1059               47207000.0                  -62974000.0   \n",
       "980               233100000.0                 -117400000.0   \n",
       "4990              -27017000.0                  -10325000.0   \n",
       "2885             -271000000.0                 -428000000.0   \n",
       "5392              393392000.0                 -360745000.0   \n",
       "\n",
       "      Interest Expense, Net  Pretax Income (Loss), Adj.  \\\n",
       "2708             20253000.0                 122657000.0   \n",
       "1956             12841000.0                 116372000.0   \n",
       "1981             23340000.0                  -1244000.0   \n",
       "4049            331327000.0                 778472000.0   \n",
       "3015              7706000.0                  85014000.0   \n",
       "...                     ...                         ...   \n",
       "1059            -63302000.0                 -15767000.0   \n",
       "980            -117400000.0                 115700000.0   \n",
       "4990             -9957000.0                 -37342000.0   \n",
       "2885           -435000000.0                -699000000.0   \n",
       "5392           -351503000.0                  32647000.0   \n",
       "\n",
       "      Abnormal Gains (Losses)  Pretax Income (Loss)  \\\n",
       "2708                      0.0           122657000.0   \n",
       "1956                      0.0           116372000.0   \n",
       "1981                      0.0           -40174000.0   \n",
       "4049                      0.0           744390000.0   \n",
       "3015                      0.0            85014000.0   \n",
       "...                       ...                   ...   \n",
       "1059                      0.0           -66095000.0   \n",
       "980                       0.0           116000000.0   \n",
       "4990                      0.0           -45583000.0   \n",
       "2885                      0.0          -793000000.0   \n",
       "5392                      0.0            30727000.0   \n",
       "\n",
       "      Income Tax (Expense) Benefit, Net  \\\n",
       "2708                        -25205000.0   \n",
       "1956                        243717000.0   \n",
       "1981                          1729000.0   \n",
       "4049                        -26050000.0   \n",
       "3015                        -16271000.0   \n",
       "...                                 ...   \n",
       "1059                         14100000.0   \n",
       "980                         102500000.0   \n",
       "4990                          5908000.0   \n",
       "2885                        -56000000.0   \n",
       "5392                          5199000.0   \n",
       "\n",
       "      Income (Loss) from Continuing Operations  \\\n",
       "2708                                97452000.0   \n",
       "1956                               360089000.0   \n",
       "1981                               -38445000.0   \n",
       "4049                               718340000.0   \n",
       "3015                                68743000.0   \n",
       "...                                        ...   \n",
       "1059                               -51995000.0   \n",
       "980                                218500000.0   \n",
       "4990                               -39675000.0   \n",
       "2885                              -849000000.0   \n",
       "5392                                35926000.0   \n",
       "\n",
       "      Net Extraordinary Gains (Losses)   Net Income  Net Income (Common)  \\\n",
       "2708                               0.0   97452000.0           97452000.0   \n",
       "1956                               0.0  360089000.0          360089000.0   \n",
       "1981                               0.0  -36677000.0          -36677000.0   \n",
       "4049                               0.0  706532000.0          707391000.0   \n",
       "3015                               0.0   68743000.0           68743000.0   \n",
       "...                                ...          ...                  ...   \n",
       "1059                               0.0  -51995000.0          -56154000.0   \n",
       "980                                0.0  217800000.0          217800000.0   \n",
       "4990                               0.0  -39675000.0          -39675000.0   \n",
       "2885                               0.0 -848000000.0         -866000000.0   \n",
       "5392                               0.0   35825000.0           35610000.0   \n",
       "\n",
       "                 Sector               Industry                        difflib  \\\n",
       "2708         Healthcare          Biotechnology                   exelis, inc.   \n",
       "1956         Healthcare          Biotechnology                   exelis, inc.   \n",
       "1981         Healthcare  Health Care Providers             aac holdings, inc.   \n",
       "4049        Real Estate                  REITs               uniti group inc.   \n",
       "3015         Healthcare          Biotechnology                   exelis, inc.   \n",
       "...                 ...                    ...                            ...   \n",
       "1059             Energy        Oil & Gas - E&P   extraction oil and gas, inc.   \n",
       "980   Consumer Cyclical            Restaurants       darden restaurants, inc.   \n",
       "4990  Business Services                  Other            legalzoom.com, inc.   \n",
       "2885             Energy   Oil & Gas - Services  mcdermott international, inc.   \n",
       "5392        Real Estate                  REITs               uniti group inc.   \n",
       "\n",
       "     Rating  Rating_numbered  interest_rate  \n",
       "2708     Ba               22     -11.180361  \n",
       "1956     Ba               22      -9.523633  \n",
       "1981    Caa               31      -5.692627  \n",
       "4049      B               23      -4.188922  \n",
       "3015     Ba               22      -3.858788  \n",
       "...     ...              ...            ...  \n",
       "1059      B               23       3.452240  \n",
       "980      Ba               22       3.525737  \n",
       "4990      B               23       4.090327  \n",
       "2885      B               23       4.107649  \n",
       "5392      B               23       5.077310  \n",
       "\n",
       "[5396 rows x 43 columns]"
      ]
     },
     "execution_count": 15,
     "metadata": {},
     "output_type": "execute_result"
    }
   ],
   "source": [
    "main_df.sort_values(by = ['interest_rate'], ascending = True) "
   ]
  },
  {
   "cell_type": "code",
   "execution_count": 16,
   "id": "427a950a",
   "metadata": {},
   "outputs": [
    {
     "data": {
      "text/plain": [
       "<AxesSubplot:xlabel='interest_rate', ylabel='Count'>"
      ]
     },
     "execution_count": 16,
     "metadata": {},
     "output_type": "execute_result"
    },
    {
     "data": {
      "image/png": "[encoded data removed]",
      "text/plain": [
       "<Figure size 640x480 with 1 Axes>"
      ]
     },
     "metadata": {},
     "output_type": "display_data"
    }
   ],
   "source": [
    "sns.histplot(data=main_df[main_df['interest_rate'] > 0]['interest_rate'], bins = 50)"
   ]
  },
  {
   "cell_type": "code",
   "execution_count": 17,
   "id": "034ed290",
   "metadata": {},
   "outputs": [
    {
     "name": "stdout",
     "output_type": "stream",
     "text": [
      "Distribution for Rating:Baa\n"
     ]
    },
    {
     "data": {
      "image/png": "[encoded data removed]",
      "text/plain": [
       "<Figure size 640x480 with 1 Axes>"
      ]
     },
     "metadata": {},
     "output_type": "display_data"
    },
    {
     "name": "stdout",
     "output_type": "stream",
     "text": [
      "Distribution for Rating:B\n"
     ]
    },
    {
     "data": {
      "image/png": "[encoded data removed]",
      "text/plain": [
       "<Figure size 640x480 with 1 Axes>"
      ]
     },
     "metadata": {},
     "output_type": "display_data"
    },
    {
     "name": "stdout",
     "output_type": "stream",
     "text": [
      "Distribution for Rating:Ba\n"
     ]
    },
    {
     "data": {
      "image/png": "[encoded data removed]",
      "text/plain": [
       "<Figure size 640x480 with 1 Axes>"
      ]
     },
     "metadata": {},
     "output_type": "display_data"
    },
    {
     "name": "stdout",
     "output_type": "stream",
     "text": [
      "Distribution for Rating:Aa\n"
     ]
    },
    {
     "data": {
      "image/png": "[encoded data removed]",
      "text/plain": [
       "<Figure size 640x480 with 1 Axes>"
      ]
     },
     "metadata": {},
     "output_type": "display_data"
    },
    {
     "name": "stdout",
     "output_type": "stream",
     "text": [
      "Distribution for Rating:A\n"
     ]
    },
    {
     "data": {
      "image/png": "[encoded data removed]",
      "text/plain": [
       "<Figure size 640x480 with 1 Axes>"
      ]
     },
     "metadata": {},
     "output_type": "display_data"
    },
    {
     "name": "stdout",
     "output_type": "stream",
     "text": [
      "Distribution for Rating:Caa\n"
     ]
    },
    {
     "data": {
      "image/png": "[encoded data removed]",
      "text/plain": [
       "<Figure size 640x480 with 1 Axes>"
      ]
     },
     "metadata": {},
     "output_type": "display_data"
    },
    {
     "name": "stdout",
     "output_type": "stream",
     "text": [
      "Distribution for Rating:Aaa\n"
     ]
    },
    {
     "data": {
      "image/png": "[encoded data removed]",
      "text/plain": [
       "<Figure size 640x480 with 1 Axes>"
      ]
     },
     "metadata": {},
     "output_type": "display_data"
    },
    {
     "name": "stdout",
     "output_type": "stream",
     "text": [
      "Distribution for Rating:Ca\n"
     ]
    },
    {
     "data": {
      "image/png": "[encoded data removed]",
      "text/plain": [
       "<Figure size 640x480 with 1 Axes>"
      ]
     },
     "metadata": {},
     "output_type": "display_data"
    },
    {
     "name": "stdout",
     "output_type": "stream",
     "text": [
      "Distribution for Rating:D\n"
     ]
    },
    {
     "data": {
      "image/png": "[encoded data removed]",
      "text/plain": [
       "<Figure size 640x480 with 1 Axes>"
      ]
     },
     "metadata": {},
     "output_type": "display_data"
    },
    {
     "name": "stdout",
     "output_type": "stream",
     "text": [
      "Distribution for Rating:C\n"
     ]
    },
    {
     "data": {
      "image/png": "[encoded data removed]",
      "text/plain": [
       "<Figure size 640x480 with 1 Axes>"
      ]
     },
     "metadata": {},
     "output_type": "display_data"
    }
   ],
   "source": [
    "# We look at the distribution for different credit ratings\n",
    "for rating in list(main_df['Rating'].unique()):\n",
    "    print('Distribution for Rating:' + str(rating))\n",
    "    sns.histplot(data=main_df[ (main_df['interest_rate'] > 0) & (main_df['Rating'] == rating)]['interest_rate'], bins = 20)\n",
    "    plt.show()"
   ]
  },
  {
   "cell_type": "markdown",
   "id": "9074aa49",
   "metadata": {},
   "source": [
    "It is not visible very good, but we see a definitive tendency, that companies with a higher credit rating tend to have higher interest expenses."
   ]
  },
  {
   "cell_type": "code",
   "execution_count": 18,
   "id": "707f7297",
   "metadata": {},
   "outputs": [
    {
     "data": {
      "image/png": "[encoded data removed]",
      "text/plain": [
       "<Figure size 640x480 with 1 Axes>"
      ]
     },
     "metadata": {},
     "output_type": "display_data"
    }
   ],
   "source": [
    "# For companies with investment grade\n",
    "sns.histplot(data=main_df[ (main_df['interest_rate'] > 0) & (main_df['Rating_numbered'] < 22)]['interest_rate'], bins = 20)\n",
    "plt.show()"
   ]
  },
  {
   "cell_type": "code",
   "execution_count": 19,
   "id": "b1a478b9",
   "metadata": {},
   "outputs": [
    {
     "data": {
      "image/png": "[encoded data removed]",
      "text/plain": [
       "<Figure size 640x480 with 1 Axes>"
      ]
     },
     "metadata": {},
     "output_type": "display_data"
    }
   ],
   "source": [
    "# For companies without investment grade\n",
    "sns.histplot(data=main_df[ (main_df['interest_rate'] > 0) & (main_df['Rating_numbered'] > 22)]['interest_rate'], bins = 20)\n",
    "plt.show()"
   ]
  },
  {
   "cell_type": "code",
   "execution_count": 20,
   "id": "fe898761",
   "metadata": {},
   "outputs": [],
   "source": [
    "# This way we see a clear distinction"
   ]
  },
  {
   "cell_type": "markdown",
   "id": "363d5b8d",
   "metadata": {},
   "source": [
    "## Saving for tableau presentation"
   ]
  },
  {
   "cell_type": "code",
   "execution_count": 21,
   "id": "6d3b95ee",
   "metadata": {},
   "outputs": [],
   "source": [
    "# Since tableau seems to have a problem with the commas in the text parts we drop them, since we only need the summarized data\n",
    "# for visualizations\n",
    "tableau_interest = main_df[main_df['interest_rate']>0].drop(['Company Name','difflib'],axis = 1)\n",
    "tableau_interest.to_csv('Data for Tableau/interest_rate.csv', index=False)"
   ]
  },
  {
   "cell_type": "code",
   "execution_count": null,
   "id": "0c83d903",
   "metadata": {},
   "outputs": [],
   "source": []
  }
 ],
 "metadata": {
  "kernelspec": {
   "display_name": "Python 3 (ipykernel)",
   "language": "python",
   "name": "python3"
  },
  "language_info": {
   "codemirror_mode": {
    "name": "ipython",
    "version": 3
   },
   "file_extension": ".py",
   "mimetype": "text/x-python",
   "name": "python",
   "nbconvert_exporter": "python",
   "pygments_lexer": "ipython3",
   "version": "3.9.13"
  }
 },
 "nbformat": 4,
 "nbformat_minor": 5
}
