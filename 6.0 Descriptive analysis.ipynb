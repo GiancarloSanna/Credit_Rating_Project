{
 "cells": [
  {
   "cell_type": "markdown",
   "id": "e47875c1",
   "metadata": {},
   "source": [
    "# Descriptive analysis"
   ]
  },
  {
   "cell_type": "markdown",
   "id": "21254943",
   "metadata": {},
   "source": [
    "## Importing libraries"
   ]
  },
  {
   "cell_type": "code",
   "execution_count": 9,
   "id": "1178ac90",
   "metadata": {},
   "outputs": [],
   "source": [
    "import pandas as pd\n",
    "import numpy as np\n",
    "import matplotlib.pyplot as plt\n",
    "import seaborn as sns\n",
    "import time\n",
    "from datetime import date"
   ]
  },
  {
   "cell_type": "markdown",
   "id": "93364518",
   "metadata": {},
   "source": [
    "## Loading data"
   ]
  },
  {
   "cell_type": "code",
   "execution_count": 10,
   "id": "68cc2992",
   "metadata": {},
   "outputs": [],
   "source": [
    "ratings_df = pd.read_csv('Prepared Frames/rating_data.csv')\n",
    "main_df = pd.read_csv('Prepared Frames/rated.csv')"
   ]
  },
  {
   "cell_type": "code",
   "execution_count": 11,
   "id": "32a7ddd9",
   "metadata": {},
   "outputs": [
    {
     "data": {
      "text/plain": [
       "Index(['Ticker', 'Company Name', 'IndustryId', 'Fiscal Year', 'Fiscal Period',\n",
       "       'Report Date', 'Shares (Diluted)',\n",
       "       'Cash, Cash Equivalents & Short Term Investments',\n",
       "       'Accounts & Notes Receivable', 'Total Current Assets',\n",
       "       'Property, Plant & Equipment, Net', 'Other Long Term Assets',\n",
       "       'Total Noncurrent Assets', 'Total Assets', 'Payables & Accruals',\n",
       "       'Total Current Liabilities', 'Total Noncurrent Liabilities',\n",
       "       'Total Liabilities', 'Share Capital & Additional Paid-In Capital',\n",
       "       'Retained Earnings', 'Total Equity', 'Net Income/Starting Line',\n",
       "       'Depreciation & Amortization', 'Non-Cash Items',\n",
       "       'Change in Working Capital', 'Net Cash from Operating Activities',\n",
       "       'Change in Fixed Assets & Intangibles',\n",
       "       'Net Cash from Acquisitions & Divestitures',\n",
       "       'Net Cash from Investing Activities', 'Cash from (Repayment of) Debt',\n",
       "       'Cash from (Repurchase of) Equity',\n",
       "       'Net Cash from Financing Activities', 'Net Change in Cash', 'Sector',\n",
       "       'Industry', 'difflib', 'Rating'],\n",
       "      dtype='object')"
      ]
     },
     "execution_count": 11,
     "metadata": {},
     "output_type": "execute_result"
    }
   ],
   "source": [
    "main_df.columns"
   ]
  },
  {
   "cell_type": "markdown",
   "id": "c298f41b",
   "metadata": {},
   "source": [
    "## Distribution of ratings"
   ]
  },
  {
   "cell_type": "code",
   "execution_count": 12,
   "id": "e4f61cb2",
   "metadata": {},
   "outputs": [
    {
     "data": {
      "text/plain": [
       "<AxesSubplot:xlabel='Rating', ylabel='count'>"
      ]
     },
     "execution_count": 12,
     "metadata": {},
     "output_type": "execute_result"
    },
    {
     "data": {
      "image/png": "[encoded data removed]",
      "text/plain": [
       "<Figure size 800x550 with 1 Axes>"
      ]
     },
     "metadata": {},
     "output_type": "display_data"
    }
   ],
   "source": [
    "# We can see a big number of companies with B ratings and very few with A or C\n",
    "sns.countplot(x='Rating', data=main_df.sort_values(by = ['Rating'], ascending = False))"
   ]
  },
  {
   "cell_type": "code",
   "execution_count": null,
   "id": "78930f7b",
   "metadata": {},
   "outputs": [],
   "source": []
  }
 ],
 "metadata": {
  "kernelspec": {
   "display_name": "Python 3 (ipykernel)",
   "language": "python",
   "name": "python3"
  },
  "language_info": {
   "codemirror_mode": {
    "name": "ipython",
    "version": 3
   },
   "file_extension": ".py",
   "mimetype": "text/x-python",
   "name": "python",
   "nbconvert_exporter": "python",
   "pygments_lexer": "ipython3",
   "version": "3.9.13"
  }
 },
 "nbformat": 4,
 "nbformat_minor": 5
}
