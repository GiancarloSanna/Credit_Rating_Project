{
 "cells": [
  {
   "cell_type": "markdown",
   "id": "835f1f00",
   "metadata": {},
   "source": [
    "# Merging the Rating- to the Main Data\n",
    "In this notebook we will merge the rating to the main Data.\n",
    "The problem here are the differences in spelling between these two."
   ]
  },
  {
   "cell_type": "markdown",
   "id": "873669b7",
   "metadata": {},
   "source": [
    "## Importing libraries"
   ]
  },
  {
   "cell_type": "code",
   "execution_count": 1,
   "id": "d316f903",
   "metadata": {},
   "outputs": [],
   "source": [
    "import pandas as pd\n",
    "import numpy as np\n",
    "import matplotlib.pyplot as plt\n",
    "import seaborn as sns\n",
    "import time\n",
    "from datetime import date"
   ]
  },
  {
   "cell_type": "code",
   "execution_count": 2,
   "id": "8c713667",
   "metadata": {},
   "outputs": [],
   "source": [
    "# !pip install Levenshtein\n",
    "# !pip install fuzzywuzzy"
   ]
  },
  {
   "cell_type": "code",
   "execution_count": 3,
   "id": "922cb4e6",
   "metadata": {},
   "outputs": [],
   "source": [
    "# We will try to match the company names using different libraries and see wich method serves us best\n",
    "import difflib\n",
    "from difflib import SequenceMatcher\n",
    "from fuzzywuzzy import fuzz"
   ]
  },
  {
   "cell_type": "markdown",
   "id": "a249faf7",
   "metadata": {},
   "source": [
    "## Loading files"
   ]
  },
  {
   "cell_type": "code",
   "execution_count": 4,
   "id": "3ae9be2c",
   "metadata": {},
   "outputs": [],
   "source": [
    "ratings_df = pd.read_csv('Prepared Frames/rating_data.csv')\n",
    "df_companies = pd.read_csv('Prepared Frames/company_data.csv')"
   ]
  },
  {
   "cell_type": "markdown",
   "id": "c288f112",
   "metadata": {},
   "source": [
    "## Looking for matches\n",
    "We will create a column for each method in our dataframe, where we will insert the closest match found with the ratings dataframe."
   ]
  },
  {
   "cell_type": "code",
   "execution_count": 5,
   "id": "51024ce4",
   "metadata": {},
   "outputs": [
    {
     "data": {
      "text/plain": [
       "17674"
      ]
     },
     "execution_count": 5,
     "metadata": {},
     "output_type": "execute_result"
    }
   ],
   "source": [
    "# Making a list of the companies in the ratings dataframe\n",
    "r_companies = list(ratings_df['Company'].unique())\n",
    "len(r_companies)"
   ]
  },
  {
   "cell_type": "markdown",
   "id": "16d8ce36",
   "metadata": {},
   "source": [
    "#### Making everything lowercase for better results\n"
   ]
  },
  {
   "cell_type": "code",
   "execution_count": 6,
   "id": "f94bcf4e",
   "metadata": {},
   "outputs": [],
   "source": [
    "def makelow(x):\n",
    "    return x.lower()"
   ]
  },
  {
   "cell_type": "code",
   "execution_count": 7,
   "id": "a1a2fae8",
   "metadata": {},
   "outputs": [],
   "source": [
    "ratings_df['Company_lower'] = ratings_df['Company'].apply(makelow)"
   ]
  },
  {
   "cell_type": "code",
   "execution_count": 8,
   "id": "e4907c7e",
   "metadata": {},
   "outputs": [],
   "source": [
    "df_companies['Company_lower'] = df_companies['Company Name'].apply(makelow)"
   ]
  },
  {
   "cell_type": "code",
   "execution_count": 9,
   "id": "b4001c2b",
   "metadata": {},
   "outputs": [],
   "source": [
    "r_companies = list(ratings_df['Company_lower'].unique())"
   ]
  },
  {
   "cell_type": "markdown",
   "id": "2a1bd88c",
   "metadata": {},
   "source": [
    "#### Difflib"
   ]
  },
  {
   "cell_type": "code",
   "execution_count": 10,
   "id": "3c70631f",
   "metadata": {},
   "outputs": [],
   "source": [
    "# We want the matchs wo be very close, it is crucial to not get false matches,+\n",
    "# while losing data is not ideal, but has to be expected in this case.\n",
    "def getmatch(company):\n",
    "    # We check if we have very close matches for the companies and return maximum of one value.\n",
    "    try:\n",
    "        return difflib.get_close_matches(company,r_companies,1,cutoff)[0]\n",
    "    # If nothing is found, we return nothing, to get a NaN which will be easy for us to track\n",
    "    except:\n",
    "        pass"
   ]
  },
  {
   "cell_type": "code",
   "execution_count": 11,
   "id": "b6cd0a32",
   "metadata": {},
   "outputs": [
    {
     "data": {
      "text/plain": [
       "'archrock inc. (old)'"
      ]
     },
     "execution_count": 11,
     "metadata": {},
     "output_type": "execute_result"
    }
   ],
   "source": [
    "# Test\n",
    "# The cutoff is just for testing purposes, we will use a way tighter one on our dataset.\n",
    "cutoff = 0.5\n",
    "getmatch('Barrick Gold')"
   ]
  },
  {
   "cell_type": "code",
   "execution_count": 12,
   "id": "65e06fe5",
   "metadata": {},
   "outputs": [],
   "source": [
    "# Applying it to our dataset"
   ]
  },
  {
   "cell_type": "code",
   "execution_count": 13,
   "id": "492a924f",
   "metadata": {},
   "outputs": [
    {
     "data": {
      "text/plain": [
       "Index(['Ticker', 'Company Name', 'IndustryId', 'Company_lower'], dtype='object')"
      ]
     },
     "execution_count": 13,
     "metadata": {},
     "output_type": "execute_result"
    }
   ],
   "source": [
    "df_companies.columns"
   ]
  },
  {
   "cell_type": "code",
   "execution_count": 14,
   "id": "42b84ac3",
   "metadata": {},
   "outputs": [],
   "source": [
    "cutoff = 0.9\n",
    "df_companies['difflib'] = df_companies['Company_lower'].apply(getmatch)"
   ]
  },
  {
   "cell_type": "code",
   "execution_count": 15,
   "id": "00b62b78",
   "metadata": {},
   "outputs": [
    {
     "data": {
      "text/plain": [
       "570"
      ]
     },
     "execution_count": 15,
     "metadata": {},
     "output_type": "execute_result"
    }
   ],
   "source": [
    "# Having a look how it worked\n",
    "len(df_companies[df_companies['difflib'].isna()==False]['difflib'])\n",
    "# 570 Matches, that looks better than the around 200 we had before."
   ]
  },
  {
   "cell_type": "code",
   "execution_count": 16,
   "id": "92d8e9ae",
   "metadata": {},
   "outputs": [],
   "source": [
    "# Check some examples on how good the matches are\n",
    "# df_companies[df_companies['difflib'].isna()==False][['Company Name','difflib']].head(50)"
   ]
  },
  {
   "cell_type": "markdown",
   "id": "8f41b0f3",
   "metadata": {},
   "source": [
    "The matches now look all correct, we had to increase the cutoff from initially 0.8 to 0.9 now."
   ]
  },
  {
   "cell_type": "markdown",
   "id": "4ae7e0dc",
   "metadata": {},
   "source": [
    "#### Fuzzywuzzy\n",
    "We try the same with the fuzzywuzzy library"
   ]
  },
  {
   "cell_type": "code",
   "execution_count": 17,
   "id": "57dfe53c",
   "metadata": {},
   "outputs": [],
   "source": [
    "from fuzzywuzzy import process"
   ]
  },
  {
   "cell_type": "code",
   "execution_count": 18,
   "id": "ae72b6c4",
   "metadata": {},
   "outputs": [],
   "source": [
    "# We again define a function to get the closest matches, this time with the fuzzywuzzy library\n",
    "def getfuzz(company):\n",
    "    res,score = process.extractOne(company, r_companies, score_cutoff=1)\n",
    "    if score < 1:\n",
    "        pass\n",
    "    else:\n",
    "        return res   "
   ]
  },
  {
   "cell_type": "code",
   "execution_count": 19,
   "id": "2a6a972e",
   "metadata": {},
   "outputs": [
    {
     "name": "stdout",
     "output_type": "stream",
     "text": [
      "gold fields limited\n"
     ]
    }
   ],
   "source": [
    "print(getfuzz('Barrick Gold'))"
   ]
  },
  {
   "cell_type": "markdown",
   "id": "6cad5555",
   "metadata": {},
   "source": [
    "The fuzzywuzzy results were way to vague and had a lot of mismatches, even with\n",
    "the cutoff set to one. We cannot use this."
   ]
  },
  {
   "cell_type": "code",
   "execution_count": 20,
   "id": "1e7d1409",
   "metadata": {},
   "outputs": [],
   "source": [
    "# This took a long time, so we save the results:\n",
    "df_companies.to_csv('Prepared Frames/companies_approx_match.csv', index=False)"
   ]
  },
  {
   "cell_type": "code",
   "execution_count": null,
   "id": "d59f28a6",
   "metadata": {},
   "outputs": [],
   "source": []
  }
 ],
 "metadata": {
  "kernelspec": {
   "display_name": "Python 3 (ipykernel)",
   "language": "python",
   "name": "python3"
  },
  "language_info": {
   "codemirror_mode": {
    "name": "ipython",
    "version": 3
   },
   "file_extension": ".py",
   "mimetype": "text/x-python",
   "name": "python",
   "nbconvert_exporter": "python",
   "pygments_lexer": "ipython3",
   "version": "3.9.13"
  }
 },
 "nbformat": 4,
 "nbformat_minor": 5
}
