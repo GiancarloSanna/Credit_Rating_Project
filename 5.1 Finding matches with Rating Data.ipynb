{
 "cells": [
  {
   "cell_type": "markdown",
   "id": "5bb00af5",
   "metadata": {},
   "source": [
    "# Merging the Rating- to the Main Data\n",
    "In this notebook we will merge the rating to the main Data.\n",
    "The problem here are the differences in spelling between these two."
   ]
  },
  {
   "cell_type": "markdown",
   "id": "ad9d3fea",
   "metadata": {},
   "source": [
    "## Importing libraries"
   ]
  },
  {
   "cell_type": "code",
   "execution_count": 50,
   "id": "8effa417",
   "metadata": {},
   "outputs": [],
   "source": [
    "import pandas as pd\n",
    "import numpy as np\n",
    "import matplotlib.pyplot as plt\n",
    "import seaborn as sns\n",
    "import time\n",
    "from datetime import date"
   ]
  },
  {
   "cell_type": "code",
   "execution_count": 51,
   "id": "2c813a19",
   "metadata": {},
   "outputs": [],
   "source": [
    "# !pip install Levenshtein\n",
    "# !pip install fuzzywuzzy"
   ]
  },
  {
   "cell_type": "code",
   "execution_count": 52,
   "id": "ebdbcc75",
   "metadata": {},
   "outputs": [],
   "source": [
    "# We will try to match the company names using different libraries and see wich method serves us best\n",
    "import difflib\n",
    "from difflib import SequenceMatcher\n",
    "from fuzzywuzzy import fuzz"
   ]
  },
  {
   "cell_type": "markdown",
   "id": "16f2f357",
   "metadata": {},
   "source": [
    "## Loading files"
   ]
  },
  {
   "cell_type": "code",
   "execution_count": 53,
   "id": "3e873431",
   "metadata": {},
   "outputs": [],
   "source": [
    "ratings_df = pd.read_csv('Prepared Frames/rating_data.csv')\n",
    "df_companies = pd.read_csv('Prepared Frames/company_data.csv')"
   ]
  },
  {
   "cell_type": "markdown",
   "id": "8cc0a9d1",
   "metadata": {},
   "source": [
    "## Looking for matches\n",
    "We will create a column for each method in our dataframe, where we will insert the closest match found with the ratings dataframe."
   ]
  },
  {
   "cell_type": "code",
   "execution_count": 54,
   "id": "ea3de107",
   "metadata": {},
   "outputs": [
    {
     "data": {
      "text/plain": [
       "17674"
      ]
     },
     "execution_count": 54,
     "metadata": {},
     "output_type": "execute_result"
    }
   ],
   "source": [
    "# Making a list of the companies in the ratings dataframe\n",
    "r_companies = list(ratings_df['Company'].unique())\n",
    "len(r_companies)"
   ]
  },
  {
   "cell_type": "markdown",
   "id": "f7d12bb4",
   "metadata": {},
   "source": [
    "#### Making everything lowercase for better results\n"
   ]
  },
  {
   "cell_type": "code",
   "execution_count": 55,
   "id": "8b0252fb",
   "metadata": {},
   "outputs": [],
   "source": [
    "def makelow(x):\n",
    "    return x.lower()"
   ]
  },
  {
   "cell_type": "code",
   "execution_count": 56,
   "id": "f8fcf5e6",
   "metadata": {},
   "outputs": [],
   "source": [
    "ratings_df['Company_lower'] = ratings_df['Company'].apply(makelow)"
   ]
  },
  {
   "cell_type": "code",
   "execution_count": 57,
   "id": "391d53c3",
   "metadata": {},
   "outputs": [],
   "source": [
    "df_companies['Company_lower'] = df_companies['Company Name'].apply(makelow)"
   ]
  },
  {
   "cell_type": "code",
   "execution_count": 58,
   "id": "85509cdd",
   "metadata": {},
   "outputs": [],
   "source": [
    "r_companies = list(ratings_df['Company_lower'].unique())"
   ]
  },
  {
   "cell_type": "markdown",
   "id": "477d6f96",
   "metadata": {},
   "source": [
    "#### Difflib"
   ]
  },
  {
   "cell_type": "code",
   "execution_count": 59,
   "id": "fe975df7",
   "metadata": {},
   "outputs": [],
   "source": [
    "# We want the matchs wo be very close, it is crucial to not get false matches,+\n",
    "# while losing data is not ideal, but has to be expected in this case.\n",
    "def getmatch(company):\n",
    "    # We check if we have very close matches for the companies and return maximum of one value.\n",
    "    try:\n",
    "        return difflib.get_close_matches(company,r_companies,1,cutoff)[0]\n",
    "    # If nothing is found, we return nothing, to get a NaN which will be easy for us to track\n",
    "    except:\n",
    "        pass"
   ]
  },
  {
   "cell_type": "code",
   "execution_count": 60,
   "id": "a71bec97",
   "metadata": {},
   "outputs": [
    {
     "data": {
      "text/plain": [
       "'archrock inc. (old)'"
      ]
     },
     "execution_count": 60,
     "metadata": {},
     "output_type": "execute_result"
    }
   ],
   "source": [
    "# Test\n",
    "# The cutoff is just for testing purposes, we will use a way tighter one on our dataset.\n",
    "cutoff = 0.5\n",
    "getmatch('Barrick Gold')"
   ]
  },
  {
   "cell_type": "code",
   "execution_count": 61,
   "id": "9d51ffb5",
   "metadata": {},
   "outputs": [],
   "source": [
    "# Applying it to our dataset"
   ]
  },
  {
   "cell_type": "code",
   "execution_count": 62,
   "id": "9880eb1d",
   "metadata": {},
   "outputs": [
    {
     "data": {
      "text/plain": [
       "Index(['Ticker', 'Company Name', 'IndustryId', 'Company_lower'], dtype='object')"
      ]
     },
     "execution_count": 62,
     "metadata": {},
     "output_type": "execute_result"
    }
   ],
   "source": [
    "df_companies.columns"
   ]
  },
  {
   "cell_type": "code",
   "execution_count": 63,
   "id": "24ac6c60",
   "metadata": {},
   "outputs": [],
   "source": [
    "cutoff = 0.9\n",
    "df_companies['difflib'] = df_companies['Company_lower'].apply(getmatch)"
   ]
  },
  {
   "cell_type": "code",
   "execution_count": 64,
   "id": "03a40d39",
   "metadata": {},
   "outputs": [
    {
     "data": {
      "text/plain": [
       "570"
      ]
     },
     "execution_count": 64,
     "metadata": {},
     "output_type": "execute_result"
    }
   ],
   "source": [
    "# Having a look how it worked\n",
    "len(df_companies[df_companies['difflib'].isna()==False]['difflib'])\n",
    "# 570 Matches, that looks better than the around 200 we had before."
   ]
  },
  {
   "cell_type": "code",
   "execution_count": 65,
   "id": "995ddc0a",
   "metadata": {},
   "outputs": [],
   "source": [
    "# Check some examples on how good the matches are\n",
    "# df_companies[df_companies['difflib'].isna()==False][['Company Name','difflib']].head(50)"
   ]
  },
  {
   "cell_type": "markdown",
   "id": "6fa1fa10",
   "metadata": {},
   "source": [
    "The matches now look all correct, we had to increase the cutoff from initially 0.8 to 0.9 now."
   ]
  },
  {
   "cell_type": "markdown",
   "id": "3fc3138a",
   "metadata": {},
   "source": [
    "#### Fuzzywuzzy\n",
    "We try the same with the fuzzywuzzy library"
   ]
  },
  {
   "cell_type": "code",
   "execution_count": 66,
   "id": "44e9a209",
   "metadata": {},
   "outputs": [],
   "source": [
    "from fuzzywuzzy import process"
   ]
  },
  {
   "cell_type": "code",
   "execution_count": 67,
   "id": "e69eb21f",
   "metadata": {},
   "outputs": [],
   "source": [
    "# We again define a function to get the closest matches, this time with the fuzzywuzzy library\n",
    "def getfuzz(company):\n",
    "    res,score = process.extractOne(company, r_companies, score_cutoff=1)\n",
    "    if score < 1:\n",
    "        pass\n",
    "    else:\n",
    "        return res   "
   ]
  },
  {
   "cell_type": "code",
   "execution_count": 68,
   "id": "2901a04c",
   "metadata": {},
   "outputs": [
    {
     "name": "stdout",
     "output_type": "stream",
     "text": [
      "gold fields limited\n"
     ]
    }
   ],
   "source": [
    "print(getfuzz('Barrick Gold'))"
   ]
  },
  {
   "cell_type": "markdown",
   "id": "dfcec3c6",
   "metadata": {},
   "source": [
    "The fuzzywuzzy results were way to vague and had a lot of mismatches, even with\n",
    "the cutoff set to one. We cannot use this."
   ]
  },
  {
   "cell_type": "code",
   "execution_count": 69,
   "id": "323f3e99",
   "metadata": {},
   "outputs": [],
   "source": [
    "# This took a long time, so we save the results:\n",
    "df_companies.to_csv('Prepared Frames/companies_approx_match.csv', index=False)"
   ]
  },
  {
   "cell_type": "code",
   "execution_count": null,
   "id": "41dfa850",
   "metadata": {},
   "outputs": [],
   "source": []
  }
 ],
 "metadata": {
  "kernelspec": {
   "display_name": "Python 3 (ipykernel)",
   "language": "python",
   "name": "python3"
  },
  "language_info": {
   "codemirror_mode": {
    "name": "ipython",
    "version": 3
   },
   "file_extension": ".py",
   "mimetype": "text/x-python",
   "name": "python",
   "nbconvert_exporter": "python",
   "pygments_lexer": "ipython3",
   "version": "3.9.13"
  }
 },
 "nbformat": 4,
 "nbformat_minor": 5
}
