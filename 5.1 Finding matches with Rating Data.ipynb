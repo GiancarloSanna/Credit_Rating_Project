{
 "cells": [
  {
   "cell_type": "markdown",
   "id": "d4ff3b54",
   "metadata": {},
   "source": [
    "# Merging the Rating- to the Main Data\n",
    "In this notebook we will merge the rating to the main Data.\n",
    "The problem here are the differences in spelling between these two."
   ]
  },
  {
   "cell_type": "markdown",
   "id": "bb97d236",
   "metadata": {},
   "source": [
    "## Importing libraries"
   ]
  },
  {
   "cell_type": "code",
   "execution_count": 1,
   "id": "8653c687",
   "metadata": {},
   "outputs": [],
   "source": [
    "import pandas as pd\n",
    "import numpy as np\n",
    "import matplotlib.pyplot as plt\n",
    "import seaborn as sns\n",
    "import time\n",
    "from datetime import date"
   ]
  },
  {
   "cell_type": "code",
   "execution_count": 2,
   "id": "210ca3be",
   "metadata": {},
   "outputs": [],
   "source": [
    "# !pip install Levenshtein\n",
    "# !pip install fuzzywuzzy"
   ]
  },
  {
   "cell_type": "code",
   "execution_count": 3,
   "id": "fb5a524f",
   "metadata": {},
   "outputs": [],
   "source": [
    "# We will try to match the company names using different libraries and see wich method serves us best\n",
    "import difflib\n",
    "from difflib import SequenceMatcher\n",
    "from fuzzywuzzy import fuzz"
   ]
  },
  {
   "cell_type": "markdown",
   "id": "b8d5c1fd",
   "metadata": {},
   "source": [
    "## Loading files"
   ]
  },
  {
   "cell_type": "code",
   "execution_count": 4,
   "id": "db3d3b00",
   "metadata": {},
   "outputs": [],
   "source": [
    "ratings_df = pd.read_csv('Prepared Frames/rating_data.csv')\n",
    "df_companies = pd.read_csv('Prepared Frames/company_data.csv')"
   ]
  },
  {
   "cell_type": "markdown",
   "id": "9488787c",
   "metadata": {},
   "source": [
    "## Looking for matches\n",
    "We will create a column for each method in our dataframe, where we will insert the closest match found with the ratings dataframe."
   ]
  },
  {
   "cell_type": "code",
   "execution_count": 5,
   "id": "19539241",
   "metadata": {},
   "outputs": [
    {
     "data": {
      "text/plain": [
       "17713"
      ]
     },
     "execution_count": 5,
     "metadata": {},
     "output_type": "execute_result"
    }
   ],
   "source": [
    "# Making a list of the companies in the ratings dataframe\n",
    "r_companies = list(ratings_df['Company'].unique())\n",
    "len(r_companies)"
   ]
  },
  {
   "cell_type": "markdown",
   "id": "695e82be",
   "metadata": {},
   "source": [
    "#### Making everything lowercase for better results\n"
   ]
  },
  {
   "cell_type": "code",
   "execution_count": 6,
   "id": "36fba7ca",
   "metadata": {},
   "outputs": [],
   "source": [
    "def makelow(x):\n",
    "    return x.lower()"
   ]
  },
  {
   "cell_type": "code",
   "execution_count": 7,
   "id": "4780c8eb",
   "metadata": {},
   "outputs": [],
   "source": [
    "ratings_df['Company_lower'] = ratings_df['Company'].apply(makelow)"
   ]
  },
  {
   "cell_type": "code",
   "execution_count": 8,
   "id": "b89afc2f",
   "metadata": {},
   "outputs": [],
   "source": [
    "df_companies['Company_lower'] = df_companies['Company Name'].apply(makelow)"
   ]
  },
  {
   "cell_type": "code",
   "execution_count": 9,
   "id": "dc57e27d",
   "metadata": {},
   "outputs": [],
   "source": [
    "r_companies = list(ratings_df['Company_lower'].unique())"
   ]
  },
  {
   "cell_type": "markdown",
   "id": "096070b9",
   "metadata": {},
   "source": [
    "#### Difflib"
   ]
  },
  {
   "cell_type": "code",
   "execution_count": 10,
   "id": "e3193422",
   "metadata": {},
   "outputs": [],
   "source": [
    "# We want the matchs wo be very close, it is crucial to not get false matches,+\n",
    "# while losing data is not ideal, but has to be expected in this case.\n",
    "def getmatch(company):\n",
    "    # We check if we have very close matches for the companies and return maximum of one value.\n",
    "    try:\n",
    "        return difflib.get_close_matches(company,r_companies,1,cutoff)[0]\n",
    "    # If nothing is found, we return nothing, to get a NaN which will be easy for us to track\n",
    "    except:\n",
    "        pass"
   ]
  },
  {
   "cell_type": "code",
   "execution_count": 11,
   "id": "0a773197",
   "metadata": {},
   "outputs": [
    {
     "data": {
      "text/plain": [
       "'archrock inc. (old)'"
      ]
     },
     "execution_count": 11,
     "metadata": {},
     "output_type": "execute_result"
    }
   ],
   "source": [
    "# Test\n",
    "# The cutoff is just for testing purposes, we will use a way tighter one on our dataset.\n",
    "cutoff = 0.5\n",
    "getmatch('Barrick Gold')"
   ]
  },
  {
   "cell_type": "code",
   "execution_count": 12,
   "id": "b4f2e92a",
   "metadata": {},
   "outputs": [],
   "source": [
    "# Applying it to our dataset"
   ]
  },
  {
   "cell_type": "code",
   "execution_count": 13,
   "id": "4f00a279",
   "metadata": {},
   "outputs": [
    {
     "data": {
      "text/plain": [
       "Index(['Ticker', 'Company Name', 'IndustryId', 'Company_lower'], dtype='object')"
      ]
     },
     "execution_count": 13,
     "metadata": {},
     "output_type": "execute_result"
    }
   ],
   "source": [
    "df_companies.columns"
   ]
  },
  {
   "cell_type": "code",
   "execution_count": 14,
   "id": "f2b25d5e",
   "metadata": {},
   "outputs": [],
   "source": [
    "cutoff = 0.9\n",
    "df_companies['difflib'] = df_companies['Company_lower'].apply(getmatch)"
   ]
  },
  {
   "cell_type": "code",
   "execution_count": 15,
   "id": "0013c1f2",
   "metadata": {},
   "outputs": [
    {
     "data": {
      "text/plain": [
       "571"
      ]
     },
     "execution_count": 15,
     "metadata": {},
     "output_type": "execute_result"
    }
   ],
   "source": [
    "# Having a look how it worked\n",
    "len(df_companies[df_companies['difflib'].isna()==False]['difflib'])\n",
    "# 571 Matches, that looks better than the around 200 we had before."
   ]
  },
  {
   "cell_type": "code",
   "execution_count": 17,
   "id": "05f6a0ab",
   "metadata": {},
   "outputs": [],
   "source": [
    "# Check some examples on how good the matches are\n",
    "# df_companies[df_companies['difflib'].isna()==False][['Company Name','difflib']].head(50)"
   ]
  },
  {
   "cell_type": "markdown",
   "id": "f4a9aebc",
   "metadata": {},
   "source": [
    "The matches now look all correct, we had to increase the cutoff from initially 0.8 to 0.9 now."
   ]
  },
  {
   "cell_type": "markdown",
   "id": "e924e68b",
   "metadata": {},
   "source": [
    "#### Fuzzywuzzy\n",
    "We try the same with the fuzzywuzzy library"
   ]
  },
  {
   "cell_type": "code",
   "execution_count": 18,
   "id": "89171333",
   "metadata": {},
   "outputs": [],
   "source": [
    "from fuzzywuzzy import process"
   ]
  },
  {
   "cell_type": "code",
   "execution_count": 48,
   "id": "15ae1504",
   "metadata": {},
   "outputs": [],
   "source": [
    "# We again define a function to get the closest matches, this time with the fuzzywuzzy library\n",
    "def getfuzz(company):\n",
    "    res,score = process.extractOne(company, r_companies, score_cutoff=1)\n",
    "    if score < 1:\n",
    "        pass\n",
    "    else:\n",
    "        return res   "
   ]
  },
  {
   "cell_type": "code",
   "execution_count": 49,
   "id": "bfb26c24",
   "metadata": {},
   "outputs": [
    {
     "name": "stdout",
     "output_type": "stream",
     "text": [
      "gold fields limited\n"
     ]
    }
   ],
   "source": [
    "print(getfuzz('Barrick Gold'))"
   ]
  },
  {
   "cell_type": "markdown",
   "id": "00c73d36",
   "metadata": {},
   "source": [
    "The fuzzywuzzy results were way to vague and had a lot of mismatches, even with\n",
    "the cutoff set to one. We cannot use this."
   ]
  },
  {
   "cell_type": "code",
   "execution_count": 39,
   "id": "d39d8eaf",
   "metadata": {},
   "outputs": [],
   "source": [
    "# This took a long time, so we save the results:\n",
    "df_companies.to_csv('Prepared Frames/companies_approx_match.csv', index=False)"
   ]
  },
  {
   "cell_type": "code",
   "execution_count": null,
   "id": "9742f14e",
   "metadata": {},
   "outputs": [],
   "source": []
  }
 ],
 "metadata": {
  "kernelspec": {
   "display_name": "Python 3 (ipykernel)",
   "language": "python",
   "name": "python3"
  },
  "language_info": {
   "codemirror_mode": {
    "name": "ipython",
    "version": 3
   },
   "file_extension": ".py",
   "mimetype": "text/x-python",
   "name": "python",
   "nbconvert_exporter": "python",
   "pygments_lexer": "ipython3",
   "version": "3.9.13"
  }
 },
 "nbformat": 4,
 "nbformat_minor": 5
}
