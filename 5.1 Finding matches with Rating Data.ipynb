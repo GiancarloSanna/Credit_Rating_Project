{
 "cells": [
  {
   "cell_type": "markdown",
   "id": "52b644e8",
   "metadata": {},
   "source": [
    "# Merging the Rating- to the Main Data\n",
    "In this notebook we will merge the rating to the main Data.\n",
    "The problem here are the differences in spelling between these two."
   ]
  },
  {
   "cell_type": "markdown",
   "id": "dcc9f7bc",
   "metadata": {},
   "source": [
    "## Importing libraries"
   ]
  },
  {
   "cell_type": "code",
   "execution_count": 1,
   "id": "8f43ea50",
   "metadata": {},
   "outputs": [],
   "source": [
    "import pandas as pd\n",
    "import numpy as np\n",
    "import matplotlib.pyplot as plt\n",
    "import seaborn as sns\n",
    "import time\n",
    "from datetime import date"
   ]
  },
  {
   "cell_type": "code",
   "execution_count": 2,
   "id": "0f4f7bf2",
   "metadata": {},
   "outputs": [],
   "source": [
    "# !pip install Levenshtein\n",
    "# !pip install fuzzywuzzy"
   ]
  },
  {
   "cell_type": "code",
   "execution_count": 3,
   "id": "0fe48e93",
   "metadata": {},
   "outputs": [],
   "source": [
    "# We will try to match the company names using different libraries and see wich method serves us best\n",
    "import difflib\n",
    "from difflib import SequenceMatcher\n",
    "from fuzzywuzzy import fuzz"
   ]
  },
  {
   "cell_type": "markdown",
   "id": "fc1fa016",
   "metadata": {},
   "source": [
    "## Loading files"
   ]
  },
  {
   "cell_type": "code",
   "execution_count": 4,
   "id": "bae2259d",
   "metadata": {},
   "outputs": [],
   "source": [
    "ratings_df = pd.read_csv('Prepared Frames/rating_data.csv')\n",
    "df_companies = pd.read_csv('Prepared Frames/company_data.csv')"
   ]
  },
  {
   "cell_type": "markdown",
   "id": "3dc3e02d",
   "metadata": {},
   "source": [
    "## Looking for matches\n",
    "We will create a column for each method in our dataframe, where we will insert the closest match found with the ratings dataframe."
   ]
  },
  {
   "cell_type": "code",
   "execution_count": 5,
   "id": "f66e7dd6",
   "metadata": {},
   "outputs": [
    {
     "data": {
      "text/plain": [
       "17674"
      ]
     },
     "execution_count": 5,
     "metadata": {},
     "output_type": "execute_result"
    }
   ],
   "source": [
    "# Making a list of the companies in the ratings dataframe\n",
    "r_companies = list(ratings_df['Company'].unique())\n",
    "len(r_companies)"
   ]
  },
  {
   "cell_type": "markdown",
   "id": "f2762f7a",
   "metadata": {},
   "source": [
    "#### Making everything lowercase for better results\n"
   ]
  },
  {
   "cell_type": "code",
   "execution_count": 6,
   "id": "554832e9",
   "metadata": {},
   "outputs": [],
   "source": [
    "def makelow(x):\n",
    "    return x.lower()"
   ]
  },
  {
   "cell_type": "code",
   "execution_count": 7,
   "id": "2c583e3e",
   "metadata": {},
   "outputs": [],
   "source": [
    "ratings_df['Company_lower'] = ratings_df['Company'].apply(makelow)"
   ]
  },
  {
   "cell_type": "code",
   "execution_count": 8,
   "id": "a163f70c",
   "metadata": {},
   "outputs": [],
   "source": [
    "df_companies['Company_lower'] = df_companies['Company Name'].apply(makelow)"
   ]
  },
  {
   "cell_type": "code",
   "execution_count": 9,
   "id": "ced97370",
   "metadata": {},
   "outputs": [],
   "source": [
    "r_companies = list(ratings_df['Company_lower'].unique())"
   ]
  },
  {
   "cell_type": "markdown",
   "id": "c052e4d0",
   "metadata": {},
   "source": [
    "#### Difflib"
   ]
  },
  {
   "cell_type": "code",
   "execution_count": 10,
   "id": "af8f722e",
   "metadata": {},
   "outputs": [],
   "source": [
    "# We want the matchs wo be very close, it is crucial to not get false matches,+\n",
    "# while losing data is not ideal, but has to be expected in this case.\n",
    "def getmatch(company):\n",
    "    # We check if we have very close matches for the companies and return maximum of one value.\n",
    "    try:\n",
    "        return difflib.get_close_matches(company,r_companies,1,cutoff)[0]\n",
    "    # If nothing is found, we return nothing, to get a NaN which will be easy for us to track\n",
    "    except:\n",
    "        pass"
   ]
  },
  {
   "cell_type": "code",
   "execution_count": 11,
   "id": "5740a9f4",
   "metadata": {},
   "outputs": [
    {
     "data": {
      "text/plain": [
       "'archrock inc. (old)'"
      ]
     },
     "execution_count": 11,
     "metadata": {},
     "output_type": "execute_result"
    }
   ],
   "source": [
    "# Test\n",
    "# The cutoff is just for testing purposes, we will use a way tighter one on our dataset.\n",
    "cutoff = 0.5\n",
    "getmatch('Barrick Gold')"
   ]
  },
  {
   "cell_type": "code",
   "execution_count": 12,
   "id": "26baa5b8",
   "metadata": {},
   "outputs": [],
   "source": [
    "# Applying it to our dataset"
   ]
  },
  {
   "cell_type": "code",
   "execution_count": 13,
   "id": "d9fcee51",
   "metadata": {},
   "outputs": [
    {
     "data": {
      "text/plain": [
       "Index(['Ticker', 'SimFinId', 'Company Name', 'IndustryId', 'tokens',\n",
       "       'current_search', 'Company_lower'],\n",
       "      dtype='object')"
      ]
     },
     "execution_count": 13,
     "metadata": {},
     "output_type": "execute_result"
    }
   ],
   "source": [
    "df_companies.columns"
   ]
  },
  {
   "cell_type": "code",
   "execution_count": 14,
   "id": "822aa8e6",
   "metadata": {},
   "outputs": [],
   "source": [
    "cutoff = 0.9\n",
    "df_companies['difflib'] = df_companies['Company_lower'].apply(getmatch)"
   ]
  },
  {
   "cell_type": "code",
   "execution_count": 15,
   "id": "f2a85482",
   "metadata": {},
   "outputs": [
    {
     "data": {
      "text/plain": [
       "570"
      ]
     },
     "execution_count": 15,
     "metadata": {},
     "output_type": "execute_result"
    }
   ],
   "source": [
    "# Having a look how it worked\n",
    "len(df_companies[df_companies['difflib'].isna()==False]['difflib'])\n",
    "# 570 Matches, that looks better than the around 200 we had before."
   ]
  },
  {
   "cell_type": "code",
   "execution_count": 16,
   "id": "6645bb43",
   "metadata": {},
   "outputs": [],
   "source": [
    "# Check some examples on how good the matches are\n",
    "# df_companies[df_companies['difflib'].isna()==False][['Company Name','difflib']].head(50)"
   ]
  },
  {
   "cell_type": "markdown",
   "id": "62cde29c",
   "metadata": {},
   "source": [
    "The matches now look all correct, we had to increase the cutoff from initially 0.8 to 0.9 now."
   ]
  },
  {
   "cell_type": "markdown",
   "id": "238c283b",
   "metadata": {},
   "source": [
    "#### Fuzzywuzzy\n",
    "We try the same with the fuzzywuzzy library"
   ]
  },
  {
   "cell_type": "code",
   "execution_count": 17,
   "id": "6ed13822",
   "metadata": {},
   "outputs": [],
   "source": [
    "from fuzzywuzzy import process"
   ]
  },
  {
   "cell_type": "code",
   "execution_count": 18,
   "id": "62bc63df",
   "metadata": {},
   "outputs": [],
   "source": [
    "# We again define a function to get the closest matches, this time with the fuzzywuzzy library\n",
    "def getfuzz(company):\n",
    "    res,score = process.extractOne(company, r_companies, score_cutoff=1)\n",
    "    if score < 1:\n",
    "        pass\n",
    "    else:\n",
    "        return res   "
   ]
  },
  {
   "cell_type": "code",
   "execution_count": 19,
   "id": "b2a3d7b3",
   "metadata": {},
   "outputs": [
    {
     "name": "stdout",
     "output_type": "stream",
     "text": [
      "gold fields limited\n"
     ]
    }
   ],
   "source": [
    "print(getfuzz('Barrick Gold'))"
   ]
  },
  {
   "cell_type": "markdown",
   "id": "1161b91d",
   "metadata": {},
   "source": [
    "The fuzzywuzzy results were way to vague and had a lot of mismatches, even with\n",
    "the cutoff set to one. We cannot use this."
   ]
  },
  {
   "cell_type": "code",
   "execution_count": 20,
   "id": "3a746d49",
   "metadata": {},
   "outputs": [],
   "source": [
    "# This took a long time, so we save the results:\n",
    "df_companies.to_csv('Prepared Frames/companies_approx_match.csv', index=False)"
   ]
  },
  {
   "cell_type": "code",
   "execution_count": null,
   "id": "f38bbb92",
   "metadata": {},
   "outputs": [],
   "source": []
  }
 ],
 "metadata": {
  "kernelspec": {
   "display_name": "Python 3 (ipykernel)",
   "language": "python",
   "name": "python3"
  },
  "language_info": {
   "codemirror_mode": {
    "name": "ipython",
    "version": 3
   },
   "file_extension": ".py",
   "mimetype": "text/x-python",
   "name": "python",
   "nbconvert_exporter": "python",
   "pygments_lexer": "ipython3",
   "version": "3.9.13"
  }
 },
 "nbformat": 4,
 "nbformat_minor": 5
}
