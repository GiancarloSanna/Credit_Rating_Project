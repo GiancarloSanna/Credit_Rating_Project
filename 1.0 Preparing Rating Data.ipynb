{
 "cells": [
  {
   "cell_type": "markdown",
   "id": "928598ee",
   "metadata": {},
   "source": [
    "# Credit Ratings from Moodys"
   ]
  },
  {
   "cell_type": "markdown",
   "id": "60f46be9",
   "metadata": {},
   "source": [
    "In this notebook I will get the raw data for Moody's credit rating.\n",
    "These are XBRL files, therefore I have to take some steps before I can access the information."
   ]
  },
  {
   "cell_type": "markdown",
   "id": "9076e5db",
   "metadata": {},
   "source": [
    "# Importing libraries"
   ]
  },
  {
   "cell_type": "code",
   "execution_count": 1,
   "id": "223649e4",
   "metadata": {},
   "outputs": [],
   "source": [
    "# !pip install lxml"
   ]
  },
  {
   "cell_type": "code",
   "execution_count": 2,
   "id": "5ad98237",
   "metadata": {},
   "outputs": [],
   "source": [
    "import pandas as pd\n",
    "import numpy as np\n",
    "from time import sleep\n",
    "from random import randint\n",
    "from bs4 import BeautifulSoup\n",
    "import requests"
   ]
  },
  {
   "cell_type": "code",
   "execution_count": 3,
   "id": "a55396d6",
   "metadata": {},
   "outputs": [],
   "source": [
    "# Libraries needed to read xblr documents\n",
    "import csv\n",
    "import pprint\n",
    "import pathlib\n",
    "import collections\n",
    "# Parser for xblr, alternative to BeautifulSoup\n",
    "import xml.etree.ElementTree as ET\n",
    "\n",
    "# For indexing the different files\n",
    "from os import listdir\n",
    "from os.path import isfile, join"
   ]
  },
  {
   "cell_type": "markdown",
   "id": "bd0fd674",
   "metadata": {},
   "source": [
    "# Getting a list of the files"
   ]
  },
  {
   "cell_type": "code",
   "execution_count": 4,
   "id": "6c546a18",
   "metadata": {},
   "outputs": [
    {
     "data": {
      "text/plain": [
       "WindowsPath('D:/Dokumente D/GoogleDriveD/Ironhack/Credit_Rating_Project/Raw Data/XBRL-Files')"
      ]
     },
     "execution_count": 4,
     "metadata": {},
     "output_type": "execute_result"
    }
   ],
   "source": [
    "# Setting the path of the xblr files\n",
    "rating_directory = pathlib.Path.cwd().joinpath('Raw Data').joinpath('XBRL-Files')\n",
    "rating_directory"
   ]
  },
  {
   "cell_type": "code",
   "execution_count": 5,
   "id": "c08107e3",
   "metadata": {},
   "outputs": [],
   "source": [
    "files_list = []"
   ]
  },
  {
   "cell_type": "code",
   "execution_count": 6,
   "id": "c8655d9b",
   "metadata": {},
   "outputs": [],
   "source": [
    "files_list = listdir(rating_directory)"
   ]
  },
  {
   "cell_type": "code",
   "execution_count": 7,
   "id": "f4b2cf37",
   "metadata": {},
   "outputs": [
    {
     "data": {
      "text/plain": [
       "'Moodys-NRSRO-100000-2023-01-15.xml'"
      ]
     },
     "execution_count": 7,
     "metadata": {},
     "output_type": "execute_result"
    }
   ],
   "source": [
    "len(files_list)\n",
    "files_list[0]"
   ]
  },
  {
   "cell_type": "markdown",
   "id": "7db8308d",
   "metadata": {},
   "source": [
    "# Creating a list of rating actions:"
   ]
  },
  {
   "cell_type": "code",
   "execution_count": 8,
   "id": "43bcf1e4",
   "metadata": {},
   "outputs": [],
   "source": [
    "from IPython.display import clear_output"
   ]
  },
  {
   "cell_type": "code",
   "execution_count": 10,
   "id": "297f53b0",
   "metadata": {},
   "outputs": [],
   "source": [
    "# This was for testing purposes\n",
    "# Actions = []\n",
    "# name = soup.select('OD > OBNAME')[0].text\n",
    "# act_date = soup.select('ORD > RAD')[0].text\n",
    "# rating = soup.select('ORD > R')[0].text\n",
    "# action = [name,act_date,rating]\n",
    "# Actions.append(action)"
   ]
  },
  {
   "cell_type": "code",
   "execution_count": 11,
   "id": "46c2941e",
   "metadata": {},
   "outputs": [
    {
     "name": "stdout",
     "output_type": "stream",
     "text": [
      "99.92%\n",
      "Number of errors so far: 1\n"
     ]
    },
    {
     "name": "stderr",
     "output_type": "stream",
     "text": [
      "D:\\Users\\Giancarlo\\anaconda3\\lib\\site-packages\\bs4\\builder\\__init__.py:545: XMLParsedAsHTMLWarning: It looks like you're parsing an XML document using an HTML parser. If this really is an HTML document (maybe it's XHTML?), you can ignore or filter this warning. If it's XML, you should know that using an XML parser will be more reliable. To parse this document as XML, make sure you have the lxml package installed, and pass the keyword argument `features=\"xml\"` into the BeautifulSoup constructor.\n",
      "  warnings.warn(\n"
     ]
    }
   ],
   "source": [
    "# Accessing all files\n",
    "Actions = []\n",
    "Counter = 0\n",
    "Progress = 0.00\n",
    "Progress_old = 0.00\n",
    "Errorcount = 0\n",
    "for filename in files_list:\n",
    "    try:\n",
    "        Counter += 1\n",
    "        filepath = open(rating_directory.joinpath(filename))\n",
    "        file = filepath.read()\n",
    "        # Creating soup\n",
    "        soup = BeautifulSoup(file, 'lxml')\n",
    "        # Getting date from all ORD entries\n",
    "        for entry in range(len(soup.select('ORD'))):\n",
    "            # Appending the entries to our list\n",
    "            name = soup.select('OD > OBNAME')[0].text\n",
    "            # We convert commas to question marks to not get some weird errors when reading the csv, we will then change it back\n",
    "            name = name.replace(',','?')\n",
    "            act_date = soup.select('ORD > RAD')[entry].text\n",
    "            rating = soup.select('ORD > R')[entry].text\n",
    "            action = [name,act_date,rating]\n",
    "            Actions.append(action)\n",
    "            # Tracking progress\n",
    "            Progress = round(Counter/len(files_list)*100,2)\n",
    "            if Progress > Progress_old + 0.1:\n",
    "                Progress_old = Progress\n",
    "                clear_output()\n",
    "                print(str(Progress)+'%')\n",
    "                print('Number of errors so far: '+str(Errorcount))\n",
    "                # Saving results every 0.1%\n",
    "                actionframe = pd.DataFrame(Actions, columns = ['Company','Date','Rating'])\n",
    "                actionframe.to_csv('Prepared Data/Rating_data'+str(Progress)+'.csv', index=False)\n",
    "                # Reset the list\n",
    "                Actions = []\n",
    "    except:\n",
    "        # If there is an error with processing a file, we will continues with the others\n",
    "        Errorcount += 1\n",
    "        pass"
   ]
  },
  {
   "cell_type": "code",
   "execution_count": null,
   "id": "69cb097d",
   "metadata": {},
   "outputs": [],
   "source": []
  }
 ],
 "metadata": {
  "kernelspec": {
   "display_name": "Python 3 (ipykernel)",
   "language": "python",
   "name": "python3"
  },
  "language_info": {
   "codemirror_mode": {
    "name": "ipython",
    "version": 3
   },
   "file_extension": ".py",
   "mimetype": "text/x-python",
   "name": "python",
   "nbconvert_exporter": "python",
   "pygments_lexer": "ipython3",
   "version": "3.9.13"
  }
 },
 "nbformat": 4,
 "nbformat_minor": 5
}
