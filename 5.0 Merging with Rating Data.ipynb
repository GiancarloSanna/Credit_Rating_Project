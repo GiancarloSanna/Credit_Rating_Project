{
 "cells": [
  {
   "cell_type": "markdown",
   "id": "61086b0b",
   "metadata": {},
   "source": [
    "# Merging the Rating- to the Main Data\n",
    "In this notebook we will merge the rating to the main Data.\n",
    "The problem here are the differences in spelling between these two."
   ]
  },
  {
   "cell_type": "markdown",
   "id": "cf685984",
   "metadata": {},
   "source": [
    "## Importing libraries"
   ]
  },
  {
   "cell_type": "code",
   "execution_count": 1,
   "id": "a6bbbe5d",
   "metadata": {},
   "outputs": [],
   "source": [
    "import pandas as pd\n",
    "import numpy as np\n",
    "import matplotlib.pyplot as plt\n",
    "import seaborn as sns\n",
    "import time\n",
    "from datetime import date"
   ]
  },
  {
   "cell_type": "code",
   "execution_count": 7,
   "id": "43420983",
   "metadata": {},
   "outputs": [],
   "source": [
    "# !pip install Levenshtein\n",
    "# !pip install fuzzywuzzy"
   ]
  },
  {
   "cell_type": "code",
   "execution_count": 15,
   "id": "b85b842e",
   "metadata": {},
   "outputs": [],
   "source": [
    "# We will try to match the company names using different libraries and see wich method serves us best\n",
    "import difflib\n",
    "from difflib import SequenceMatcher\n",
    "from fuzzywuzzy import fuzz"
   ]
  },
  {
   "cell_type": "markdown",
   "id": "75702e07",
   "metadata": {},
   "source": [
    "## Loading files"
   ]
  },
  {
   "cell_type": "code",
   "execution_count": 10,
   "id": "0ac85378",
   "metadata": {},
   "outputs": [],
   "source": [
    "ratings_df = pd.read_csv('Prepared Frames/rating_data.csv')\n",
    "df_companies = pd.read_csv('Prepared Frames/company_data.csv')"
   ]
  },
  {
   "cell_type": "markdown",
   "id": "f0498f70",
   "metadata": {},
   "source": [
    "## Looking for matches\n",
    "We will create a column for each method in our dataframe, where we will insert the closest match found with the ratings dataframe."
   ]
  },
  {
   "cell_type": "code",
   "execution_count": 14,
   "id": "b6140e66",
   "metadata": {},
   "outputs": [
    {
     "data": {
      "text/plain": [
       "17713"
      ]
     },
     "execution_count": 14,
     "metadata": {},
     "output_type": "execute_result"
    }
   ],
   "source": [
    "# Making a list of the companies in the ratings dataframe\n",
    "r_companies = list(ratings_df['Company'].unique())\n",
    "len(r_companies)"
   ]
  },
  {
   "cell_type": "markdown",
   "id": "bfd59f29",
   "metadata": {},
   "source": [
    "#### Difflib"
   ]
  },
  {
   "cell_type": "code",
   "execution_count": 50,
   "id": "2c87584e",
   "metadata": {},
   "outputs": [],
   "source": [
    "# We want the matchs wo be very close, it is crucial to not get false matches,+\n",
    "# while losing data is not ideal, but has to be expected in this case.\n",
    "def getmatch(company):\n",
    "    # We check if we have very close matches for the companies and return maximum of one value.\n",
    "    try:\n",
    "        return difflib.get_close_matches(company,r_companies,1,cutoff)[0]\n",
    "    # If nothing is found, we return nothing, to get a NaN which will be easy for us to track\n",
    "    except:\n",
    "        pass"
   ]
  },
  {
   "cell_type": "code",
   "execution_count": 51,
   "id": "0f8255cf",
   "metadata": {},
   "outputs": [
    {
     "data": {
      "text/plain": [
       "'Black Gold Re Limited'"
      ]
     },
     "execution_count": 51,
     "metadata": {},
     "output_type": "execute_result"
    }
   ],
   "source": [
    "# Test\n",
    "# The cutoff is just for testing purposes, we will use a way tighter one on our dataset.\n",
    "cutoff = 0.5\n",
    "getmatch('Barrick Gold')"
   ]
  },
  {
   "cell_type": "code",
   "execution_count": 52,
   "id": "b1c16353",
   "metadata": {},
   "outputs": [],
   "source": [
    "# Applying it to our dataset"
   ]
  },
  {
   "cell_type": "code",
   "execution_count": null,
   "id": "0512084b",
   "metadata": {},
   "outputs": [],
   "source": [
    "cutoff = 0.8\n",
    "df_companies['difflib'] = main_df['Company Name'].apply(getmatch)"
   ]
  },
  {
   "cell_type": "code",
   "execution_count": null,
   "id": "4da02278",
   "metadata": {},
   "outputs": [],
   "source": []
  }
 ],
 "metadata": {
  "kernelspec": {
   "display_name": "Python 3 (ipykernel)",
   "language": "python",
   "name": "python3"
  },
  "language_info": {
   "codemirror_mode": {
    "name": "ipython",
    "version": 3
   },
   "file_extension": ".py",
   "mimetype": "text/x-python",
   "name": "python",
   "nbconvert_exporter": "python",
   "pygments_lexer": "ipython3",
   "version": "3.9.13"
  }
 },
 "nbformat": 4,
 "nbformat_minor": 5
}
