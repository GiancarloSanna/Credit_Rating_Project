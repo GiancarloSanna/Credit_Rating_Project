{
 "cells": [
  {
   "cell_type": "markdown",
   "id": "5c21c8d6",
   "metadata": {},
   "source": [
    "# Merging the rating data with my dataset"
   ]
  },
  {
   "cell_type": "code",
   "execution_count": 1,
   "id": "3a858566",
   "metadata": {},
   "outputs": [],
   "source": [
    "import pandas as pd\n",
    "import numpy as np\n",
    "import matplotlib.pyplot as plt\n",
    "import seaborn as sns\n",
    "import time\n",
    "from datetime import date"
   ]
  },
  {
   "cell_type": "code",
   "execution_count": 2,
   "id": "dda35124",
   "metadata": {},
   "outputs": [],
   "source": [
    "# For indexing the different files\n",
    "from os import listdir\n",
    "from os.path import isfile, join\n",
    "import csv\n",
    "import pprint\n",
    "import pathlib\n",
    "import collections"
   ]
  },
  {
   "cell_type": "code",
   "execution_count": 3,
   "id": "fddbd0f9",
   "metadata": {},
   "outputs": [],
   "source": [
    "import time\n",
    "from datetime import date"
   ]
  },
  {
   "cell_type": "markdown",
   "id": "2596935d",
   "metadata": {},
   "source": [
    "# Loading the credit rating actions:"
   ]
  },
  {
   "cell_type": "markdown",
   "id": "554b2417",
   "metadata": {},
   "source": [
    "#### Retrieving all the filepaths"
   ]
  },
  {
   "cell_type": "code",
   "execution_count": 4,
   "id": "0f213dfc",
   "metadata": {},
   "outputs": [],
   "source": [
    "# Path of the file directory\n",
    "rating_directory = pathlib.Path.cwd().joinpath('Prepared Data')"
   ]
  },
  {
   "cell_type": "code",
   "execution_count": 5,
   "id": "d44797fd",
   "metadata": {},
   "outputs": [],
   "source": [
    "# Gewtting list of all files\n",
    "files_list = []\n",
    "files_list = listdir(rating_directory)"
   ]
  },
  {
   "cell_type": "code",
   "execution_count": 6,
   "id": "00c9c619",
   "metadata": {},
   "outputs": [],
   "source": [
    "rating_frames = []"
   ]
  },
  {
   "cell_type": "code",
   "execution_count": 7,
   "id": "a1cb3dce",
   "metadata": {},
   "outputs": [],
   "source": [
    "# Getting all files as dataframes into a list\n",
    "for file in files_list:\n",
    "    filepath = open(rating_directory.joinpath(file))\n",
    "    df = pd.read_csv(filepath)\n",
    "    rating_frames.append(df)"
   ]
  },
  {
   "cell_type": "code",
   "execution_count": 8,
   "id": "f915a321",
   "metadata": {},
   "outputs": [],
   "source": [
    "# Merging all files\n",
    "ratings_df = pd.concat(rating_frames, axis=0)"
   ]
  },
  {
   "cell_type": "code",
   "execution_count": 9,
   "id": "d95a3309",
   "metadata": {},
   "outputs": [
    {
     "data": {
      "text/html": [
       "<div>\n",
       "<style scoped>\n",
       "    .dataframe tbody tr th:only-of-type {\n",
       "        vertical-align: middle;\n",
       "    }\n",
       "\n",
       "    .dataframe tbody tr th {\n",
       "        vertical-align: top;\n",
       "    }\n",
       "\n",
       "    .dataframe thead th {\n",
       "        text-align: right;\n",
       "    }\n",
       "</style>\n",
       "<table border=\"1\" class=\"dataframe\">\n",
       "  <thead>\n",
       "    <tr style=\"text-align: right;\">\n",
       "      <th></th>\n",
       "      <th>Company</th>\n",
       "      <th>Date</th>\n",
       "      <th>Rating</th>\n",
       "    </tr>\n",
       "  </thead>\n",
       "  <tbody>\n",
       "    <tr>\n",
       "      <th>7</th>\n",
       "      <td>Texarkana College? TX</td>\n",
       "      <td>2021-08-05</td>\n",
       "      <td>WR</td>\n",
       "    </tr>\n",
       "    <tr>\n",
       "      <th>8</th>\n",
       "      <td>Missoula County Public School District 1? MT</td>\n",
       "      <td>2021-04-06</td>\n",
       "      <td>Aa3</td>\n",
       "    </tr>\n",
       "    <tr>\n",
       "      <th>9</th>\n",
       "      <td>Niles Township District for Special Education ...</td>\n",
       "      <td>2021-02-02</td>\n",
       "      <td>Aa3</td>\n",
       "    </tr>\n",
       "    <tr>\n",
       "      <th>10</th>\n",
       "      <td>Idaho Public Charter School Facilities Program</td>\n",
       "      <td>2021-03-10</td>\n",
       "      <td>Aa3</td>\n",
       "    </tr>\n",
       "    <tr>\n",
       "      <th>11</th>\n",
       "      <td>Mineral Area Community College District? MO (R...</td>\n",
       "      <td>2021-08-05</td>\n",
       "      <td>A2</td>\n",
       "    </tr>\n",
       "    <tr>\n",
       "      <th>12</th>\n",
       "      <td>Orangeburg County School District? SC</td>\n",
       "      <td>2021-03-19</td>\n",
       "      <td>A2</td>\n",
       "    </tr>\n",
       "    <tr>\n",
       "      <th>13</th>\n",
       "      <td>Bethlehem Area Vocational-Technical School? PA</td>\n",
       "      <td>2021-03-26</td>\n",
       "      <td>A1</td>\n",
       "    </tr>\n",
       "    <tr>\n",
       "      <th>14</th>\n",
       "      <td>York County School of Technology? PA</td>\n",
       "      <td>2021-03-18</td>\n",
       "      <td>A2</td>\n",
       "    </tr>\n",
       "    <tr>\n",
       "      <th>15</th>\n",
       "      <td>Hamilton? Fulton and Montgomery Counties Board...</td>\n",
       "      <td>2021-03-26</td>\n",
       "      <td>A1</td>\n",
       "    </tr>\n",
       "    <tr>\n",
       "      <th>16</th>\n",
       "      <td>North West Fire District? NY</td>\n",
       "      <td>2021-04-12</td>\n",
       "      <td>A1</td>\n",
       "    </tr>\n",
       "    <tr>\n",
       "      <th>17</th>\n",
       "      <td>Golden State Finance Authority? CA</td>\n",
       "      <td>2021-05-07</td>\n",
       "      <td>A3</td>\n",
       "    </tr>\n",
       "    <tr>\n",
       "      <th>18</th>\n",
       "      <td>Eastern Westmoreland Career and Technology Cen...</td>\n",
       "      <td>2021-04-30</td>\n",
       "      <td>A3</td>\n",
       "    </tr>\n",
       "    <tr>\n",
       "      <th>19</th>\n",
       "      <td>Valley Cottage Fire District? NY</td>\n",
       "      <td>2021-06-07</td>\n",
       "      <td>Aa3</td>\n",
       "    </tr>\n",
       "    <tr>\n",
       "      <th>20</th>\n",
       "      <td>Travis County Healthcare District? TX</td>\n",
       "      <td>2021-06-07</td>\n",
       "      <td>Aa2</td>\n",
       "    </tr>\n",
       "    <tr>\n",
       "      <th>21</th>\n",
       "      <td>West Islip Fire District? NY</td>\n",
       "      <td>2021-06-18</td>\n",
       "      <td>Aa2</td>\n",
       "    </tr>\n",
       "    <tr>\n",
       "      <th>22</th>\n",
       "      <td>Northern Colorado Water Conservancy District? CO</td>\n",
       "      <td>2021-07-09</td>\n",
       "      <td>Aaa</td>\n",
       "    </tr>\n",
       "    <tr>\n",
       "      <th>23</th>\n",
       "      <td>Overlook Metropolitan District? CO</td>\n",
       "      <td>2021-07-26</td>\n",
       "      <td>Baa2</td>\n",
       "    </tr>\n",
       "    <tr>\n",
       "      <th>24</th>\n",
       "      <td>Leyden Rock Metropolitan District? CO</td>\n",
       "      <td>2021-08-16</td>\n",
       "      <td>A2</td>\n",
       "    </tr>\n",
       "    <tr>\n",
       "      <th>25</th>\n",
       "      <td>Great Western Park Metro. District No. 2? CO</td>\n",
       "      <td>2021-08-03</td>\n",
       "      <td>A3</td>\n",
       "    </tr>\n",
       "    <tr>\n",
       "      <th>26</th>\n",
       "      <td>North Davis Fire District? UT</td>\n",
       "      <td>2021-09-13</td>\n",
       "      <td>Aa3</td>\n",
       "    </tr>\n",
       "  </tbody>\n",
       "</table>\n",
       "</div>"
      ],
      "text/plain": [
       "                                              Company        Date Rating\n",
       "7                               Texarkana College? TX  2021-08-05     WR\n",
       "8        Missoula County Public School District 1? MT  2021-04-06    Aa3\n",
       "9   Niles Township District for Special Education ...  2021-02-02    Aa3\n",
       "10     Idaho Public Charter School Facilities Program  2021-03-10    Aa3\n",
       "11  Mineral Area Community College District? MO (R...  2021-08-05     A2\n",
       "12              Orangeburg County School District? SC  2021-03-19     A2\n",
       "13     Bethlehem Area Vocational-Technical School? PA  2021-03-26     A1\n",
       "14               York County School of Technology? PA  2021-03-18     A2\n",
       "15  Hamilton? Fulton and Montgomery Counties Board...  2021-03-26     A1\n",
       "16                       North West Fire District? NY  2021-04-12     A1\n",
       "17                 Golden State Finance Authority? CA  2021-05-07     A3\n",
       "18  Eastern Westmoreland Career and Technology Cen...  2021-04-30     A3\n",
       "19                   Valley Cottage Fire District? NY  2021-06-07    Aa3\n",
       "20              Travis County Healthcare District? TX  2021-06-07    Aa2\n",
       "21                       West Islip Fire District? NY  2021-06-18    Aa2\n",
       "22   Northern Colorado Water Conservancy District? CO  2021-07-09    Aaa\n",
       "23                 Overlook Metropolitan District? CO  2021-07-26   Baa2\n",
       "24              Leyden Rock Metropolitan District? CO  2021-08-16     A2\n",
       "25       Great Western Park Metro. District No. 2? CO  2021-08-03     A3\n",
       "26                      North Davis Fire District? UT  2021-09-13    Aa3"
      ]
     },
     "metadata": {},
     "output_type": "display_data"
    },
    {
     "data": {
      "text/plain": [
       "(81592, 3)"
      ]
     },
     "execution_count": 9,
     "metadata": {},
     "output_type": "execute_result"
    }
   ],
   "source": [
    "display(ratings_df.tail(20))\n",
    "ratings_df.shape"
   ]
  },
  {
   "cell_type": "code",
   "execution_count": 10,
   "id": "5fc86a44",
   "metadata": {},
   "outputs": [],
   "source": [
    "# Changing back the question marks to commas\n",
    "def convert(x):\n",
    "    return x.replace('?',',')\n",
    "ratings_df['Company'] = ratings_df['Company'].apply(convert)"
   ]
  },
  {
   "cell_type": "code",
   "execution_count": 11,
   "id": "e481f239",
   "metadata": {},
   "outputs": [],
   "source": [
    "# Converting the Date to datetime format\n",
    "ratings_df['Date'] = pd.to_datetime(ratings_df['Date'])"
   ]
  },
  {
   "cell_type": "markdown",
   "id": "cca853aa",
   "metadata": {},
   "source": [
    "## Data cleaning\n",
    "Before we will take a look at the matches, we will clean up the other two columns of our dataframe."
   ]
  },
  {
   "cell_type": "markdown",
   "id": "a47456cb",
   "metadata": {},
   "source": [
    "#### Date column"
   ]
  },
  {
   "cell_type": "code",
   "execution_count": 18,
   "id": "e7ab37a5",
   "metadata": {},
   "outputs": [],
   "source": [
    "# The good thing is, if there is anything but a date in the column, \n",
    "# the datetime function will throw an error.\n",
    "ratings_df['Date'] = pd.to_datetime(ratings_df['Date'])\n",
    "\n",
    "# Looks like the conversation here was successfull"
   ]
  },
  {
   "cell_type": "markdown",
   "id": "c58bb4a9",
   "metadata": {},
   "source": [
    "#### Rating column\n",
    "We have a look at the unique values in the rating column, those should ideally not be too many"
   ]
  },
  {
   "cell_type": "code",
   "execution_count": 24,
   "id": "58eff642",
   "metadata": {},
   "outputs": [
    {
     "data": {
      "text/plain": [
       "67"
      ]
     },
     "execution_count": 24,
     "metadata": {},
     "output_type": "execute_result"
    }
   ],
   "source": [
    "len(ratings_df['Rating'].unique())\n",
    "# I commented this out for not to bloat the notebook\n",
    "# ratings_df['Rating'].unique()"
   ]
  },
  {
   "cell_type": "markdown",
   "id": "df1a10de",
   "metadata": {},
   "source": [
    "The bad news: There are way too many unique values.\n",
    "The good news: They all look like ratings, sometimes there are some values attached that do not belong there. We will try to get rid of them."
   ]
  },
  {
   "cell_type": "markdown",
   "id": "0b113957",
   "metadata": {},
   "source": [
    "Most of the malformed rating follow the pattern, that they have a dot attached and then some characters.\n",
    "We can help ourselfs here with a simple split function."
   ]
  },
  {
   "cell_type": "code",
   "execution_count": 26,
   "id": "2c254b38",
   "metadata": {},
   "outputs": [],
   "source": [
    "def remove_attach(rating):\n",
    "    try:\n",
    "        # We only take what is before the dot.\n",
    "        res = rating.split('.')[0]\n",
    "    except:\n",
    "        # If there is no dot we leave the string as is.\n",
    "        res = rating\n",
    "    # Additionally we often see \"(P)\"  or \"-PD\" attached to our rating, we will get rid of that too.\n",
    "    res = res.replace('(P)','')\n",
    "    res = res.replace('-PD','')\n",
    "    return res        "
   ]
  },
  {
   "cell_type": "code",
   "execution_count": 27,
   "id": "97ee8647",
   "metadata": {},
   "outputs": [
    {
     "data": {
      "text/plain": [
       "55"
      ]
     },
     "execution_count": 27,
     "metadata": {},
     "output_type": "execute_result"
    }
   ],
   "source": [
    "# We apply the cleaning function on our dataframe\n",
    "ratings_df['Rating'] = ratings_df['Rating'].apply(remove_attach)\n",
    "len(ratings_df['Rating'].unique())"
   ]
  },
  {
   "cell_type": "code",
   "execution_count": 29,
   "id": "860dcb5b",
   "metadata": {},
   "outputs": [
    {
     "data": {
      "text/plain": [
       "array(['Ba1', 'WR', 'A2', 'A3', 'Baa2', 'Ba3', 'Ba2', 'B1', 'Aa3', 'Baa1',\n",
       "       'Baa3', 'NP', 'P-3', 'P-2', 'P-1', 'A1', 'Caa2', 'B2', 'Aa1',\n",
       "       'Aa2', 'Aaa', 'B3', 'Caa1', 'Ca', 'Caa3', 'D', 'TR-1', 'C', 'MX-1',\n",
       "       'BR-1', 'BR-2', 'BR-4', 'SA-2', 'SA-1', 'BR-3', 'LB-1', 'LB-2',\n",
       "       'LB-3', 'LB-4', 'MA-1', 'BO-1', 'MX-2', 'MX-3', 'MX-4', 'BO-3',\n",
       "       'BO-2', 'TR-2', 'TR-3', 'TR-4', 'CZ-4', 'NG-1', 'NG-2', 'NG-4',\n",
       "       'KE-1', 'MIG 1'], dtype=object)"
      ]
     },
     "execution_count": 29,
     "metadata": {},
     "output_type": "execute_result"
    }
   ],
   "source": [
    "# The rating that are relevant for us, since they are company credit ratings are now clean.\n",
    "# We are talking about those, who Start with the letters A, B or C\n",
    "ratings_df['Rating'].unique()"
   ]
  },
  {
   "cell_type": "markdown",
   "id": "20353dc9",
   "metadata": {},
   "source": [
    "## Saving the cleaned Ratings Data"
   ]
  },
  {
   "cell_type": "code",
   "execution_count": 30,
   "id": "e2f64813",
   "metadata": {},
   "outputs": [],
   "source": [
    "ratings_df.to_csv('Prepared Frames/rating_data.csv', index=False)"
   ]
  },
  {
   "cell_type": "code",
   "execution_count": null,
   "id": "e6cb5825",
   "metadata": {},
   "outputs": [],
   "source": []
  },
  {
   "cell_type": "code",
   "execution_count": null,
   "id": "a43a2c1a",
   "metadata": {},
   "outputs": [],
   "source": []
  },
  {
   "cell_type": "code",
   "execution_count": null,
   "id": "fdd22e66",
   "metadata": {},
   "outputs": [],
   "source": []
  },
  {
   "cell_type": "code",
   "execution_count": 16,
   "id": "ed83092c",
   "metadata": {},
   "outputs": [],
   "source": []
  },
  {
   "cell_type": "code",
   "execution_count": null,
   "id": "5f44864e",
   "metadata": {},
   "outputs": [],
   "source": []
  }
 ],
 "metadata": {
  "kernelspec": {
   "display_name": "Python 3 (ipykernel)",
   "language": "python",
   "name": "python3"
  },
  "language_info": {
   "codemirror_mode": {
    "name": "ipython",
    "version": 3
   },
   "file_extension": ".py",
   "mimetype": "text/x-python",
   "name": "python",
   "nbconvert_exporter": "python",
   "pygments_lexer": "ipython3",
   "version": "3.9.13"
  }
 },
 "nbformat": 4,
 "nbformat_minor": 5
}
