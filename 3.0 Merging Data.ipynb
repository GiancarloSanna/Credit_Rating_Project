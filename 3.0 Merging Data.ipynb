{
 "cells": [
  {
   "cell_type": "markdown",
   "id": "4c7c7a90",
   "metadata": {},
   "source": [
    "# Here we merge our cleaned data"
   ]
  },
  {
   "cell_type": "markdown",
   "id": "f22f3080",
   "metadata": {},
   "source": [
    "## Importing libraries"
   ]
  },
  {
   "cell_type": "code",
   "execution_count": 1,
   "id": "750fcb7d",
   "metadata": {},
   "outputs": [],
   "source": [
    "# Basics\n",
    "import pandas as pd\n",
    "import numpy as np\n",
    "import matplotlib.pyplot as plt\n",
    "import seaborn as sns\n",
    "import time\n",
    "from datetime import date"
   ]
  },
  {
   "cell_type": "code",
   "execution_count": 2,
   "id": "d06b25c1",
   "metadata": {},
   "outputs": [],
   "source": [
    "## Loading the Datasets\n",
    "df_industries = pd.read_csv('Prepared Frames/industry_data.csv')\n",
    "df_companies = pd.read_csv('Prepared Frames/company_data.csv')\n",
    "df_balance = pd.read_csv('Prepared Frames/balance_data.csv')\n",
    "df_cashflow = pd.read_csv('Prepared Frames/cashflow_data.csv')"
   ]
  },
  {
   "cell_type": "code",
   "execution_count": null,
   "id": "d5db1590",
   "metadata": {},
   "outputs": [],
   "source": []
  }
 ],
 "metadata": {
  "kernelspec": {
   "display_name": "Python 3 (ipykernel)",
   "language": "python",
   "name": "python3"
  },
  "language_info": {
   "codemirror_mode": {
    "name": "ipython",
    "version": 3
   },
   "file_extension": ".py",
   "mimetype": "text/x-python",
   "name": "python",
   "nbconvert_exporter": "python",
   "pygments_lexer": "ipython3",
   "version": "3.9.13"
  }
 },
 "nbformat": 4,
 "nbformat_minor": 5
}
