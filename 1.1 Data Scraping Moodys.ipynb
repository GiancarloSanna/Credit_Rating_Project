{
 "cells": [
  {
   "cell_type": "markdown",
   "id": "928598ee",
   "metadata": {},
   "source": [
    "# Scraping Credit Ratings from Moodys"
   ]
  },
  {
   "cell_type": "markdown",
   "id": "60f46be9",
   "metadata": {},
   "source": [
    "In this notebook I will get the raw data for Moody's credit rating via web scraping"
   ]
  },
  {
   "cell_type": "markdown",
   "id": "9076e5db",
   "metadata": {},
   "source": [
    "#### Importing libraries"
   ]
  },
  {
   "cell_type": "code",
   "execution_count": 1,
   "id": "5ad98237",
   "metadata": {},
   "outputs": [],
   "source": [
    "import pandas as pd\n",
    "import numpy as np\n",
    "from time import sleep\n",
    "from random import randint\n",
    "from bs4 import BeautifulSoup\n",
    "import requests"
   ]
  },
  {
   "cell_type": "markdown",
   "id": "fb9d5dc8",
   "metadata": {},
   "source": [
    "# Trying an example"
   ]
  },
  {
   "cell_type": "markdown",
   "id": "bd0fd674",
   "metadata": {},
   "source": [
    "#### Base URL"
   ]
  },
  {
   "cell_type": "code",
   "execution_count": 2,
   "id": "c61da6ac",
   "metadata": {},
   "outputs": [],
   "source": [
    "base_url = r'https://www.moodys.com/researchandratings/viewall/ratings-assessments-news/rating-action/00300E001/00300E001/-/0/0/p_published_date_time/-1/-/-/-/-1/-/-/-/en/global/pdf/-/rra'"
   ]
  },
  {
   "cell_type": "markdown",
   "id": "33cf8958",
   "metadata": {},
   "source": [
    "#### Testing the result"
   ]
  },
  {
   "cell_type": "code",
   "execution_count": 5,
   "id": "9d5ac74b",
   "metadata": {},
   "outputs": [
    {
     "data": {
      "text/plain": [
       "200"
      ]
     },
     "execution_count": 5,
     "metadata": {},
     "output_type": "execute_result"
    }
   ],
   "source": [
    "response = requests.get(base_url)\n",
    "response.status_code"
   ]
  },
  {
   "cell_type": "code",
   "execution_count": 10,
   "id": "5a6e4e21",
   "metadata": {},
   "outputs": [
    {
     "data": {
      "text/plain": [
       "b'<!doctype html><html lang=\"en\"><head><meta charset=\"utf-8\"/><base href=\"/account/\"/><link rel=\"icon\" href=\"/asset/images/favicon.ico\"/><meta name=\"viewport\" content=\"width=device-width,initial-scale=1\"/><meta name=\"theme-color\" content=\"#000000\"/><meta name=\"description\" content=\"Moody\\xe2\\x80\\x99s CreditView is our flagship solution for global capital markets that incorporates credit ratings, research and data from Moody\\xe2\\x80\\x99s Investors Service plus research, data and content from Moody\\xe2\\x80\\x99s Analytics.\"/><link rel=\"manifest\" href=\"manifest.json\"/><title>Moody\\'s - Account</title><meta name=\"build-date\" content=\"Wed, 11 Jan 2023 22:17:57 GMT\"><script defer=\"defer\" src=\"main.bd48cc23.js\"></script></head><body><noscript>You need to enable JavaScript to run this app.</noscript><div id=\"root\"></div><script id=\"adobeDTMScript\" src=\"https://assets.adobedtm.com/601d518357f1/dc3a220a1b1b/launch-ENb743b986cb7b4bed811b092db7c593ab.min.js\" type=\"text/javascript\" async></script><script defer src=\"https://static.cloudflareinsights.com/beacon.min.js/vaafb692b2aea4879b33c060e79fe94621666317369993\" integrity=\"sha512-0ahDYl866UMhKuYcW078ScMalXqtFJggm7TmlUtp0UlD4eQk0Ixfnm5ykXKvGJNFjLMoortdseTfsRT8oCfgGA==\" data-cf-beacon=\\'{\"rayId\":\"78fa93b2ea2a4181\",\"token\":\"942fa1d5e4dc42d6bc56433ddcec2a9b\",\"version\":\"2022.11.3\",\"si\":100}\\' crossorigin=\"anonymous\"></script>\\n</body></html>'"
      ]
     },
     "execution_count": 10,
     "metadata": {},
     "output_type": "execute_result"
    }
   ],
   "source": [
    "response.content"
   ]
  },
  {
   "cell_type": "code",
   "execution_count": 6,
   "id": "f082a06f",
   "metadata": {},
   "outputs": [],
   "source": [
    "# Parsing\n",
    "soup = BeautifulSoup(response.content, \"html.parser\")"
   ]
  },
  {
   "cell_type": "code",
   "execution_count": 9,
   "id": "136cd370",
   "metadata": {},
   "outputs": [
    {
     "data": {
      "text/plain": [
       "<!DOCTYPE html>\n",
       "<html lang=\"en\"><head><meta charset=\"utf-8\"/><base href=\"/account/\"/><link href=\"/asset/images/favicon.ico\" rel=\"icon\"/><meta content=\"width=device-width,initial-scale=1\" name=\"viewport\"/><meta content=\"#000000\" name=\"theme-color\"/><meta content=\"Moody’s CreditView is our flagship solution for global capital markets that incorporates credit ratings, research and data from Moody’s Investors Service plus research, data and content from Moody’s Analytics.\" name=\"description\"/><link href=\"manifest.json\" rel=\"manifest\"/><title>Moody's - Account</title><meta content=\"Wed, 11 Jan 2023 22:17:57 GMT\" name=\"build-date\"/><script defer=\"defer\" src=\"main.bd48cc23.js\"></script></head><body><noscript>You need to enable JavaScript to run this app.</noscript><div id=\"root\"></div><script async=\"\" id=\"adobeDTMScript\" src=\"https://assets.adobedtm.com/601d518357f1/dc3a220a1b1b/launch-ENb743b986cb7b4bed811b092db7c593ab.min.js\" type=\"text/javascript\"></script><script crossorigin=\"anonymous\" data-cf-beacon='{\"rayId\":\"78fa93b2ea2a4181\",\"token\":\"942fa1d5e4dc42d6bc56433ddcec2a9b\",\"version\":\"2022.11.3\",\"si\":100}' defer=\"\" integrity=\"sha512-0ahDYl866UMhKuYcW078ScMalXqtFJggm7TmlUtp0UlD4eQk0Ixfnm5ykXKvGJNFjLMoortdseTfsRT8oCfgGA==\" src=\"https://static.cloudflareinsights.com/beacon.min.js/vaafb692b2aea4879b33c060e79fe94621666317369993\"></script>\n",
       "</body></html>"
      ]
     },
     "execution_count": 9,
     "metadata": {},
     "output_type": "execute_result"
    }
   ],
   "source": [
    "soup"
   ]
  },
  {
   "cell_type": "markdown",
   "id": "95fb7b91",
   "metadata": {},
   "source": [
    "#### Extracting needed features"
   ]
  },
  {
   "cell_type": "code",
   "execution_count": 8,
   "id": "6319846c",
   "metadata": {},
   "outputs": [
    {
     "data": {
      "text/plain": [
       "[]"
      ]
     },
     "execution_count": 8,
     "metadata": {},
     "output_type": "execute_result"
    }
   ],
   "source": [
    "date = soup.select(\"td.mdcResearchDateValue\")\n",
    "date"
   ]
  },
  {
   "cell_type": "code",
   "execution_count": null,
   "id": "ec6d0327",
   "metadata": {},
   "outputs": [],
   "source": []
  }
 ],
 "metadata": {
  "kernelspec": {
   "display_name": "Python 3 (ipykernel)",
   "language": "python",
   "name": "python3"
  },
  "language_info": {
   "codemirror_mode": {
    "name": "ipython",
    "version": 3
   },
   "file_extension": ".py",
   "mimetype": "text/x-python",
   "name": "python",
   "nbconvert_exporter": "python",
   "pygments_lexer": "ipython3",
   "version": "3.9.13"
  }
 },
 "nbformat": 4,
 "nbformat_minor": 5
}
