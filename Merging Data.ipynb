{
 "cells": [
  {
   "cell_type": "markdown",
   "id": "5c21c8d6",
   "metadata": {},
   "source": [
    "# Merging the rating data with my dataset"
   ]
  },
  {
   "cell_type": "code",
   "execution_count": 417,
   "id": "3a858566",
   "metadata": {},
   "outputs": [],
   "source": [
    "import pandas as pd\n",
    "import numpy as np\n",
    "import matplotlib.pyplot as plt\n",
    "import seaborn as sns\n",
    "import time\n",
    "from datetime import date"
   ]
  },
  {
   "cell_type": "code",
   "execution_count": 418,
   "id": "dda35124",
   "metadata": {},
   "outputs": [],
   "source": [
    "# For indexing the different files\n",
    "from os import listdir\n",
    "from os.path import isfile, join\n",
    "import csv\n",
    "import pprint\n",
    "import pathlib\n",
    "import collections"
   ]
  },
  {
   "cell_type": "code",
   "execution_count": 419,
   "id": "fddbd0f9",
   "metadata": {},
   "outputs": [],
   "source": [
    "import time\n",
    "from datetime import date"
   ]
  },
  {
   "cell_type": "markdown",
   "id": "2596935d",
   "metadata": {},
   "source": [
    "# Loading the credit rating actions:"
   ]
  },
  {
   "cell_type": "markdown",
   "id": "554b2417",
   "metadata": {},
   "source": [
    "#### Retrieving all the filepaths"
   ]
  },
  {
   "cell_type": "code",
   "execution_count": 420,
   "id": "0f213dfc",
   "metadata": {},
   "outputs": [],
   "source": [
    "# Path of the file directory\n",
    "rating_directory = pathlib.Path.cwd().joinpath('Prepared Data')"
   ]
  },
  {
   "cell_type": "code",
   "execution_count": 421,
   "id": "d44797fd",
   "metadata": {},
   "outputs": [],
   "source": [
    "# Gewtting list of all files\n",
    "files_list = []\n",
    "files_list = listdir(rating_directory)"
   ]
  },
  {
   "cell_type": "code",
   "execution_count": 422,
   "id": "00c9c619",
   "metadata": {},
   "outputs": [],
   "source": [
    "rating_frames = []"
   ]
  },
  {
   "cell_type": "code",
   "execution_count": 423,
   "id": "a1cb3dce",
   "metadata": {},
   "outputs": [],
   "source": [
    "# Getting all files as dataframes into a list\n",
    "for file in files_list:\n",
    "    filepath = open(rating_directory.joinpath(file))\n",
    "    df = pd.read_csv(filepath)\n",
    "    rating_frames.append(df)"
   ]
  },
  {
   "cell_type": "code",
   "execution_count": 424,
   "id": "f915a321",
   "metadata": {},
   "outputs": [],
   "source": [
    "# Merging all files\n",
    "ratings_df = pd.concat(rating_frames, axis=0)"
   ]
  },
  {
   "cell_type": "code",
   "execution_count": 425,
   "id": "d95a3309",
   "metadata": {},
   "outputs": [
    {
     "data": {
      "text/html": [
       "<div>\n",
       "<style scoped>\n",
       "    .dataframe tbody tr th:only-of-type {\n",
       "        vertical-align: middle;\n",
       "    }\n",
       "\n",
       "    .dataframe tbody tr th {\n",
       "        vertical-align: top;\n",
       "    }\n",
       "\n",
       "    .dataframe thead th {\n",
       "        text-align: right;\n",
       "    }\n",
       "</style>\n",
       "<table border=\"1\" class=\"dataframe\">\n",
       "  <thead>\n",
       "    <tr style=\"text-align: right;\">\n",
       "      <th></th>\n",
       "      <th>Company</th>\n",
       "      <th>Date</th>\n",
       "      <th>Rating</th>\n",
       "    </tr>\n",
       "  </thead>\n",
       "  <tbody>\n",
       "    <tr>\n",
       "      <th>7</th>\n",
       "      <td>Texarkana College? TX</td>\n",
       "      <td>2021-08-05</td>\n",
       "      <td>WR</td>\n",
       "    </tr>\n",
       "    <tr>\n",
       "      <th>8</th>\n",
       "      <td>Missoula County Public School District 1? MT</td>\n",
       "      <td>2021-04-06</td>\n",
       "      <td>Aa3</td>\n",
       "    </tr>\n",
       "    <tr>\n",
       "      <th>9</th>\n",
       "      <td>Niles Township District for Special Education ...</td>\n",
       "      <td>2021-02-02</td>\n",
       "      <td>Aa3</td>\n",
       "    </tr>\n",
       "    <tr>\n",
       "      <th>10</th>\n",
       "      <td>Idaho Public Charter School Facilities Program</td>\n",
       "      <td>2021-03-10</td>\n",
       "      <td>Aa3</td>\n",
       "    </tr>\n",
       "    <tr>\n",
       "      <th>11</th>\n",
       "      <td>Mineral Area Community College District? MO (R...</td>\n",
       "      <td>2021-08-05</td>\n",
       "      <td>A2</td>\n",
       "    </tr>\n",
       "    <tr>\n",
       "      <th>12</th>\n",
       "      <td>Orangeburg County School District? SC</td>\n",
       "      <td>2021-03-19</td>\n",
       "      <td>A2</td>\n",
       "    </tr>\n",
       "    <tr>\n",
       "      <th>13</th>\n",
       "      <td>Bethlehem Area Vocational-Technical School? PA</td>\n",
       "      <td>2021-03-26</td>\n",
       "      <td>A1</td>\n",
       "    </tr>\n",
       "    <tr>\n",
       "      <th>14</th>\n",
       "      <td>York County School of Technology? PA</td>\n",
       "      <td>2021-03-18</td>\n",
       "      <td>A2</td>\n",
       "    </tr>\n",
       "    <tr>\n",
       "      <th>15</th>\n",
       "      <td>Hamilton? Fulton and Montgomery Counties Board...</td>\n",
       "      <td>2021-03-26</td>\n",
       "      <td>A1</td>\n",
       "    </tr>\n",
       "    <tr>\n",
       "      <th>16</th>\n",
       "      <td>North West Fire District? NY</td>\n",
       "      <td>2021-04-12</td>\n",
       "      <td>A1</td>\n",
       "    </tr>\n",
       "    <tr>\n",
       "      <th>17</th>\n",
       "      <td>Golden State Finance Authority? CA</td>\n",
       "      <td>2021-05-07</td>\n",
       "      <td>A3</td>\n",
       "    </tr>\n",
       "    <tr>\n",
       "      <th>18</th>\n",
       "      <td>Eastern Westmoreland Career and Technology Cen...</td>\n",
       "      <td>2021-04-30</td>\n",
       "      <td>A3</td>\n",
       "    </tr>\n",
       "    <tr>\n",
       "      <th>19</th>\n",
       "      <td>Valley Cottage Fire District? NY</td>\n",
       "      <td>2021-06-07</td>\n",
       "      <td>Aa3</td>\n",
       "    </tr>\n",
       "    <tr>\n",
       "      <th>20</th>\n",
       "      <td>Travis County Healthcare District? TX</td>\n",
       "      <td>2021-06-07</td>\n",
       "      <td>Aa2</td>\n",
       "    </tr>\n",
       "    <tr>\n",
       "      <th>21</th>\n",
       "      <td>West Islip Fire District? NY</td>\n",
       "      <td>2021-06-18</td>\n",
       "      <td>Aa2</td>\n",
       "    </tr>\n",
       "    <tr>\n",
       "      <th>22</th>\n",
       "      <td>Northern Colorado Water Conservancy District? CO</td>\n",
       "      <td>2021-07-09</td>\n",
       "      <td>Aaa</td>\n",
       "    </tr>\n",
       "    <tr>\n",
       "      <th>23</th>\n",
       "      <td>Overlook Metropolitan District? CO</td>\n",
       "      <td>2021-07-26</td>\n",
       "      <td>Baa2</td>\n",
       "    </tr>\n",
       "    <tr>\n",
       "      <th>24</th>\n",
       "      <td>Leyden Rock Metropolitan District? CO</td>\n",
       "      <td>2021-08-16</td>\n",
       "      <td>A2</td>\n",
       "    </tr>\n",
       "    <tr>\n",
       "      <th>25</th>\n",
       "      <td>Great Western Park Metro. District No. 2? CO</td>\n",
       "      <td>2021-08-03</td>\n",
       "      <td>A3</td>\n",
       "    </tr>\n",
       "    <tr>\n",
       "      <th>26</th>\n",
       "      <td>North Davis Fire District? UT</td>\n",
       "      <td>2021-09-13</td>\n",
       "      <td>Aa3</td>\n",
       "    </tr>\n",
       "  </tbody>\n",
       "</table>\n",
       "</div>"
      ],
      "text/plain": [
       "                                              Company        Date Rating\n",
       "7                               Texarkana College? TX  2021-08-05     WR\n",
       "8        Missoula County Public School District 1? MT  2021-04-06    Aa3\n",
       "9   Niles Township District for Special Education ...  2021-02-02    Aa3\n",
       "10     Idaho Public Charter School Facilities Program  2021-03-10    Aa3\n",
       "11  Mineral Area Community College District? MO (R...  2021-08-05     A2\n",
       "12              Orangeburg County School District? SC  2021-03-19     A2\n",
       "13     Bethlehem Area Vocational-Technical School? PA  2021-03-26     A1\n",
       "14               York County School of Technology? PA  2021-03-18     A2\n",
       "15  Hamilton? Fulton and Montgomery Counties Board...  2021-03-26     A1\n",
       "16                       North West Fire District? NY  2021-04-12     A1\n",
       "17                 Golden State Finance Authority? CA  2021-05-07     A3\n",
       "18  Eastern Westmoreland Career and Technology Cen...  2021-04-30     A3\n",
       "19                   Valley Cottage Fire District? NY  2021-06-07    Aa3\n",
       "20              Travis County Healthcare District? TX  2021-06-07    Aa2\n",
       "21                       West Islip Fire District? NY  2021-06-18    Aa2\n",
       "22   Northern Colorado Water Conservancy District? CO  2021-07-09    Aaa\n",
       "23                 Overlook Metropolitan District? CO  2021-07-26   Baa2\n",
       "24              Leyden Rock Metropolitan District? CO  2021-08-16     A2\n",
       "25       Great Western Park Metro. District No. 2? CO  2021-08-03     A3\n",
       "26                      North Davis Fire District? UT  2021-09-13    Aa3"
      ]
     },
     "metadata": {},
     "output_type": "display_data"
    },
    {
     "data": {
      "text/plain": [
       "(81592, 3)"
      ]
     },
     "execution_count": 425,
     "metadata": {},
     "output_type": "execute_result"
    }
   ],
   "source": [
    "display(ratings_df.tail(20))\n",
    "ratings_df.shape"
   ]
  },
  {
   "cell_type": "code",
   "execution_count": 426,
   "id": "5fc86a44",
   "metadata": {},
   "outputs": [],
   "source": [
    "# Changing back the question marks to commas\n",
    "def convert(x):\n",
    "    return x.replace('?',',')\n",
    "ratings_df['Company'] = ratings_df['Company'].apply(convert)"
   ]
  },
  {
   "cell_type": "code",
   "execution_count": 427,
   "id": "e481f239",
   "metadata": {},
   "outputs": [],
   "source": [
    "# Converting the Date to datetime format\n",
    "ratings_df['Date'] = pd.to_datetime(ratings_df['Date'])"
   ]
  },
  {
   "cell_type": "markdown",
   "id": "670eac88",
   "metadata": {},
   "source": [
    "#### Loading the company data"
   ]
  },
  {
   "cell_type": "code",
   "execution_count": 428,
   "id": "adcf534b",
   "metadata": {},
   "outputs": [],
   "source": [
    "df_companies = pd.read_csv('./Raw Data/us-companies.csv', delimiter= ';')"
   ]
  },
  {
   "cell_type": "code",
   "execution_count": 431,
   "id": "d3a7be7c",
   "metadata": {},
   "outputs": [
    {
     "name": "stdout",
     "output_type": "stream",
     "text": [
      "213\n"
     ]
    }
   ],
   "source": [
    "companies_found = 0\n",
    "compare_list = list(ratings_df.Company.unique())\n",
    "for company in df_companies['Company Name']:\n",
    "    if company in compare_list:\n",
    "        companies_found += 1\n",
    "print(companies_found)"
   ]
  },
  {
   "cell_type": "code",
   "execution_count": 430,
   "id": "7e73523d",
   "metadata": {},
   "outputs": [
    {
     "data": {
      "text/plain": [
       "17713"
      ]
     },
     "execution_count": 430,
     "metadata": {},
     "output_type": "execute_result"
    }
   ],
   "source": [
    "len(ratings_df['Company'].unique())"
   ]
  },
  {
   "cell_type": "code",
   "execution_count": null,
   "id": "b693b1dc",
   "metadata": {},
   "outputs": [],
   "source": []
  },
  {
   "cell_type": "code",
   "execution_count": null,
   "id": "ed83092c",
   "metadata": {},
   "outputs": [],
   "source": [
    "import difflib\n",
    "\n",
    "def get_similar(x, y= 0.7):\n",
    "    return difflib.get_close_matches(x, names_en,10,y)"
   ]
  }
 ],
 "metadata": {
  "kernelspec": {
   "display_name": "Python 3 (ipykernel)",
   "language": "python",
   "name": "python3"
  },
  "language_info": {
   "codemirror_mode": {
    "name": "ipython",
    "version": 3
   },
   "file_extension": ".py",
   "mimetype": "text/x-python",
   "name": "python",
   "nbconvert_exporter": "python",
   "pygments_lexer": "ipython3",
   "version": "3.9.13"
  }
 },
 "nbformat": 4,
 "nbformat_minor": 5
}
