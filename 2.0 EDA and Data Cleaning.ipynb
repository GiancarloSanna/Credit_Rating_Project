{
 "cells": [
  {
   "cell_type": "markdown",
   "id": "8263dabb",
   "metadata": {},
   "source": [
    "# Importing needed libraries"
   ]
  },
  {
   "cell_type": "code",
   "execution_count": 1,
   "id": "941cd24f",
   "metadata": {},
   "outputs": [],
   "source": [
    "# Basics\n",
    "import pandas as pd\n",
    "import numpy as np\n",
    "import matplotlib.pyplot as plt\n",
    "import seaborn as sns\n",
    "import time\n",
    "from datetime import date"
   ]
  },
  {
   "cell_type": "code",
   "execution_count": 2,
   "id": "7ea576a1",
   "metadata": {},
   "outputs": [],
   "source": [
    "# !pip install selenium"
   ]
  },
  {
   "cell_type": "code",
   "execution_count": 3,
   "id": "069a4f5c",
   "metadata": {},
   "outputs": [],
   "source": [
    "# For scraping\n",
    "import pandas as pd\n",
    "import numpy as np\n",
    "from time import sleep\n",
    "from random import randint\n",
    "from bs4 import BeautifulSoup\n",
    "import requests\n",
    "from selenium import webdriver"
   ]
  },
  {
   "cell_type": "markdown",
   "id": "f0fae282",
   "metadata": {},
   "source": [
    "# Loading the datasets"
   ]
  },
  {
   "cell_type": "code",
   "execution_count": 4,
   "id": "1aa02900",
   "metadata": {},
   "outputs": [],
   "source": [
    "df_industries = pd.read_csv('./Raw Data/industries.csv', delimiter= ';')\n",
    "df_companies = pd.read_csv('./Raw Data/us-companies.csv', delimiter= ';')\n",
    "df_balance = pd.read_csv('./Raw Data/us-balance-quarterly.csv', delimiter= ';')\n",
    "df_cashflow = pd.read_csv('./Raw Data/us-cashflow-quarterly.csv', delimiter= ';')\n",
    "# df_shareprices = pd.read_csv('./Raw Data/us-shareprices-daily.csv', delimiter= ';')"
   ]
  },
  {
   "cell_type": "markdown",
   "id": "05fa71e2",
   "metadata": {},
   "source": [
    "# EDA & Cleaning"
   ]
  },
  {
   "cell_type": "markdown",
   "id": "3f7e25f2",
   "metadata": {},
   "source": [
    "# Industries"
   ]
  },
  {
   "cell_type": "code",
   "execution_count": 5,
   "id": "28640b82",
   "metadata": {},
   "outputs": [
    {
     "data": {
      "text/html": [
       "<div>\n",
       "<style scoped>\n",
       "    .dataframe tbody tr th:only-of-type {\n",
       "        vertical-align: middle;\n",
       "    }\n",
       "\n",
       "    .dataframe tbody tr th {\n",
       "        vertical-align: top;\n",
       "    }\n",
       "\n",
       "    .dataframe thead th {\n",
       "        text-align: right;\n",
       "    }\n",
       "</style>\n",
       "<table border=\"1\" class=\"dataframe\">\n",
       "  <thead>\n",
       "    <tr style=\"text-align: right;\">\n",
       "      <th></th>\n",
       "      <th>IndustryId</th>\n",
       "      <th>Sector</th>\n",
       "      <th>Industry</th>\n",
       "    </tr>\n",
       "  </thead>\n",
       "  <tbody>\n",
       "    <tr>\n",
       "      <th>0</th>\n",
       "      <td>100001</td>\n",
       "      <td>Industrials</td>\n",
       "      <td>Industrial Products</td>\n",
       "    </tr>\n",
       "    <tr>\n",
       "      <th>1</th>\n",
       "      <td>100002</td>\n",
       "      <td>Industrials</td>\n",
       "      <td>Business Services</td>\n",
       "    </tr>\n",
       "    <tr>\n",
       "      <th>2</th>\n",
       "      <td>100003</td>\n",
       "      <td>Industrials</td>\n",
       "      <td>Engineering &amp; Construction</td>\n",
       "    </tr>\n",
       "    <tr>\n",
       "      <th>3</th>\n",
       "      <td>100004</td>\n",
       "      <td>Industrials</td>\n",
       "      <td>Waste Management</td>\n",
       "    </tr>\n",
       "    <tr>\n",
       "      <th>4</th>\n",
       "      <td>100005</td>\n",
       "      <td>Industrials</td>\n",
       "      <td>Industrial Distribution</td>\n",
       "    </tr>\n",
       "  </tbody>\n",
       "</table>\n",
       "</div>"
      ],
      "text/plain": [
       "   IndustryId       Sector                    Industry\n",
       "0      100001  Industrials         Industrial Products\n",
       "1      100002  Industrials           Business Services\n",
       "2      100003  Industrials  Engineering & Construction\n",
       "3      100004  Industrials            Waste Management\n",
       "4      100005  Industrials     Industrial Distribution"
      ]
     },
     "metadata": {},
     "output_type": "display_data"
    },
    {
     "data": {
      "text/plain": [
       "IndustryId    0\n",
       "Sector        0\n",
       "Industry      0\n",
       "dtype: int64"
      ]
     },
     "metadata": {},
     "output_type": "display_data"
    },
    {
     "data": {
      "text/plain": [
       "(74, 3)"
      ]
     },
     "metadata": {},
     "output_type": "display_data"
    }
   ],
   "source": [
    "display(df_industries.head())\n",
    "display(df_industries.isna().sum())\n",
    "display(df_industries.shape)"
   ]
  },
  {
   "cell_type": "markdown",
   "id": "6d4f338e",
   "metadata": {},
   "source": [
    "Defining the industry and sector according to an ID, all data seems to be complete and clean"
   ]
  },
  {
   "cell_type": "markdown",
   "id": "e8430753",
   "metadata": {},
   "source": [
    "# Companies"
   ]
  },
  {
   "cell_type": "markdown",
   "id": "6fb3488f",
   "metadata": {},
   "source": [
    "## First look"
   ]
  },
  {
   "cell_type": "code",
   "execution_count": 6,
   "id": "b853b4e7",
   "metadata": {},
   "outputs": [
    {
     "data": {
      "text/html": [
       "<div>\n",
       "<style scoped>\n",
       "    .dataframe tbody tr th:only-of-type {\n",
       "        vertical-align: middle;\n",
       "    }\n",
       "\n",
       "    .dataframe tbody tr th {\n",
       "        vertical-align: top;\n",
       "    }\n",
       "\n",
       "    .dataframe thead th {\n",
       "        text-align: right;\n",
       "    }\n",
       "</style>\n",
       "<table border=\"1\" class=\"dataframe\">\n",
       "  <thead>\n",
       "    <tr style=\"text-align: right;\">\n",
       "      <th></th>\n",
       "      <th>Ticker</th>\n",
       "      <th>SimFinId</th>\n",
       "      <th>Company Name</th>\n",
       "      <th>IndustryId</th>\n",
       "    </tr>\n",
       "  </thead>\n",
       "  <tbody>\n",
       "    <tr>\n",
       "      <th>0</th>\n",
       "      <td>A</td>\n",
       "      <td>45846</td>\n",
       "      <td>AGILENT TECHNOLOGIES INC</td>\n",
       "      <td>106001.0</td>\n",
       "    </tr>\n",
       "    <tr>\n",
       "      <th>1</th>\n",
       "      <td>A18</td>\n",
       "      <td>1253413</td>\n",
       "      <td>Trip.com Group Ltd</td>\n",
       "      <td>NaN</td>\n",
       "    </tr>\n",
       "    <tr>\n",
       "      <th>2</th>\n",
       "      <td>A21</td>\n",
       "      <td>1333027</td>\n",
       "      <td>Li Auto Inc.</td>\n",
       "      <td>NaN</td>\n",
       "    </tr>\n",
       "  </tbody>\n",
       "</table>\n",
       "</div>"
      ],
      "text/plain": [
       "  Ticker  SimFinId              Company Name  IndustryId\n",
       "0      A     45846  AGILENT TECHNOLOGIES INC    106001.0\n",
       "1    A18   1253413        Trip.com Group Ltd         NaN\n",
       "2    A21   1333027              Li Auto Inc.         NaN"
      ]
     },
     "metadata": {},
     "output_type": "display_data"
    },
    {
     "data": {
      "text/plain": [
       "Ticker            0\n",
       "SimFinId          0\n",
       "Company Name      0\n",
       "IndustryId      416\n",
       "dtype: int64"
      ]
     },
     "metadata": {},
     "output_type": "display_data"
    },
    {
     "data": {
      "text/plain": [
       "(3144, 4)"
      ]
     },
     "metadata": {},
     "output_type": "display_data"
    }
   ],
   "source": [
    "display(df_companies.head(3))\n",
    "display(df_companies.isna().sum())\n",
    "display(df_companies.shape)"
   ]
  },
  {
   "cell_type": "markdown",
   "id": "7995eb64",
   "metadata": {},
   "source": [
    "## There is data missing for the industry ID's"
   ]
  },
  {
   "cell_type": "code",
   "execution_count": 7,
   "id": "d8da0b61",
   "metadata": {},
   "outputs": [
    {
     "data": {
      "text/html": [
       "<div>\n",
       "<style scoped>\n",
       "    .dataframe tbody tr th:only-of-type {\n",
       "        vertical-align: middle;\n",
       "    }\n",
       "\n",
       "    .dataframe tbody tr th {\n",
       "        vertical-align: top;\n",
       "    }\n",
       "\n",
       "    .dataframe thead th {\n",
       "        text-align: right;\n",
       "    }\n",
       "</style>\n",
       "<table border=\"1\" class=\"dataframe\">\n",
       "  <thead>\n",
       "    <tr style=\"text-align: right;\">\n",
       "      <th></th>\n",
       "      <th>Ticker</th>\n",
       "      <th>SimFinId</th>\n",
       "      <th>Company Name</th>\n",
       "      <th>IndustryId</th>\n",
       "    </tr>\n",
       "  </thead>\n",
       "  <tbody>\n",
       "    <tr>\n",
       "      <th>1</th>\n",
       "      <td>A18</td>\n",
       "      <td>1253413</td>\n",
       "      <td>Trip.com Group Ltd</td>\n",
       "      <td>NaN</td>\n",
       "    </tr>\n",
       "    <tr>\n",
       "      <th>2</th>\n",
       "      <td>A21</td>\n",
       "      <td>1333027</td>\n",
       "      <td>Li Auto Inc.</td>\n",
       "      <td>NaN</td>\n",
       "    </tr>\n",
       "    <tr>\n",
       "      <th>21</th>\n",
       "      <td>ABEO</td>\n",
       "      <td>953884</td>\n",
       "      <td>ABEONA THERAPEUTICS INC.</td>\n",
       "      <td>NaN</td>\n",
       "    </tr>\n",
       "    <tr>\n",
       "      <th>23</th>\n",
       "      <td>ABIO</td>\n",
       "      <td>953886</td>\n",
       "      <td>ARCA biopharma, Inc.</td>\n",
       "      <td>NaN</td>\n",
       "    </tr>\n",
       "    <tr>\n",
       "      <th>34</th>\n",
       "      <td>ABX</td>\n",
       "      <td>1271527</td>\n",
       "      <td>BARRICK GOLD CORP</td>\n",
       "      <td>NaN</td>\n",
       "    </tr>\n",
       "  </tbody>\n",
       "</table>\n",
       "</div>"
      ],
      "text/plain": [
       "   Ticker  SimFinId              Company Name  IndustryId\n",
       "1     A18   1253413        Trip.com Group Ltd         NaN\n",
       "2     A21   1333027              Li Auto Inc.         NaN\n",
       "21   ABEO    953884  ABEONA THERAPEUTICS INC.         NaN\n",
       "23   ABIO    953886      ARCA biopharma, Inc.         NaN\n",
       "34    ABX   1271527         BARRICK GOLD CORP         NaN"
      ]
     },
     "execution_count": 7,
     "metadata": {},
     "output_type": "execute_result"
    }
   ],
   "source": [
    "# It seems that for some companies we do not have the indusry data for a lot of companies, we investiate.\n",
    "df_companies[df_companies['IndustryId'].isna()].head(5)"
   ]
  },
  {
   "cell_type": "markdown",
   "id": "11d6226e",
   "metadata": {},
   "source": [
    "Apparently the missing values are ranging from a very diverse set of industries.\n",
    "I try to assign some of the missing values by deductingh from the company names."
   ]
  },
  {
   "cell_type": "markdown",
   "id": "268b91ed",
   "metadata": {},
   "source": [
    "## Tokenize\n",
    "To better adress the different companies by name, I tokenize them"
   ]
  },
  {
   "cell_type": "code",
   "execution_count": 8,
   "id": "da5a02ef",
   "metadata": {},
   "outputs": [],
   "source": [
    "# We tokenize the company names, so we can search through all appearing words\n",
    "from nltk.tokenize import word_tokenize"
   ]
  },
  {
   "cell_type": "code",
   "execution_count": 9,
   "id": "3e3709ae",
   "metadata": {},
   "outputs": [],
   "source": [
    "df_companies['tokens'] = df_companies['Company Name'].apply(word_tokenize)"
   ]
  },
  {
   "cell_type": "code",
   "execution_count": 10,
   "id": "7d85f2e4",
   "metadata": {},
   "outputs": [
    {
     "data": {
      "text/html": [
       "<div>\n",
       "<style scoped>\n",
       "    .dataframe tbody tr th:only-of-type {\n",
       "        vertical-align: middle;\n",
       "    }\n",
       "\n",
       "    .dataframe tbody tr th {\n",
       "        vertical-align: top;\n",
       "    }\n",
       "\n",
       "    .dataframe thead th {\n",
       "        text-align: right;\n",
       "    }\n",
       "</style>\n",
       "<table border=\"1\" class=\"dataframe\">\n",
       "  <thead>\n",
       "    <tr style=\"text-align: right;\">\n",
       "      <th></th>\n",
       "      <th>Ticker</th>\n",
       "      <th>SimFinId</th>\n",
       "      <th>Company Name</th>\n",
       "      <th>IndustryId</th>\n",
       "      <th>tokens</th>\n",
       "    </tr>\n",
       "  </thead>\n",
       "  <tbody>\n",
       "    <tr>\n",
       "      <th>0</th>\n",
       "      <td>A</td>\n",
       "      <td>45846</td>\n",
       "      <td>AGILENT TECHNOLOGIES INC</td>\n",
       "      <td>106001.0</td>\n",
       "      <td>[AGILENT, TECHNOLOGIES, INC]</td>\n",
       "    </tr>\n",
       "    <tr>\n",
       "      <th>1</th>\n",
       "      <td>A18</td>\n",
       "      <td>1253413</td>\n",
       "      <td>Trip.com Group Ltd</td>\n",
       "      <td>NaN</td>\n",
       "      <td>[Trip.com, Group, Ltd]</td>\n",
       "    </tr>\n",
       "    <tr>\n",
       "      <th>2</th>\n",
       "      <td>A21</td>\n",
       "      <td>1333027</td>\n",
       "      <td>Li Auto Inc.</td>\n",
       "      <td>NaN</td>\n",
       "      <td>[Li, Auto, Inc, .]</td>\n",
       "    </tr>\n",
       "    <tr>\n",
       "      <th>3</th>\n",
       "      <td>AA</td>\n",
       "      <td>367153</td>\n",
       "      <td>Alcoa Corp</td>\n",
       "      <td>110004.0</td>\n",
       "      <td>[Alcoa, Corp]</td>\n",
       "    </tr>\n",
       "    <tr>\n",
       "      <th>4</th>\n",
       "      <td>AAC_delist</td>\n",
       "      <td>939324</td>\n",
       "      <td>AAC Holdings, Inc.</td>\n",
       "      <td>106011.0</td>\n",
       "      <td>[AAC, Holdings, ,, Inc, .]</td>\n",
       "    </tr>\n",
       "  </tbody>\n",
       "</table>\n",
       "</div>"
      ],
      "text/plain": [
       "       Ticker  SimFinId              Company Name  IndustryId  \\\n",
       "0           A     45846  AGILENT TECHNOLOGIES INC    106001.0   \n",
       "1         A18   1253413        Trip.com Group Ltd         NaN   \n",
       "2         A21   1333027              Li Auto Inc.         NaN   \n",
       "3          AA    367153                Alcoa Corp    110004.0   \n",
       "4  AAC_delist    939324        AAC Holdings, Inc.    106011.0   \n",
       "\n",
       "                         tokens  \n",
       "0  [AGILENT, TECHNOLOGIES, INC]  \n",
       "1        [Trip.com, Group, Ltd]  \n",
       "2            [Li, Auto, Inc, .]  \n",
       "3                 [Alcoa, Corp]  \n",
       "4    [AAC, Holdings, ,, Inc, .]  "
      ]
     },
     "execution_count": 10,
     "metadata": {},
     "output_type": "execute_result"
    }
   ],
   "source": [
    "df_companies.head(5)"
   ]
  },
  {
   "cell_type": "markdown",
   "id": "3b997a8a",
   "metadata": {},
   "source": [
    "## Functions for df_companies"
   ]
  },
  {
   "cell_type": "code",
   "execution_count": 11,
   "id": "5f899c58",
   "metadata": {},
   "outputs": [],
   "source": [
    "# A function that returns one if one of our keywords is found\n",
    "def finder(tokens):\n",
    "    for i in tokens:\n",
    "        if i.lower() in keywords:\n",
    "            return 1\n",
    "    return 0   "
   ]
  },
  {
   "cell_type": "code",
   "execution_count": 12,
   "id": "58dfe411",
   "metadata": {},
   "outputs": [],
   "source": [
    "# A function, that displays the rows which contain keywords an have no industry ID \n",
    "# It also return a list of the corresponding indexes.\n",
    "\n",
    "def nan_list(df,keywords):\n",
    "    # Finding the companies with keywords\n",
    "    df['current_search'] = 0\n",
    "    df['current_search'] = df['tokens'].apply(finder)\n",
    "    \n",
    "    # Displaying them if they have no industrty-id\n",
    "    display(df[ (df['current_search']==1) & (df['IndustryId'].isna()) ])\n",
    "    \n",
    "    # Saving the indexes\n",
    "    indexlist = list(df[ (df['current_search']==1) & (df['IndustryId'].isna()) ].index)\n",
    "    \n",
    "    return indexlist"
   ]
  },
  {
   "cell_type": "code",
   "execution_count": 13,
   "id": "d7cd7b9a",
   "metadata": {},
   "outputs": [],
   "source": [
    "def set_industryID(industry, df, indexlist):\n",
    "    \n",
    "    # Getting the ID according to industry\n",
    "    id = df_industries[df_industries['Industry']==industry]['IndustryId'].unique()[0]  \n",
    "         \n",
    "    # Setting the id for the specified indexes\n",
    "    for row in indexlist:\n",
    "        df.iloc[row,3] = id\n",
    "    \n",
    "    return df    "
   ]
  },
  {
   "cell_type": "markdown",
   "id": "8727bdd4",
   "metadata": {},
   "source": [
    "## ETF's & Funds"
   ]
  },
  {
   "cell_type": "markdown",
   "id": "372ce646",
   "metadata": {},
   "source": [
    "Since ETFs Funds and REITs do not usually issue debt notes or they have to be evaluated completely different, I will ecxlude them from this analysis."
   ]
  },
  {
   "cell_type": "code",
   "execution_count": 14,
   "id": "7c1f212e",
   "metadata": {},
   "outputs": [
    {
     "data": {
      "text/plain": [
       "52"
      ]
     },
     "execution_count": 14,
     "metadata": {},
     "output_type": "execute_result"
    }
   ],
   "source": [
    "keywords = ['etf','etc','fund','reit','trust']\n",
    "df_companies['current_search'] = 0\n",
    "df_companies['current_search'] = df_companies['tokens'].apply(finder)\n",
    "# display(df_companies[df_companies['current_search']==1])\n",
    "len(df_companies[df_companies['current_search']==1])"
   ]
  },
  {
   "cell_type": "code",
   "execution_count": 15,
   "id": "558af942",
   "metadata": {},
   "outputs": [],
   "source": [
    "droppers1 = list(df_companies[df_companies['current_search']==1]['Ticker'])"
   ]
  },
  {
   "cell_type": "code",
   "execution_count": 16,
   "id": "5601a8dc",
   "metadata": {},
   "outputs": [
    {
     "data": {
      "text/plain": [
       "(3144, 6)"
      ]
     },
     "execution_count": 16,
     "metadata": {},
     "output_type": "execute_result"
    }
   ],
   "source": [
    "df_companies.shape"
   ]
  },
  {
   "cell_type": "code",
   "execution_count": 17,
   "id": "0622c3fd",
   "metadata": {},
   "outputs": [
    {
     "data": {
      "text/plain": [
       "(3092, 6)"
      ]
     },
     "execution_count": 17,
     "metadata": {},
     "output_type": "execute_result"
    }
   ],
   "source": [
    "# We drop the according rows\n",
    "df_companies = df_companies[df_companies['current_search'] == 0]\n",
    "df_companies.shape"
   ]
  },
  {
   "cell_type": "markdown",
   "id": "fbd3018f",
   "metadata": {},
   "source": [
    "## Scraping the missing data\n",
    "Apparently nasdaq loads the sites content ad hoc using java scripts and normal get request won't work, therfore we use selenium to mimic a real browser access"
   ]
  },
  {
   "cell_type": "code",
   "execution_count": 18,
   "id": "835ee200",
   "metadata": {},
   "outputs": [],
   "source": [
    "# Importing the webdriver\n",
    "from selenium import webdriver\n",
    "from selenium.webdriver.common.by import By"
   ]
  },
  {
   "cell_type": "code",
   "execution_count": 19,
   "id": "7c5f80f7",
   "metadata": {},
   "outputs": [],
   "source": [
    "# To wait until the driver finds the expected element, since it takes some time to load\n",
    "from selenium.webdriver.support.ui import WebDriverWait\n",
    "from selenium.webdriver.common.by import By\n",
    "from selenium.webdriver.support import expected_conditions as EC"
   ]
  },
  {
   "cell_type": "code",
   "execution_count": 20,
   "id": "d78ca7b4",
   "metadata": {},
   "outputs": [],
   "source": [
    "# Defning the path of the chromedriver\n",
    "path = 'D:/Chromium/chromedriver'"
   ]
  },
  {
   "cell_type": "code",
   "execution_count": 21,
   "id": "d039e9f6",
   "metadata": {},
   "outputs": [],
   "source": [
    "# Setting up driver\n",
    "# driver = webdriver.Chrome(path)"
   ]
  },
  {
   "cell_type": "code",
   "execution_count": 22,
   "id": "91555c97",
   "metadata": {},
   "outputs": [],
   "source": [
    "# Telling the driver to wait for up to 20 seconds if element is not found\n",
    "# wait = WebDriverWait(driver, 20)"
   ]
  },
  {
   "cell_type": "markdown",
   "id": "4a332519",
   "metadata": {},
   "source": [
    "#### Create alist of company tickers with missing values"
   ]
  },
  {
   "cell_type": "code",
   "execution_count": 23,
   "id": "289f326d",
   "metadata": {},
   "outputs": [
    {
     "data": {
      "text/plain": [
       "394"
      ]
     },
     "execution_count": 23,
     "metadata": {},
     "output_type": "execute_result"
    }
   ],
   "source": [
    "ticker_list = list(df_companies[df_companies['IndustryId'].isna()]['Ticker'])\n",
    "len(ticker_list)"
   ]
  },
  {
   "cell_type": "code",
   "execution_count": 24,
   "id": "5565fa95",
   "metadata": {},
   "outputs": [],
   "source": [
    "# Testing with wait function\n",
    "# ticker = 'DOW'\n",
    "# target_url = f\"https://finance.yahoo.com/quote/%s/profile?p=%s\" % (ticker,ticker)\n",
    "# target_url"
   ]
  },
  {
   "cell_type": "code",
   "execution_count": 25,
   "id": "89c13fc7",
   "metadata": {},
   "outputs": [],
   "source": [
    "# driver.get(target_url)\n",
    "# element = wait.until(EC.presence_of_element_located(('xpath', '//*[@id=\"Col1-0-Profile-Proxy\"]/section/div[1]/div/div/p[2]/span[4]')))\n",
    "# element.text"
   ]
  },
  {
   "cell_type": "markdown",
   "id": "e8b87e37",
   "metadata": {},
   "source": [
    "#### Scraping the missing data"
   ]
  },
  {
   "cell_type": "markdown",
   "id": "36e7421e",
   "metadata": {},
   "source": [
    "Takes quite some time, so I saved the results as a pickle"
   ]
  },
  {
   "cell_type": "code",
   "execution_count": 26,
   "id": "c5bd7b6e",
   "metadata": {},
   "outputs": [],
   "source": [
    "# sectors = []\n",
    "# for ticker in ticker_list:\n",
    "#     # Setting url\n",
    "#     target_url = f\"https://finance.yahoo.com/quote/%s/profile?p=%s\" % (ticker,ticker)\n",
    "#     # Accessing the site\n",
    "#     driver.get(target_url)    \n",
    "\n",
    "#     # Getting the desired field:\n",
    "#     try:\n",
    "#         match = wait.until(EC.presence_of_element_located(('xpath', '//*[@id=\"Col1-0-Profile-Proxy\"]/section/div[1]/div/div/p[2]/span[4]')))\n",
    "#         sectors.append(match.text)\n",
    "#         print(match.text)\n",
    "#     except:\n",
    "#         sectors.append('Not found')\n",
    "#         print('Not found')\n",
    "#     print(len(sectors))\n",
    "\n",
    "# # Closing window\n",
    "# driver.quit()"
   ]
  },
  {
   "cell_type": "code",
   "execution_count": 27,
   "id": "01432dae",
   "metadata": {},
   "outputs": [],
   "source": [
    "# # Saving Sectorlist\n",
    "import pickle\n",
    "# pickle.dump(sectors, open('sectors.p', 'wb'))"
   ]
  },
  {
   "cell_type": "code",
   "execution_count": 28,
   "id": "99bcdf74",
   "metadata": {},
   "outputs": [],
   "source": [
    "sectors = pickle.load(open('sectors.p','rb'))\n",
    "# sectors"
   ]
  },
  {
   "cell_type": "markdown",
   "id": "5f5fcde4",
   "metadata": {},
   "source": [
    "#### Assigning the scraped data to the company dataframe"
   ]
  },
  {
   "cell_type": "code",
   "execution_count": 29,
   "id": "948d6b87",
   "metadata": {},
   "outputs": [],
   "source": [
    "# We translate the industry names to industry ID's\n",
    "sectors_id = []\n",
    "for i in range(len(sectors)):\n",
    "    try:\n",
    "        sectors_id.append(int(df_industries[df_industries['Industry'] == sectors[i]]['IndustryId']))\n",
    "    except:\n",
    "        # If the industry is not found, we append the Industry ID for 'Other'\n",
    "        sectors_id.append('108004')"
   ]
  },
  {
   "cell_type": "code",
   "execution_count": 30,
   "id": "21c18284",
   "metadata": {},
   "outputs": [],
   "source": [
    "# We assign the industry names to a new column\n",
    "df_companies.loc[df_companies['IndustryId'].isna(), ['IndustryId']] = sectors_id"
   ]
  },
  {
   "cell_type": "code",
   "execution_count": 31,
   "id": "c35703df",
   "metadata": {},
   "outputs": [
    {
     "data": {
      "text/plain": [
       "0"
      ]
     },
     "execution_count": 31,
     "metadata": {},
     "output_type": "execute_result"
    }
   ],
   "source": [
    "# We got rid of all NaN's\n",
    "df_companies['IndustryId'].isna().sum()"
   ]
  },
  {
   "cell_type": "code",
   "execution_count": 32,
   "id": "c85bd09d",
   "metadata": {},
   "outputs": [],
   "source": [
    "# We save the cleaned dataframe to our processed Data\n",
    "df_companies.to_csv('Prepared Frames/company_data.csv', index=False)"
   ]
  },
  {
   "cell_type": "markdown",
   "id": "04aa884e",
   "metadata": {},
   "source": [
    "#### Just keeping the important columns\n"
   ]
  },
  {
   "cell_type": "code",
   "execution_count": 33,
   "id": "965c4252",
   "metadata": {},
   "outputs": [],
   "source": [
    "df_companies = df_companies.drop(['SimFinId','tokens','current_search'], axis= 1)"
   ]
  },
  {
   "cell_type": "markdown",
   "id": "43e86a99",
   "metadata": {},
   "source": [
    "# Balance sheets"
   ]
  },
  {
   "cell_type": "code",
   "execution_count": 34,
   "id": "e5d973a6",
   "metadata": {},
   "outputs": [],
   "source": [
    "df_balance = pd.read_csv('./Raw Data/us-balance-quarterly.csv', delimiter= ';')"
   ]
  },
  {
   "cell_type": "code",
   "execution_count": 35,
   "id": "4e0a0fac",
   "metadata": {},
   "outputs": [
    {
     "data": {
      "text/html": [
       "<div>\n",
       "<style scoped>\n",
       "    .dataframe tbody tr th:only-of-type {\n",
       "        vertical-align: middle;\n",
       "    }\n",
       "\n",
       "    .dataframe tbody tr th {\n",
       "        vertical-align: top;\n",
       "    }\n",
       "\n",
       "    .dataframe thead th {\n",
       "        text-align: right;\n",
       "    }\n",
       "</style>\n",
       "<table border=\"1\" class=\"dataframe\">\n",
       "  <thead>\n",
       "    <tr style=\"text-align: right;\">\n",
       "      <th></th>\n",
       "      <th>Ticker</th>\n",
       "      <th>SimFinId</th>\n",
       "      <th>Currency</th>\n",
       "      <th>Fiscal Year</th>\n",
       "      <th>Fiscal Period</th>\n",
       "      <th>Report Date</th>\n",
       "      <th>Publish Date</th>\n",
       "      <th>Restated Date</th>\n",
       "      <th>Shares (Basic)</th>\n",
       "      <th>Shares (Diluted)</th>\n",
       "      <th>...</th>\n",
       "      <th>Short Term Debt</th>\n",
       "      <th>Total Current Liabilities</th>\n",
       "      <th>Long Term Debt</th>\n",
       "      <th>Total Noncurrent Liabilities</th>\n",
       "      <th>Total Liabilities</th>\n",
       "      <th>Share Capital &amp; Additional Paid-In Capital</th>\n",
       "      <th>Treasury Stock</th>\n",
       "      <th>Retained Earnings</th>\n",
       "      <th>Total Equity</th>\n",
       "      <th>Total Liabilities &amp; Equity</th>\n",
       "    </tr>\n",
       "  </thead>\n",
       "  <tbody>\n",
       "    <tr>\n",
       "      <th>0</th>\n",
       "      <td>A</td>\n",
       "      <td>45846</td>\n",
       "      <td>USD</td>\n",
       "      <td>2017</td>\n",
       "      <td>Q1</td>\n",
       "      <td>2017-01-31</td>\n",
       "      <td>2017-03-08</td>\n",
       "      <td>2017-03-08</td>\n",
       "      <td>322000000.0</td>\n",
       "      <td>326000000.0</td>\n",
       "      <td>...</td>\n",
       "      <td>190000000.0</td>\n",
       "      <td>1089000000</td>\n",
       "      <td>1.802000e+09</td>\n",
       "      <td>2.483000e+09</td>\n",
       "      <td>3572000000</td>\n",
       "      <td>5.239000e+09</td>\n",
       "      <td>0.0</td>\n",
       "      <td>-453000000.0</td>\n",
       "      <td>4.300000e+09</td>\n",
       "      <td>7872000000</td>\n",
       "    </tr>\n",
       "  </tbody>\n",
       "</table>\n",
       "<p>1 rows × 30 columns</p>\n",
       "</div>"
      ],
      "text/plain": [
       "  Ticker  SimFinId Currency  Fiscal Year Fiscal Period Report Date  \\\n",
       "0      A     45846      USD         2017            Q1  2017-01-31   \n",
       "\n",
       "  Publish Date Restated Date  Shares (Basic)  Shares (Diluted)  ...  \\\n",
       "0   2017-03-08    2017-03-08     322000000.0       326000000.0  ...   \n",
       "\n",
       "   Short Term Debt  Total Current Liabilities  Long Term Debt  \\\n",
       "0      190000000.0                 1089000000    1.802000e+09   \n",
       "\n",
       "   Total Noncurrent Liabilities  Total Liabilities  \\\n",
       "0                  2.483000e+09         3572000000   \n",
       "\n",
       "   Share Capital & Additional Paid-In Capital  Treasury Stock  \\\n",
       "0                                5.239000e+09             0.0   \n",
       "\n",
       "   Retained Earnings  Total Equity  Total Liabilities & Equity  \n",
       "0       -453000000.0  4.300000e+09                  7872000000  \n",
       "\n",
       "[1 rows x 30 columns]"
      ]
     },
     "metadata": {},
     "output_type": "display_data"
    }
   ],
   "source": [
    "display(df_balance.head(1))"
   ]
  },
  {
   "cell_type": "markdown",
   "id": "f97d1478",
   "metadata": {},
   "source": [
    "## Dropping unneccessary columns"
   ]
  },
  {
   "cell_type": "code",
   "execution_count": 36,
   "id": "f2a1ca61",
   "metadata": {},
   "outputs": [],
   "source": [
    "# We can already see, that there are several column that we won't need, so we drop them first:\n",
    "# SimFinID : A site specific identifier\n",
    "# Currency : We have everything in USD\n",
    "# We will only need the Report Date if the dates\n",
    "# The share count we decide to only used the Diluted since it better represents reality\n",
    "# Treasury Stock is insignificant\n",
    "# Total Liabilities and equity doesn't give us any information, that we don't have otheriwse\n",
    "# Total Current Assets and Total assets are redundant"
   ]
  },
  {
   "cell_type": "code",
   "execution_count": 37,
   "id": "c3867704",
   "metadata": {},
   "outputs": [
    {
     "data": {
      "text/html": [
       "<div>\n",
       "<style scoped>\n",
       "    .dataframe tbody tr th:only-of-type {\n",
       "        vertical-align: middle;\n",
       "    }\n",
       "\n",
       "    .dataframe tbody tr th {\n",
       "        vertical-align: top;\n",
       "    }\n",
       "\n",
       "    .dataframe thead th {\n",
       "        text-align: right;\n",
       "    }\n",
       "</style>\n",
       "<table border=\"1\" class=\"dataframe\">\n",
       "  <thead>\n",
       "    <tr style=\"text-align: right;\">\n",
       "      <th></th>\n",
       "      <th>Ticker</th>\n",
       "      <th>Fiscal Year</th>\n",
       "      <th>Fiscal Period</th>\n",
       "      <th>Report Date</th>\n",
       "      <th>Shares (Diluted)</th>\n",
       "      <th>Cash, Cash Equivalents &amp; Short Term Investments</th>\n",
       "      <th>Accounts &amp; Notes Receivable</th>\n",
       "      <th>Inventories</th>\n",
       "      <th>Total Current Assets</th>\n",
       "      <th>Property, Plant &amp; Equipment, Net</th>\n",
       "      <th>...</th>\n",
       "      <th>Total Assets</th>\n",
       "      <th>Payables &amp; Accruals</th>\n",
       "      <th>Short Term Debt</th>\n",
       "      <th>Total Current Liabilities</th>\n",
       "      <th>Long Term Debt</th>\n",
       "      <th>Total Noncurrent Liabilities</th>\n",
       "      <th>Total Liabilities</th>\n",
       "      <th>Share Capital &amp; Additional Paid-In Capital</th>\n",
       "      <th>Retained Earnings</th>\n",
       "      <th>Total Equity</th>\n",
       "    </tr>\n",
       "  </thead>\n",
       "  <tbody>\n",
       "    <tr>\n",
       "      <th>0</th>\n",
       "      <td>A</td>\n",
       "      <td>2017</td>\n",
       "      <td>Q1</td>\n",
       "      <td>2017-01-31</td>\n",
       "      <td>326000000.0</td>\n",
       "      <td>2.241000e+09</td>\n",
       "      <td>653000000.0</td>\n",
       "      <td>551000000.0</td>\n",
       "      <td>3.635000e+09</td>\n",
       "      <td>653000000.0</td>\n",
       "      <td>...</td>\n",
       "      <td>7872000000</td>\n",
       "      <td>268000000.0</td>\n",
       "      <td>190000000.0</td>\n",
       "      <td>1089000000</td>\n",
       "      <td>1.802000e+09</td>\n",
       "      <td>2.483000e+09</td>\n",
       "      <td>3572000000</td>\n",
       "      <td>5.239000e+09</td>\n",
       "      <td>-453000000.0</td>\n",
       "      <td>4.300000e+09</td>\n",
       "    </tr>\n",
       "  </tbody>\n",
       "</table>\n",
       "<p>1 rows × 23 columns</p>\n",
       "</div>"
      ],
      "text/plain": [
       "  Ticker  Fiscal Year Fiscal Period Report Date  Shares (Diluted)  \\\n",
       "0      A         2017            Q1  2017-01-31       326000000.0   \n",
       "\n",
       "   Cash, Cash Equivalents & Short Term Investments  \\\n",
       "0                                     2.241000e+09   \n",
       "\n",
       "   Accounts & Notes Receivable  Inventories  Total Current Assets  \\\n",
       "0                  653000000.0  551000000.0          3.635000e+09   \n",
       "\n",
       "   Property, Plant & Equipment, Net  ...  Total Assets  Payables & Accruals  \\\n",
       "0                       653000000.0  ...    7872000000          268000000.0   \n",
       "\n",
       "   Short Term Debt  Total Current Liabilities  Long Term Debt  \\\n",
       "0      190000000.0                 1089000000    1.802000e+09   \n",
       "\n",
       "   Total Noncurrent Liabilities  Total Liabilities  \\\n",
       "0                  2.483000e+09         3572000000   \n",
       "\n",
       "   Share Capital & Additional Paid-In Capital  Retained Earnings  Total Equity  \n",
       "0                                5.239000e+09       -453000000.0  4.300000e+09  \n",
       "\n",
       "[1 rows x 23 columns]"
      ]
     },
     "execution_count": 37,
     "metadata": {},
     "output_type": "execute_result"
    }
   ],
   "source": [
    "df_balance = df_balance.drop(['SimFinId','Currency','Publish Date','Restated Date','Shares (Basic)','Treasury Stock','Total Liabilities & Equity'], axis = 1)\n",
    "df_balance.head(1)"
   ]
  },
  {
   "cell_type": "markdown",
   "id": "f18bf593",
   "metadata": {},
   "source": [
    "## Dropping funds and ETF's\n",
    "Since we earlier decided to exclude funds and ETF's we will now exclud ethem here as well."
   ]
  },
  {
   "cell_type": "code",
   "execution_count": 38,
   "id": "6c017662",
   "metadata": {},
   "outputs": [
    {
     "name": "stderr",
     "output_type": "stream",
     "text": [
      "C:\\Users\\Giancarlo\\AppData\\Local\\Temp\\ipykernel_14320\\2444179462.py:2: UserWarning: Boolean Series key will be reindexed to match DataFrame index.\n",
      "  df_balance = df_balance[df_cashflow['Ticker'] != ticker]\n"
     ]
    }
   ],
   "source": [
    "for ticker in droppers1:\n",
    "    df_balance = df_balance[df_cashflow['Ticker'] != ticker]"
   ]
  },
  {
   "cell_type": "markdown",
   "id": "efa59a12",
   "metadata": {},
   "source": [
    "## Checking for NaN's"
   ]
  },
  {
   "cell_type": "code",
   "execution_count": 39,
   "id": "16491546",
   "metadata": {},
   "outputs": [
    {
     "data": {
      "text/plain": [
       "Ticker                                                 0\n",
       "Fiscal Year                                            0\n",
       "Fiscal Period                                          0\n",
       "Report Date                                            0\n",
       "Shares (Diluted)                                     297\n",
       "Cash, Cash Equivalents & Short Term Investments      143\n",
       "Accounts & Notes Receivable                         4532\n",
       "Inventories                                        14874\n",
       "Total Current Assets                                   2\n",
       "Property, Plant & Equipment, Net                     897\n",
       "Long Term Investments & Receivables                31478\n",
       "Other Long Term Assets                               441\n",
       "Total Noncurrent Assets                               91\n",
       "Total Assets                                           0\n",
       "Payables & Accruals                                  146\n",
       "Short Term Debt                                    16049\n",
       "Total Current Liabilities                              0\n",
       "Long Term Debt                                      8851\n",
       "Total Noncurrent Liabilities                         656\n",
       "Total Liabilities                                      0\n",
       "Share Capital & Additional Paid-In Capital           605\n",
       "Retained Earnings                                   1837\n",
       "Total Equity                                           2\n",
       "dtype: int64"
      ]
     },
     "execution_count": 39,
     "metadata": {},
     "output_type": "execute_result"
    }
   ],
   "source": [
    "df_balance.isna().sum()"
   ]
  },
  {
   "cell_type": "markdown",
   "id": "994521b0",
   "metadata": {},
   "source": [
    "We will have to check column by column"
   ]
  },
  {
   "cell_type": "code",
   "execution_count": 40,
   "id": "b0cb541f",
   "metadata": {},
   "outputs": [
    {
     "data": {
      "text/plain": [
       "array(['AGI', 'ALTMS', 'AMHCU', 'APU', 'ARPO', 'AUDH', 'BCAB', 'BKH',\n",
       "       'BLUD', 'BPL', 'CCFI', 'CCH', 'CERS', 'CHAQ', 'CK00015503',\n",
       "       'CK00015844', 'CK00015847', 'CNNX', 'DWACU', 'ENBL', 'EQ', 'FLUG',\n",
       "       'FSII', 'IIVI', 'INFOR', 'NKT.CO', 'PROG', 'QVC', 'SFY', 'SRNGU',\n",
       "       'TIVC', 'TM-28', 'VPCC', 'VTYX'], dtype=object)"
      ]
     },
     "execution_count": 40,
     "metadata": {},
     "output_type": "execute_result"
    }
   ],
   "source": [
    "df_balance[df_balance['Shares (Diluted)'].isna()]['Ticker'].unique()"
   ]
  },
  {
   "cell_type": "code",
   "execution_count": 41,
   "id": "d42bfd60",
   "metadata": {},
   "outputs": [],
   "source": [
    "# We see that the NaN's without share counts are split up into just 36 companies, we have a look, whart they are:\n",
    "companylist = list(df_balance[df_balance['Shares (Diluted)'].isna()]['Ticker'].unique())"
   ]
  },
  {
   "cell_type": "code",
   "execution_count": 42,
   "id": "490b6464",
   "metadata": {
    "scrolled": true
   },
   "outputs": [
    {
     "data": {
      "text/plain": [
       "['95    Affinion Group, Inc.\\nName: Company Name, dtype: object',\n",
       " '158    Alta Mesa Holdings, LP\\nName: Company Name, dtype: object',\n",
       " '174    Jasper Therapeutics, Inc.\\nName: Company Name, dtype: object',\n",
       " '222    AMERIGAS PARTNERS LP\\nName: Company Name, dtype: object',\n",
       " '245    Aadi Bioscience, Inc.\\nName: Company Name, dtype: object',\n",
       " '276    AURORA DIAGNOSTICS HOLDINGS LLC\\nName: Company Name, dtype: object',\n",
       " '334    BioAtla, Inc.\\nName: Company Name, dtype: object',\n",
       " '386    BLACK HILLS POWER INC\\nName: Company Name, dtype: object',\n",
       " '403    IMMUCOR INC\\nName: Company Name, dtype: object',\n",
       " '424    BUCKEYE PARTNERS, L.P.\\nName: Company Name, dtype: object',\n",
       " '520    Community Choice Financial Inc.\\nName: Company Name, dtype: object',\n",
       " '521    Cheniere Corpus Christi Holdings, LLC\\nName: Company Name, dtype: object',\n",
       " '554    CERUS CORP\\nName: Company Name, dtype: object',\n",
       " '572    Renovacor, Inc.\\nName: Company Name, dtype: object',\n",
       " '608    BakerCorp International, Inc.\\nName: Company Name, dtype: object',\n",
       " '609    APX Group Holdings, Inc.\\nName: Company Name, dtype: object',\n",
       " '610    TOPS HOLDING II CORP\\nName: Company Name, dtype: object',\n",
       " '657    CONE Midstream Partners LP\\nName: Company Name, dtype: object',\n",
       " '893    Digital World Acquisition Corp.\\nName: Company Name, dtype: object',\n",
       " '954    Enable Midstream Partners, LP\\nName: Company Name, dtype: object',\n",
       " '976    Equillium, Inc.\\nName: Company Name, dtype: object',\n",
       " '1099    FLURIDA GROUP INC\\nName: Company Name, dtype: object',\n",
       " '1146    PARDES BIOSCIENCES, INC.\\nName: Company Name, dtype: object',\n",
       " '1412    II-VI INC\\nName: Company Name, dtype: object',\n",
       " '1432    Infor, Inc.\\nName: Company Name, dtype: object',\n",
       " '1951    NKT A/S\\nName: Company Name, dtype: object',\n",
       " '2216    BIORA THERAPEUTICS, INC.\\nName: Company Name, dtype: object',\n",
       " '2279    QVC INC\\nName: Company Name, dtype: object',\n",
       " '2466    SILVERBOW RESOURCES, INC.\\nName: Company Name, dtype: object',\n",
       " '2607    Ginkgo Bioworks Holdings, Inc.\\nName: Company Name, dtype: object',\n",
       " '2737    Tivic Health Systems, Inc.\\nName: Company Name, dtype: object',\n",
       " '2749    TOYOTA MOTOR CREDIT CORP\\nName: Company Name, dtype: object',\n",
       " '2947    Dave Inc./DE\\nName: Company Name, dtype: object',\n",
       " '2972    Ventyx Biosciences, Inc.\\nName: Company Name, dtype: object']"
      ]
     },
     "execution_count": 42,
     "metadata": {},
     "output_type": "execute_result"
    }
   ],
   "source": [
    "namelist = []\n",
    "for company in companylist:\n",
    "    try:\n",
    "        namelist.append(str(df_companies[df_companies['Ticker']==company]['Company Name']))\n",
    "    except:\n",
    "        namlist.append(str(company)+' not found in companyframe')\n",
    "namelist\n",
    "\n",
    "# My guess, that we here have Funds that we won't include in our analysis did not hold."
   ]
  },
  {
   "cell_type": "code",
   "execution_count": 43,
   "id": "b6d97935",
   "metadata": {},
   "outputs": [
    {
     "name": "stdout",
     "output_type": "stream",
     "text": [
      "True\n",
      "True\n",
      "True\n",
      "True\n",
      "True\n",
      "True\n",
      "True\n",
      "True\n",
      "True\n",
      "True\n",
      "True\n",
      "True\n",
      "True\n",
      "True\n",
      "True\n",
      "True\n",
      "True\n",
      "True\n",
      "True\n",
      "True\n",
      "True\n",
      "True\n",
      "True\n",
      "True\n",
      "True\n",
      "True\n",
      "True\n",
      "True\n",
      "True\n",
      "True\n",
      "True\n",
      "True\n",
      "True\n",
      "True\n"
     ]
    }
   ],
   "source": [
    "# We check if all values are NAN for the share count\n",
    "for company in companylist:\n",
    "    print(len(df_balance[(df_balance['Ticker'] == company) & (df_balance['Shares (Diluted)'].isna())]) == len(df_balance[(df_balance['Ticker'] == company)]))"
   ]
  },
  {
   "cell_type": "code",
   "execution_count": 44,
   "id": "caa38ea7",
   "metadata": {},
   "outputs": [
    {
     "name": "stdout",
     "output_type": "stream",
     "text": [
      "(42145, 23)\n"
     ]
    },
    {
     "data": {
      "text/plain": [
       "(41848, 23)"
      ]
     },
     "execution_count": 44,
     "metadata": {},
     "output_type": "execute_result"
    }
   ],
   "source": [
    "# Since we have no information about the sharecount for these companies and there are a lot of other values missing for them,\n",
    "# I decide to drop them since they are just 36 out of over 3000\n",
    "print(df_balance.shape)\n",
    "for company in companylist:\n",
    "    df_balance = df_balance[~(df_balance['Ticker']==company)]\n",
    "df_balance.shape"
   ]
  },
  {
   "cell_type": "markdown",
   "id": "3307c2b0",
   "metadata": {},
   "source": [
    "## Systematic filling with mean value"
   ]
  },
  {
   "cell_type": "markdown",
   "id": "71ca7466",
   "metadata": {},
   "source": [
    "Since we have many columns with a lot of missing valkues, wich make up more than 30% of our dataframe, and filling it with arbitrary values would cause a lot of error, we will drop them for now."
   ]
  },
  {
   "cell_type": "code",
   "execution_count": 45,
   "id": "c1ab395e",
   "metadata": {},
   "outputs": [
    {
     "data": {
      "text/plain": [
       "(41848, 19)"
      ]
     },
     "execution_count": 45,
     "metadata": {},
     "output_type": "execute_result"
    }
   ],
   "source": [
    "df_balance = df_balance.drop(['Inventories','Long Term Investments & Receivables','Short Term Debt','Long Term Debt'],axis = 1)\n",
    "df_balance.shape"
   ]
  },
  {
   "cell_type": "code",
   "execution_count": 46,
   "id": "07e3fc4d",
   "metadata": {},
   "outputs": [
    {
     "data": {
      "text/plain": [
       "Ticker                                                0\n",
       "Fiscal Year                                           0\n",
       "Fiscal Period                                         0\n",
       "Report Date                                           0\n",
       "Shares (Diluted)                                      0\n",
       "Cash, Cash Equivalents & Short Term Investments     136\n",
       "Accounts & Notes Receivable                        4456\n",
       "Total Current Assets                                  2\n",
       "Property, Plant & Equipment, Net                    858\n",
       "Other Long Term Assets                              418\n",
       "Total Noncurrent Assets                              89\n",
       "Total Assets                                          0\n",
       "Payables & Accruals                                 126\n",
       "Total Current Liabilities                             0\n",
       "Total Noncurrent Liabilities                        640\n",
       "Total Liabilities                                     0\n",
       "Share Capital & Additional Paid-In Capital          584\n",
       "Retained Earnings                                  1750\n",
       "Total Equity                                          2\n",
       "dtype: int64"
      ]
     },
     "execution_count": 46,
     "metadata": {},
     "output_type": "execute_result"
    }
   ],
   "source": [
    "df_balance.isna().sum()"
   ]
  },
  {
   "cell_type": "code",
   "execution_count": 47,
   "id": "b76f56b1",
   "metadata": {},
   "outputs": [],
   "source": [
    "# The other columns, will fill the NaN's with the mean value for the corresponding company\n",
    "def get_mean(company,column):\n",
    "    return np.mean(df_balance[ (df_balance['Ticker']==company) & (df_balance[column].isna() == False) ][column])"
   ]
  },
  {
   "cell_type": "code",
   "execution_count": 48,
   "id": "b79d0d4e",
   "metadata": {},
   "outputs": [],
   "source": [
    "# Columns to iterate thorugh\n",
    "columns = ['Cash, Cash Equivalents & Short Term Investments','Accounts & Notes Receivable','Total Current Assets','Property, Plant & Equipment, Net',\n",
    "          'Other Long Term Assets','Total Noncurrent Assets','Payables & Accruals','Total Noncurrent Liabilities','Share Capital & Additional Paid-In Capital',\n",
    "          'Retained Earnings','Total Equity']\n",
    "\n",
    "# Getting a list with all company tickers\n",
    "companylist = list(df_balance['Ticker'].unique())"
   ]
  },
  {
   "cell_type": "code",
   "execution_count": 49,
   "id": "15436ced",
   "metadata": {},
   "outputs": [
    {
     "name": "stdout",
     "output_type": "stream",
     "text": [
      "Cash, Cash Equivalents & Short Term Investments\n",
      "Accounts & Notes Receivable\n",
      "Total Current Assets\n",
      "Property, Plant & Equipment, Net\n",
      "Other Long Term Assets\n",
      "Total Noncurrent Assets\n",
      "Payables & Accruals\n",
      "Total Noncurrent Liabilities\n",
      "Share Capital & Additional Paid-In Capital\n",
      "Retained Earnings\n",
      "Total Equity\n"
     ]
    }
   ],
   "source": [
    "# setting mean for missing NaN\n",
    "for column in columns:\n",
    "    print(column)\n",
    "    for company in companylist:\n",
    "        df_balance.loc[ (df_balance[column].isna()) & (df_balance['Ticker']==company), [column]] = get_mean(company,column)"
   ]
  },
  {
   "cell_type": "code",
   "execution_count": 50,
   "id": "fa0e41e7",
   "metadata": {},
   "outputs": [
    {
     "data": {
      "text/plain": [
       "Ticker                                                0\n",
       "Fiscal Year                                           0\n",
       "Fiscal Period                                         0\n",
       "Report Date                                           0\n",
       "Shares (Diluted)                                      0\n",
       "Cash, Cash Equivalents & Short Term Investments       4\n",
       "Accounts & Notes Receivable                        2963\n",
       "Total Current Assets                                  2\n",
       "Property, Plant & Equipment, Net                    477\n",
       "Other Long Term Assets                               54\n",
       "Total Noncurrent Assets                              24\n",
       "Total Assets                                          0\n",
       "Payables & Accruals                                  60\n",
       "Total Current Liabilities                             0\n",
       "Total Noncurrent Liabilities                        111\n",
       "Total Liabilities                                     0\n",
       "Share Capital & Additional Paid-In Capital            8\n",
       "Retained Earnings                                   895\n",
       "Total Equity                                          0\n",
       "dtype: int64"
      ]
     },
     "execution_count": 50,
     "metadata": {},
     "output_type": "execute_result"
    }
   ],
   "source": [
    "df_balance.isna().sum()"
   ]
  },
  {
   "cell_type": "markdown",
   "id": "b768f80d",
   "metadata": {},
   "source": [
    "## Dropping companies with not enough data"
   ]
  },
  {
   "cell_type": "code",
   "execution_count": 51,
   "id": "14a8bb25",
   "metadata": {},
   "outputs": [
    {
     "data": {
      "text/plain": [
       "306"
      ]
     },
     "execution_count": 51,
     "metadata": {},
     "output_type": "execute_result"
    }
   ],
   "source": [
    "# Apparently there are coulumns where no mean could be calculated. We see wich comnpanies are affected.\n",
    "affected = []\n",
    "for column in columns:\n",
    "    affected.append(df_balance[df_balance[column].isna()]['Ticker'].unique())\n",
    "# Making a list of the single entries instead of an array\n",
    "droppers2 = []\n",
    "for i in range(len(affected)):\n",
    "    for x in affected[i]:\n",
    "        droppers2.append(x)\n",
    "# Removing duplicates\n",
    "droppers2 = list(set(droppers2))\n",
    "len(droppers2)"
   ]
  },
  {
   "cell_type": "markdown",
   "id": "f599cf7a",
   "metadata": {},
   "source": [
    "There are 336 companies affected for which we cannot get a value. We will have to drop them for now."
   ]
  },
  {
   "cell_type": "code",
   "execution_count": 52,
   "id": "8fb38c7f",
   "metadata": {},
   "outputs": [],
   "source": [
    "for ticker in droppers2:\n",
    "    df_balance = df_balance[df_balance['Ticker'] != ticker]"
   ]
  },
  {
   "cell_type": "code",
   "execution_count": 53,
   "id": "34f8616b",
   "metadata": {},
   "outputs": [
    {
     "data": {
      "text/plain": [
       "(37617, 19)"
      ]
     },
     "execution_count": 53,
     "metadata": {},
     "output_type": "execute_result"
    }
   ],
   "source": [
    "df_balance.shape"
   ]
  },
  {
   "cell_type": "code",
   "execution_count": 54,
   "id": "9354b449",
   "metadata": {},
   "outputs": [
    {
     "data": {
      "text/plain": [
       "Ticker                                             0\n",
       "Fiscal Year                                        0\n",
       "Fiscal Period                                      0\n",
       "Report Date                                        0\n",
       "Shares (Diluted)                                   0\n",
       "Cash, Cash Equivalents & Short Term Investments    0\n",
       "Accounts & Notes Receivable                        0\n",
       "Total Current Assets                               0\n",
       "Property, Plant & Equipment, Net                   0\n",
       "Other Long Term Assets                             0\n",
       "Total Noncurrent Assets                            0\n",
       "Total Assets                                       0\n",
       "Payables & Accruals                                0\n",
       "Total Current Liabilities                          0\n",
       "Total Noncurrent Liabilities                       0\n",
       "Total Liabilities                                  0\n",
       "Share Capital & Additional Paid-In Capital         0\n",
       "Retained Earnings                                  0\n",
       "Total Equity                                       0\n",
       "dtype: int64"
      ]
     },
     "execution_count": 54,
     "metadata": {},
     "output_type": "execute_result"
    }
   ],
   "source": [
    "df_balance.isna().sum()"
   ]
  },
  {
   "cell_type": "code",
   "execution_count": 55,
   "id": "ff743ceb",
   "metadata": {},
   "outputs": [],
   "source": [
    "# Saving:\n",
    "df_balance.to_csv('Prepared Frames/company_data.csv', index=False)"
   ]
  },
  {
   "cell_type": "code",
   "execution_count": 56,
   "id": "67c05fa3",
   "metadata": {},
   "outputs": [
    {
     "data": {
      "text/plain": [
       "358"
      ]
     },
     "execution_count": 56,
     "metadata": {},
     "output_type": "execute_result"
    }
   ],
   "source": [
    "# Saving the list of dropped companies for later:\n",
    "tickers_to_drop = droppers1 + droppers2\n",
    "len(tickers_to_drop)"
   ]
  },
  {
   "cell_type": "markdown",
   "id": "21ebad80",
   "metadata": {},
   "source": [
    "# Cashflow Statements"
   ]
  },
  {
   "cell_type": "code",
   "execution_count": 57,
   "id": "a99a0177",
   "metadata": {},
   "outputs": [],
   "source": [
    "df_cashflow = pd.read_csv('./Raw Data/us-cashflow-quarterly.csv', delimiter= ';')"
   ]
  },
  {
   "cell_type": "code",
   "execution_count": 58,
   "id": "680658d6",
   "metadata": {},
   "outputs": [
    {
     "data": {
      "text/html": [
       "<div>\n",
       "<style scoped>\n",
       "    .dataframe tbody tr th:only-of-type {\n",
       "        vertical-align: middle;\n",
       "    }\n",
       "\n",
       "    .dataframe tbody tr th {\n",
       "        vertical-align: top;\n",
       "    }\n",
       "\n",
       "    .dataframe thead th {\n",
       "        text-align: right;\n",
       "    }\n",
       "</style>\n",
       "<table border=\"1\" class=\"dataframe\">\n",
       "  <thead>\n",
       "    <tr style=\"text-align: right;\">\n",
       "      <th></th>\n",
       "      <th>Ticker</th>\n",
       "      <th>SimFinId</th>\n",
       "      <th>Currency</th>\n",
       "      <th>Fiscal Year</th>\n",
       "      <th>Fiscal Period</th>\n",
       "      <th>Report Date</th>\n",
       "      <th>Publish Date</th>\n",
       "      <th>Restated Date</th>\n",
       "      <th>Shares (Basic)</th>\n",
       "      <th>Shares (Diluted)</th>\n",
       "      <th>...</th>\n",
       "      <th>Net Cash from Operating Activities</th>\n",
       "      <th>Change in Fixed Assets &amp; Intangibles</th>\n",
       "      <th>Net Change in Long Term Investment</th>\n",
       "      <th>Net Cash from Acquisitions &amp; Divestitures</th>\n",
       "      <th>Net Cash from Investing Activities</th>\n",
       "      <th>Dividends Paid</th>\n",
       "      <th>Cash from (Repayment of) Debt</th>\n",
       "      <th>Cash from (Repurchase of) Equity</th>\n",
       "      <th>Net Cash from Financing Activities</th>\n",
       "      <th>Net Change in Cash</th>\n",
       "    </tr>\n",
       "  </thead>\n",
       "  <tbody>\n",
       "    <tr>\n",
       "      <th>0</th>\n",
       "      <td>A</td>\n",
       "      <td>45846</td>\n",
       "      <td>USD</td>\n",
       "      <td>2017</td>\n",
       "      <td>Q1</td>\n",
       "      <td>2017-01-31</td>\n",
       "      <td>2017-03-08</td>\n",
       "      <td>2018-03-06</td>\n",
       "      <td>322000000.0</td>\n",
       "      <td>326000000.0</td>\n",
       "      <td>...</td>\n",
       "      <td>116000000.0</td>\n",
       "      <td>-32000000.0</td>\n",
       "      <td>NaN</td>\n",
       "      <td>-69000000.0</td>\n",
       "      <td>-101000000.0</td>\n",
       "      <td>-42000000.0</td>\n",
       "      <td>89000000.0</td>\n",
       "      <td>-93000000.0</td>\n",
       "      <td>-58000000.0</td>\n",
       "      <td>-48000000</td>\n",
       "    </tr>\n",
       "  </tbody>\n",
       "</table>\n",
       "<p>1 rows × 28 columns</p>\n",
       "</div>"
      ],
      "text/plain": [
       "  Ticker  SimFinId Currency  Fiscal Year Fiscal Period Report Date  \\\n",
       "0      A     45846      USD         2017            Q1  2017-01-31   \n",
       "\n",
       "  Publish Date Restated Date  Shares (Basic)  Shares (Diluted)  ...  \\\n",
       "0   2017-03-08    2018-03-06     322000000.0       326000000.0  ...   \n",
       "\n",
       "   Net Cash from Operating Activities  Change in Fixed Assets & Intangibles  \\\n",
       "0                         116000000.0                           -32000000.0   \n",
       "\n",
       "   Net Change in Long Term Investment  \\\n",
       "0                                 NaN   \n",
       "\n",
       "   Net Cash from Acquisitions & Divestitures  \\\n",
       "0                                -69000000.0   \n",
       "\n",
       "   Net Cash from Investing Activities  Dividends Paid  \\\n",
       "0                        -101000000.0     -42000000.0   \n",
       "\n",
       "   Cash from (Repayment of) Debt  Cash from (Repurchase of) Equity  \\\n",
       "0                     89000000.0                       -93000000.0   \n",
       "\n",
       "   Net Cash from Financing Activities  Net Change in Cash  \n",
       "0                         -58000000.0           -48000000  \n",
       "\n",
       "[1 rows x 28 columns]"
      ]
     },
     "metadata": {},
     "output_type": "display_data"
    }
   ],
   "source": [
    "display(df_cashflow.head(1))"
   ]
  },
  {
   "cell_type": "code",
   "execution_count": 59,
   "id": "62024556",
   "metadata": {},
   "outputs": [
    {
     "data": {
      "text/plain": [
       "(42894, 28)"
      ]
     },
     "execution_count": 59,
     "metadata": {},
     "output_type": "execute_result"
    }
   ],
   "source": [
    "df_cashflow.shape"
   ]
  },
  {
   "cell_type": "markdown",
   "id": "4ee3ebcf",
   "metadata": {},
   "source": [
    "## Dropping sorted out companies"
   ]
  },
  {
   "cell_type": "code",
   "execution_count": 60,
   "id": "6d20f711",
   "metadata": {},
   "outputs": [],
   "source": [
    "# We already dropped some companies, that we cannot use from the balance sheet dataframe, we will drop them also here and then assess\n",
    "# the situation\n",
    "for ticker in tickers_to_drop:\n",
    "    df_cashflow = df_cashflow[df_cashflow['Ticker'] != ticker]"
   ]
  },
  {
   "cell_type": "code",
   "execution_count": 61,
   "id": "a8d5bd4a",
   "metadata": {},
   "outputs": [
    {
     "data": {
      "text/plain": [
       "(37914, 28)"
      ]
     },
     "execution_count": 61,
     "metadata": {},
     "output_type": "execute_result"
    }
   ],
   "source": [
    "df_cashflow.shape"
   ]
  },
  {
   "cell_type": "markdown",
   "id": "e4876904",
   "metadata": {},
   "source": [
    "## Dropping Unneccesary Columns"
   ]
  },
  {
   "cell_type": "code",
   "execution_count": 62,
   "id": "de88adbb",
   "metadata": {},
   "outputs": [],
   "source": [
    "# We have again a lot of unneccessare columns, some of it even data, that we have in the balance sheet, so we drop them"
   ]
  },
  {
   "cell_type": "code",
   "execution_count": 63,
   "id": "b0869d1e",
   "metadata": {},
   "outputs": [],
   "source": [
    "to_drop = [\n",
    "    'SimFinId','Currency','Report Date', 'Publish Date', 'Restated Date', 'Shares (Basic)',\n",
    "    'Shares (Diluted)',\n",
    "]"
   ]
  },
  {
   "cell_type": "code",
   "execution_count": 64,
   "id": "99d5af84",
   "metadata": {},
   "outputs": [
    {
     "name": "stdout",
     "output_type": "stream",
     "text": [
      "(37914, 21)\n",
      "Index(['Ticker', 'Fiscal Year', 'Fiscal Period', 'Net Income/Starting Line',\n",
      "       'Depreciation & Amortization', 'Non-Cash Items',\n",
      "       'Change in Working Capital', 'Change in Accounts Receivable',\n",
      "       'Change in Inventories', 'Change in Accounts Payable',\n",
      "       'Change in Other', 'Net Cash from Operating Activities',\n",
      "       'Change in Fixed Assets & Intangibles',\n",
      "       'Net Change in Long Term Investment',\n",
      "       'Net Cash from Acquisitions & Divestitures',\n",
      "       'Net Cash from Investing Activities', 'Dividends Paid',\n",
      "       'Cash from (Repayment of) Debt', 'Cash from (Repurchase of) Equity',\n",
      "       'Net Cash from Financing Activities', 'Net Change in Cash'],\n",
      "      dtype='object')\n"
     ]
    }
   ],
   "source": [
    "df_cashflow = df_cashflow.drop(to_drop, axis = 1)\n",
    "print(df_cashflow.shape)\n",
    "print(df_cashflow.columns)"
   ]
  },
  {
   "cell_type": "markdown",
   "id": "facb8c11",
   "metadata": {},
   "source": [
    "## Checking NaNs"
   ]
  },
  {
   "cell_type": "code",
   "execution_count": 65,
   "id": "41aa62d9",
   "metadata": {},
   "outputs": [
    {
     "data": {
      "text/plain": [
       "Ticker                                           0\n",
       "Fiscal Year                                      0\n",
       "Fiscal Period                                    0\n",
       "Net Income/Starting Line                       460\n",
       "Depreciation & Amortization                    838\n",
       "Non-Cash Items                                 458\n",
       "Change in Working Capital                      653\n",
       "Change in Accounts Receivable                35480\n",
       "Change in Inventories                        36150\n",
       "Change in Accounts Payable                   35920\n",
       "Change in Other                              35087\n",
       "Net Cash from Operating Activities               2\n",
       "Change in Fixed Assets & Intangibles           723\n",
       "Net Change in Long Term Investment           24396\n",
       "Net Cash from Acquisitions & Divestitures    20828\n",
       "Net Cash from Investing Activities             198\n",
       "Dividends Paid                               20970\n",
       "Cash from (Repayment of) Debt                 6214\n",
       "Cash from (Repurchase of) Equity              7111\n",
       "Net Cash from Financing Activities             217\n",
       "Net Change in Cash                               0\n",
       "dtype: int64"
      ]
     },
     "execution_count": 65,
     "metadata": {},
     "output_type": "execute_result"
    }
   ],
   "source": [
    "df_cashflow.isna().sum()"
   ]
  },
  {
   "cell_type": "code",
   "execution_count": 66,
   "id": "f2572785",
   "metadata": {},
   "outputs": [],
   "source": [
    "# We have some columns, that almost entirely consist out of NaNs, we drop them:\n",
    "to_drop = [\n",
    "    'Change in Accounts Receivable','Change in Inventories','Change in Accounts Payable', 'Change in Other'\n",
    "]"
   ]
  },
  {
   "cell_type": "code",
   "execution_count": 67,
   "id": "469146ec",
   "metadata": {},
   "outputs": [
    {
     "name": "stdout",
     "output_type": "stream",
     "text": [
      "(37914, 17)\n",
      "Index(['Ticker', 'Fiscal Year', 'Fiscal Period', 'Net Income/Starting Line',\n",
      "       'Depreciation & Amortization', 'Non-Cash Items',\n",
      "       'Change in Working Capital', 'Net Cash from Operating Activities',\n",
      "       'Change in Fixed Assets & Intangibles',\n",
      "       'Net Change in Long Term Investment',\n",
      "       'Net Cash from Acquisitions & Divestitures',\n",
      "       'Net Cash from Investing Activities', 'Dividends Paid',\n",
      "       'Cash from (Repayment of) Debt', 'Cash from (Repurchase of) Equity',\n",
      "       'Net Cash from Financing Activities', 'Net Change in Cash'],\n",
      "      dtype='object')\n"
     ]
    }
   ],
   "source": [
    "df_cashflow = df_cashflow.drop(to_drop, axis = 1)\n",
    "print(df_cashflow.shape)\n",
    "print(df_cashflow.columns)"
   ]
  },
  {
   "cell_type": "code",
   "execution_count": 68,
   "id": "2bb10a4d",
   "metadata": {},
   "outputs": [
    {
     "data": {
      "text/plain": [
       "Ticker                                           0\n",
       "Fiscal Year                                      0\n",
       "Fiscal Period                                    0\n",
       "Net Income/Starting Line                       460\n",
       "Depreciation & Amortization                    838\n",
       "Non-Cash Items                                 458\n",
       "Change in Working Capital                      653\n",
       "Net Cash from Operating Activities               2\n",
       "Change in Fixed Assets & Intangibles           723\n",
       "Net Change in Long Term Investment           24396\n",
       "Net Cash from Acquisitions & Divestitures    20828\n",
       "Net Cash from Investing Activities             198\n",
       "Dividends Paid                               20970\n",
       "Cash from (Repayment of) Debt                 6214\n",
       "Cash from (Repurchase of) Equity              7111\n",
       "Net Cash from Financing Activities             217\n",
       "Net Change in Cash                               0\n",
       "dtype: int64"
      ]
     },
     "execution_count": 68,
     "metadata": {},
     "output_type": "execute_result"
    }
   ],
   "source": [
    "df_cashflow.isna().sum()"
   ]
  },
  {
   "cell_type": "markdown",
   "id": "19749866",
   "metadata": {},
   "source": [
    "## Filling missing values with mean\n",
    "We will try to implement the same strategy as before and fill the missing values with the means for the same company."
   ]
  },
  {
   "cell_type": "code",
   "execution_count": 69,
   "id": "b6cba007",
   "metadata": {},
   "outputs": [],
   "source": [
    "# The other columns, will fill the NaN's with the mean value for the corresponding company\n",
    "def get_mean(company,column):\n",
    "    return np.mean(df_cashflow[ (df_cashflow['Ticker']==company) & (df_cashflow[column].isna() == False) ][column])"
   ]
  },
  {
   "cell_type": "code",
   "execution_count": 70,
   "id": "2566b85d",
   "metadata": {},
   "outputs": [],
   "source": [
    "# Columns to iterate thorugh\n",
    "columns = ['Net Income/Starting Line','Depreciation & Amortization','Non-Cash Items','Change in Working Capital','Net Cash from Operating Activities',\n",
    "          'Change in Fixed Assets & Intangibles','Net Change in Long Term Investment','Net Cash from Acquisitions & Divestitures',\n",
    "          'Net Cash from Investing Activities','Dividends Paid','Cash from (Repayment of) Debt','Cash from (Repurchase of) Equity',\n",
    "          'Net Cash from Financing Activities']\n",
    "\n",
    "# Getting a list with all company tickers\n",
    "companylist = list(df_cashflow['Ticker'].unique())"
   ]
  },
  {
   "cell_type": "code",
   "execution_count": 71,
   "id": "1c3225f6",
   "metadata": {},
   "outputs": [
    {
     "name": "stdout",
     "output_type": "stream",
     "text": [
      "Net Income/Starting Line\n",
      "Depreciation & Amortization\n",
      "Non-Cash Items\n",
      "Change in Working Capital\n",
      "Net Cash from Operating Activities\n",
      "Change in Fixed Assets & Intangibles\n",
      "Net Change in Long Term Investment\n",
      "Net Cash from Acquisitions & Divestitures\n",
      "Net Cash from Investing Activities\n",
      "Dividends Paid\n",
      "Cash from (Repayment of) Debt\n",
      "Cash from (Repurchase of) Equity\n",
      "Net Cash from Financing Activities\n"
     ]
    }
   ],
   "source": [
    "# setting mean for missing NaN\n",
    "for column in columns:\n",
    "    print(column)\n",
    "    for company in companylist:\n",
    "        df_cashflow.loc[ (df_cashflow[column].isna()) & (df_cashflow['Ticker']==company), [column]] = get_mean(company,column)"
   ]
  },
  {
   "cell_type": "code",
   "execution_count": 72,
   "id": "b8563de9",
   "metadata": {},
   "outputs": [
    {
     "data": {
      "text/plain": [
       "Ticker                                           0\n",
       "Fiscal Year                                      0\n",
       "Fiscal Period                                    0\n",
       "Net Income/Starting Line                       233\n",
       "Depreciation & Amortization                    330\n",
       "Non-Cash Items                                 210\n",
       "Change in Working Capital                      228\n",
       "Net Cash from Operating Activities               0\n",
       "Change in Fixed Assets & Intangibles            78\n",
       "Net Change in Long Term Investment           17751\n",
       "Net Cash from Acquisitions & Divestitures     7829\n",
       "Net Cash from Investing Activities               3\n",
       "Dividends Paid                               17902\n",
       "Cash from (Repayment of) Debt                 1604\n",
       "Cash from (Repurchase of) Equity              1752\n",
       "Net Cash from Financing Activities               2\n",
       "Net Change in Cash                               0\n",
       "dtype: int64"
      ]
     },
     "execution_count": 72,
     "metadata": {},
     "output_type": "execute_result"
    }
   ],
   "source": [
    "df_cashflow.isna().sum()"
   ]
  },
  {
   "cell_type": "code",
   "execution_count": 73,
   "id": "c713167a",
   "metadata": {},
   "outputs": [
    {
     "data": {
      "text/plain": [
       "Ticker                                          0\n",
       "Fiscal Year                                     0\n",
       "Fiscal Period                                   0\n",
       "Net Income/Starting Line                      233\n",
       "Depreciation & Amortization                   330\n",
       "Non-Cash Items                                210\n",
       "Change in Working Capital                     228\n",
       "Net Cash from Operating Activities              0\n",
       "Change in Fixed Assets & Intangibles           78\n",
       "Net Cash from Acquisitions & Divestitures    7829\n",
       "Net Cash from Investing Activities              3\n",
       "Cash from (Repayment of) Debt                1604\n",
       "Cash from (Repurchase of) Equity             1752\n",
       "Net Cash from Financing Activities              2\n",
       "Net Change in Cash                              0\n",
       "dtype: int64"
      ]
     },
     "execution_count": 73,
     "metadata": {},
     "output_type": "execute_result"
    }
   ],
   "source": [
    "# We still have tweo columns wich make out nearle half our dataframe with NaNs, we drop them too.\n",
    "df_cashflow = df_cashflow.drop(['Net Change in Long Term Investment','Dividends Paid'],axis = 1)\n",
    "df_cashflow.isna().sum()"
   ]
  },
  {
   "cell_type": "code",
   "execution_count": 74,
   "id": "90bb851f",
   "metadata": {},
   "outputs": [
    {
     "data": {
      "text/plain": [
       "Ticker                                         0\n",
       "Fiscal Year                                    0\n",
       "Fiscal Period                                  0\n",
       "Net Income/Starting Line                     233\n",
       "Depreciation & Amortization                  330\n",
       "Non-Cash Items                               210\n",
       "Change in Working Capital                    228\n",
       "Net Cash from Operating Activities             0\n",
       "Change in Fixed Assets & Intangibles          78\n",
       "Net Cash from Acquisitions & Divestitures      0\n",
       "Net Cash from Investing Activities             0\n",
       "Cash from (Repayment of) Debt                  0\n",
       "Cash from (Repurchase of) Equity               0\n",
       "Net Cash from Financing Activities             0\n",
       "Net Change in Cash                             0\n",
       "dtype: int64"
      ]
     },
     "execution_count": 74,
     "metadata": {},
     "output_type": "execute_result"
    }
   ],
   "source": [
    "# For the column Net Cash from Acquisitions & Divestitures, 0 is a plausible value, since not every company makes an aquisition in every \n",
    "# quarter or sells part of its company. so we fill the missing values with 0.\n",
    "# The same goes for Cash from (Repayment of) Debt ,Cash from (Repurchase of) Equity and Net Cash from financing activities.\n",
    "df_cashflow.loc[df_cashflow['Net Cash from Acquisitions & Divestitures'].isna(),['Net Cash from Acquisitions & Divestitures']] = 0\n",
    "df_cashflow.loc[df_cashflow['Cash from (Repayment of) Debt'].isna(),['Cash from (Repayment of) Debt']] = 0\n",
    "df_cashflow.loc[df_cashflow['Cash from (Repurchase of) Equity'].isna(),['Cash from (Repurchase of) Equity']] = 0\n",
    "df_cashflow.loc[df_cashflow['Net Cash from Financing Activities'].isna(),['Net Cash from Financing Activities']] = 0\n",
    "df_cashflow.loc[df_cashflow['Net Cash from Investing Activities'].isna(),['Net Cash from Investing Activities']] = 0\n",
    "df_cashflow.isna().sum()"
   ]
  },
  {
   "cell_type": "code",
   "execution_count": 75,
   "id": "1f71396c",
   "metadata": {},
   "outputs": [
    {
     "data": {
      "text/plain": [
       "36"
      ]
     },
     "execution_count": 75,
     "metadata": {},
     "output_type": "execute_result"
    }
   ],
   "source": [
    "# We look for which companies are making up the rest of the NaN\n",
    "affected = []\n",
    "columns = df_cashflow.columns\n",
    "for column in columns:\n",
    "    affected.append(df_cashflow[df_cashflow[column].isna()]['Ticker'].unique())\n",
    "# Making a list of the single entries instead of an array\n",
    "droppers3 = []\n",
    "for i in range(len(affected)):\n",
    "    for x in affected[i]:\n",
    "        droppers3.append(x)\n",
    "# Removing duplicates\n",
    "droppers3 = list(set(droppers3))\n",
    "len(droppers3)"
   ]
  },
  {
   "cell_type": "code",
   "execution_count": 76,
   "id": "3c430c85",
   "metadata": {},
   "outputs": [
    {
     "data": {
      "text/plain": [
       "(37499, 15)"
      ]
     },
     "execution_count": 76,
     "metadata": {},
     "output_type": "execute_result"
    }
   ],
   "source": [
    "# We can afford to loose these companies:\n",
    "for ticker in droppers3:\n",
    "    df_cashflow = df_cashflow[df_cashflow['Ticker'] != ticker]\n",
    "df_cashflow.shape"
   ]
  },
  {
   "cell_type": "code",
   "execution_count": 77,
   "id": "f4a3a983",
   "metadata": {},
   "outputs": [
    {
     "data": {
      "text/plain": [
       "(37222, 19)"
      ]
     },
     "execution_count": 77,
     "metadata": {},
     "output_type": "execute_result"
    }
   ],
   "source": [
    "# Since we have those companies still in the Balance dataframe we drop them there too:\n",
    "for ticker in droppers3:\n",
    "    df_balance = df_balance[df_balance['Ticker'] != ticker]\n",
    "df_balance.shape"
   ]
  },
  {
   "cell_type": "markdown",
   "id": "99e26167",
   "metadata": {},
   "source": [
    "# Income Statements"
   ]
  },
  {
   "cell_type": "code",
   "execution_count": 78,
   "id": "4e354121",
   "metadata": {},
   "outputs": [],
   "source": [
    "df_income = pd.read_csv('./Raw Data/us-income-quarterly.csv', delimiter= ';')"
   ]
  },
  {
   "cell_type": "code",
   "execution_count": 79,
   "id": "6e384b01",
   "metadata": {},
   "outputs": [
    {
     "data": {
      "text/plain": [
       "Index(['Ticker', 'SimFinId', 'Currency', 'Fiscal Year', 'Fiscal Period',\n",
       "       'Report Date', 'Publish Date', 'Restated Date', 'Shares (Basic)',\n",
       "       'Shares (Diluted)', 'Revenue', 'Cost of Revenue', 'Gross Profit',\n",
       "       'Operating Expenses', 'Selling, General & Administrative',\n",
       "       'Research & Development', 'Depreciation & Amortization',\n",
       "       'Operating Income (Loss)', 'Non-Operating Income (Loss)',\n",
       "       'Interest Expense, Net', 'Pretax Income (Loss), Adj.',\n",
       "       'Abnormal Gains (Losses)', 'Pretax Income (Loss)',\n",
       "       'Income Tax (Expense) Benefit, Net',\n",
       "       'Income (Loss) from Continuing Operations',\n",
       "       'Net Extraordinary Gains (Losses)', 'Net Income',\n",
       "       'Net Income (Common)'],\n",
       "      dtype='object')"
      ]
     },
     "execution_count": 79,
     "metadata": {},
     "output_type": "execute_result"
    }
   ],
   "source": [
    "df_income.columns"
   ]
  },
  {
   "cell_type": "markdown",
   "id": "c63d3c22",
   "metadata": {},
   "source": [
    "## Dropping unneccessary columns\n",
    "The same as above"
   ]
  },
  {
   "cell_type": "code",
   "execution_count": 80,
   "id": "6c490f8a",
   "metadata": {},
   "outputs": [],
   "source": [
    "to_drop = [\n",
    "    'SimFinId','Currency','Report Date', 'Publish Date', 'Restated Date', 'Shares (Basic)',\n",
    "    'Shares (Diluted)',\n",
    "]"
   ]
  },
  {
   "cell_type": "code",
   "execution_count": 81,
   "id": "4036fefe",
   "metadata": {},
   "outputs": [],
   "source": [
    "df_income = df_income.drop(to_drop,axis = 1)"
   ]
  },
  {
   "cell_type": "markdown",
   "id": "6aca9f8a",
   "metadata": {},
   "source": [
    "## Dropping companies as before\n",
    "Since we already excluded some companies from our analysis, there is no point in keeping them here."
   ]
  },
  {
   "cell_type": "code",
   "execution_count": 82,
   "id": "251f6b84",
   "metadata": {},
   "outputs": [],
   "source": [
    "droppers_all = droppers1+droppers2+droppers3"
   ]
  },
  {
   "cell_type": "code",
   "execution_count": 83,
   "id": "c859d9bf",
   "metadata": {},
   "outputs": [],
   "source": [
    "for ticker in droppers_all:\n",
    "    df_income = df_income[df_income['Ticker'] != ticker]"
   ]
  },
  {
   "cell_type": "markdown",
   "id": "d4e11c48",
   "metadata": {},
   "source": [
    "## Searching for NaNs"
   ]
  },
  {
   "cell_type": "code",
   "execution_count": 84,
   "id": "e40e6781",
   "metadata": {},
   "outputs": [
    {
     "data": {
      "text/plain": [
       "Ticker                                          0\n",
       "Fiscal Year                                     0\n",
       "Fiscal Period                                   0\n",
       "Revenue                                       589\n",
       "Cost of Revenue                              3047\n",
       "Gross Profit                                 3071\n",
       "Operating Expenses                             51\n",
       "Selling, General & Administrative            1776\n",
       "Research & Development                      21130\n",
       "Depreciation & Amortization                 21117\n",
       "Operating Income (Loss)                         0\n",
       "Non-Operating Income (Loss)                   133\n",
       "Interest Expense, Net                        3877\n",
       "Pretax Income (Loss), Adj.                      0\n",
       "Abnormal Gains (Losses)                     15984\n",
       "Pretax Income (Loss)                            0\n",
       "Income Tax (Expense) Benefit, Net            3042\n",
       "Income (Loss) from Continuing Operations        0\n",
       "Net Extraordinary Gains (Losses)            33173\n",
       "Net Income                                      0\n",
       "Net Income (Common)                             0\n",
       "dtype: int64"
      ]
     },
     "execution_count": 84,
     "metadata": {},
     "output_type": "execute_result"
    }
   ],
   "source": [
    "df_income.isna().sum()"
   ]
  },
  {
   "cell_type": "code",
   "execution_count": 85,
   "id": "23fd4d63",
   "metadata": {},
   "outputs": [],
   "source": [
    "# We still have some NaNs to clean up, two columns make up more than 50% NaNs, we drop them.\n",
    "df_income = df_income.drop(['Research & Development','Depreciation & Amortization'], axis = 1)"
   ]
  },
  {
   "cell_type": "code",
   "execution_count": 86,
   "id": "67176982",
   "metadata": {},
   "outputs": [],
   "source": [
    "# Also some columns are for extraordinary items, we assume that since they are missing there were no extraordinary events\n",
    "# and fill them with 0.\n",
    "extras = ['Abnormal Gains (Losses)','Net Extraordinary Gains (Losses)']\n",
    "for column in extras:\n",
    "    df_income[column] = 0"
   ]
  },
  {
   "cell_type": "code",
   "execution_count": 87,
   "id": "426c3183",
   "metadata": {},
   "outputs": [],
   "source": [
    "# For the rest we again fill with the companywise mean\n",
    "# The other columns, will fill the NaN's with the mean value for the corresponding company\n",
    "def get_mean(company,column):\n",
    "    return np.mean(df_income[ (df_income['Ticker']==company) & (df_income[column].isna() == False) ][column])"
   ]
  },
  {
   "cell_type": "code",
   "execution_count": 88,
   "id": "8549ff87",
   "metadata": {},
   "outputs": [
    {
     "data": {
      "text/plain": [
       "Ticker                                         0\n",
       "Fiscal Year                                    0\n",
       "Fiscal Period                                  0\n",
       "Revenue                                      589\n",
       "Cost of Revenue                             3047\n",
       "Gross Profit                                3071\n",
       "Operating Expenses                            51\n",
       "Selling, General & Administrative           1776\n",
       "Operating Income (Loss)                        0\n",
       "Non-Operating Income (Loss)                  133\n",
       "Interest Expense, Net                       3877\n",
       "Pretax Income (Loss), Adj.                     0\n",
       "Abnormal Gains (Losses)                        0\n",
       "Pretax Income (Loss)                           0\n",
       "Income Tax (Expense) Benefit, Net           3042\n",
       "Income (Loss) from Continuing Operations       0\n",
       "Net Extraordinary Gains (Losses)               0\n",
       "Net Income                                     0\n",
       "Net Income (Common)                            0\n",
       "dtype: int64"
      ]
     },
     "execution_count": 88,
     "metadata": {},
     "output_type": "execute_result"
    }
   ],
   "source": [
    "df_income.isna().sum()"
   ]
  },
  {
   "cell_type": "code",
   "execution_count": 89,
   "id": "356d6498",
   "metadata": {},
   "outputs": [],
   "source": [
    "# Columns to iterate thorugh\n",
    "columns = ['Revenue','Cost of Revenue','Gross Profit','Operating Expenses','Selling, General & Administrative',\n",
    "           'Non-Operating Income (Loss)','Interest Expense, Net','Income Tax (Expense) Benefit, Net']\n",
    "\n",
    "# Getting a list with all company tickers\n",
    "companylist = list(df_income['Ticker'].unique())"
   ]
  },
  {
   "cell_type": "code",
   "execution_count": 90,
   "id": "ecc3963f",
   "metadata": {},
   "outputs": [
    {
     "name": "stdout",
     "output_type": "stream",
     "text": [
      "Revenue\n",
      "Cost of Revenue\n",
      "Gross Profit\n",
      "Operating Expenses\n",
      "Selling, General & Administrative\n",
      "Non-Operating Income (Loss)\n",
      "Interest Expense, Net\n",
      "Income Tax (Expense) Benefit, Net\n"
     ]
    }
   ],
   "source": [
    "# setting mean for missing NaN\n",
    "for column in columns:\n",
    "    print(column)\n",
    "    for company in companylist:\n",
    "        df_income.loc[ (df_income[column].isna()) & (df_income['Ticker']==company), [column]] = get_mean(company,column)"
   ]
  },
  {
   "cell_type": "code",
   "execution_count": 91,
   "id": "8d4e5779",
   "metadata": {},
   "outputs": [
    {
     "data": {
      "text/plain": [
       "Ticker                                         0\n",
       "Fiscal Year                                    0\n",
       "Fiscal Period                                  0\n",
       "Revenue                                      125\n",
       "Cost of Revenue                             1675\n",
       "Gross Profit                                1678\n",
       "Operating Expenses                            19\n",
       "Selling, General & Administrative           1390\n",
       "Operating Income (Loss)                        0\n",
       "Non-Operating Income (Loss)                   21\n",
       "Interest Expense, Net                       2430\n",
       "Pretax Income (Loss), Adj.                     0\n",
       "Abnormal Gains (Losses)                        0\n",
       "Pretax Income (Loss)                           0\n",
       "Income Tax (Expense) Benefit, Net           1440\n",
       "Income (Loss) from Continuing Operations       0\n",
       "Net Extraordinary Gains (Losses)               0\n",
       "Net Income                                     0\n",
       "Net Income (Common)                            0\n",
       "dtype: int64"
      ]
     },
     "execution_count": 91,
     "metadata": {},
     "output_type": "execute_result"
    }
   ],
   "source": [
    "df_income.isna().sum()"
   ]
  },
  {
   "cell_type": "markdown",
   "id": "007c86d0",
   "metadata": {},
   "source": [
    "At this point I will not delete any more companies and see if there is still a problem after choosing the companies for wich we have rating data."
   ]
  },
  {
   "cell_type": "markdown",
   "id": "e0ca6445",
   "metadata": {},
   "source": [
    "#### Saving our dataframes again:\n"
   ]
  },
  {
   "cell_type": "code",
   "execution_count": 92,
   "id": "1265c6ef",
   "metadata": {},
   "outputs": [],
   "source": [
    "df_industries.to_csv('Prepared Frames/industry_data.csv', index=False)\n",
    "df_companies.to_csv('Prepared Frames/company_data.csv', index=False)\n",
    "df_balance.to_csv('Prepared Frames/balance_data.csv', index=False)\n",
    "df_cashflow.to_csv('Prepared Frames/cashflow_data.csv', index=False)\n",
    "df_income.to_csv('Prepared Frames/income_data.csv', index=False)"
   ]
  },
  {
   "cell_type": "code",
   "execution_count": null,
   "id": "f751edcc",
   "metadata": {},
   "outputs": [],
   "source": []
  }
 ],
 "metadata": {
  "kernelspec": {
   "display_name": "Python 3 (ipykernel)",
   "language": "python",
   "name": "python3"
  },
  "language_info": {
   "codemirror_mode": {
    "name": "ipython",
    "version": 3
   },
   "file_extension": ".py",
   "mimetype": "text/x-python",
   "name": "python",
   "nbconvert_exporter": "python",
   "pygments_lexer": "ipython3",
   "version": "3.9.13"
  }
 },
 "nbformat": 4,
 "nbformat_minor": 5
}
